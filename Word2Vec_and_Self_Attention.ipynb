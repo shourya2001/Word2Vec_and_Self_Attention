{
  "nbformat": 4,
  "nbformat_minor": 0,
  "metadata": {
    "colab": {
      "provenance": [],
      "toc_visible": true
    },
    "kernelspec": {
      "name": "python3",
      "display_name": "Python 3"
    },
    "language_info": {
      "name": "python"
    },
    "widgets": {
      "application/vnd.jupyter.widget-state+json": {
        "fbb1e6fd60aa4758b47637db1f8b1282": {
          "model_module": "@jupyter-widgets/controls",
          "model_name": "HBoxModel",
          "model_module_version": "1.5.0",
          "state": {
            "_dom_classes": [],
            "_model_module": "@jupyter-widgets/controls",
            "_model_module_version": "1.5.0",
            "_model_name": "HBoxModel",
            "_view_count": null,
            "_view_module": "@jupyter-widgets/controls",
            "_view_module_version": "1.5.0",
            "_view_name": "HBoxView",
            "box_style": "",
            "children": [
              "IPY_MODEL_848fee2eb39c4c7ba2ca36ea4115c671",
              "IPY_MODEL_efbc3455c1004212bde6a3ca5ba28cee",
              "IPY_MODEL_a90d413267df45859e06533a9dddfbec"
            ],
            "layout": "IPY_MODEL_7bb1126e11ba45ad9c327ceb45164553"
          }
        },
        "848fee2eb39c4c7ba2ca36ea4115c671": {
          "model_module": "@jupyter-widgets/controls",
          "model_name": "HTMLModel",
          "model_module_version": "1.5.0",
          "state": {
            "_dom_classes": [],
            "_model_module": "@jupyter-widgets/controls",
            "_model_module_version": "1.5.0",
            "_model_name": "HTMLModel",
            "_view_count": null,
            "_view_module": "@jupyter-widgets/controls",
            "_view_module_version": "1.5.0",
            "_view_name": "HTMLView",
            "description": "",
            "description_tooltip": null,
            "layout": "IPY_MODEL_c8552f3d02074d5cb276bf97c5c54cbc",
            "placeholder": "​",
            "style": "IPY_MODEL_f250d92aa2bc4982876812893325c7c6",
            "value": "100%"
          }
        },
        "efbc3455c1004212bde6a3ca5ba28cee": {
          "model_module": "@jupyter-widgets/controls",
          "model_name": "FloatProgressModel",
          "model_module_version": "1.5.0",
          "state": {
            "_dom_classes": [],
            "_model_module": "@jupyter-widgets/controls",
            "_model_module_version": "1.5.0",
            "_model_name": "FloatProgressModel",
            "_view_count": null,
            "_view_module": "@jupyter-widgets/controls",
            "_view_module_version": "1.5.0",
            "_view_name": "ProgressView",
            "bar_style": "success",
            "description": "",
            "description_tooltip": null,
            "layout": "IPY_MODEL_f8d947fd444643aabf1f3ed4b849dbe6",
            "max": 316243,
            "min": 0,
            "orientation": "horizontal",
            "style": "IPY_MODEL_e35cd114bf414d9a8b58379e6394de43",
            "value": 316243
          }
        },
        "a90d413267df45859e06533a9dddfbec": {
          "model_module": "@jupyter-widgets/controls",
          "model_name": "HTMLModel",
          "model_module_version": "1.5.0",
          "state": {
            "_dom_classes": [],
            "_model_module": "@jupyter-widgets/controls",
            "_model_module_version": "1.5.0",
            "_model_name": "HTMLModel",
            "_view_count": null,
            "_view_module": "@jupyter-widgets/controls",
            "_view_module_version": "1.5.0",
            "_view_name": "HTMLView",
            "description": "",
            "description_tooltip": null,
            "layout": "IPY_MODEL_4300355a662c4c4ea0d4451ae9e4d384",
            "placeholder": "​",
            "style": "IPY_MODEL_e67a07707a1e43269439604e3b15c7c3",
            "value": " 316243/316243 [00:05&lt;00:00, 65936.61it/s]"
          }
        },
        "7bb1126e11ba45ad9c327ceb45164553": {
          "model_module": "@jupyter-widgets/base",
          "model_name": "LayoutModel",
          "model_module_version": "1.2.0",
          "state": {
            "_model_module": "@jupyter-widgets/base",
            "_model_module_version": "1.2.0",
            "_model_name": "LayoutModel",
            "_view_count": null,
            "_view_module": "@jupyter-widgets/base",
            "_view_module_version": "1.2.0",
            "_view_name": "LayoutView",
            "align_content": null,
            "align_items": null,
            "align_self": null,
            "border": null,
            "bottom": null,
            "display": null,
            "flex": null,
            "flex_flow": null,
            "grid_area": null,
            "grid_auto_columns": null,
            "grid_auto_flow": null,
            "grid_auto_rows": null,
            "grid_column": null,
            "grid_gap": null,
            "grid_row": null,
            "grid_template_areas": null,
            "grid_template_columns": null,
            "grid_template_rows": null,
            "height": null,
            "justify_content": null,
            "justify_items": null,
            "left": null,
            "margin": null,
            "max_height": null,
            "max_width": null,
            "min_height": null,
            "min_width": null,
            "object_fit": null,
            "object_position": null,
            "order": null,
            "overflow": null,
            "overflow_x": null,
            "overflow_y": null,
            "padding": null,
            "right": null,
            "top": null,
            "visibility": null,
            "width": null
          }
        },
        "c8552f3d02074d5cb276bf97c5c54cbc": {
          "model_module": "@jupyter-widgets/base",
          "model_name": "LayoutModel",
          "model_module_version": "1.2.0",
          "state": {
            "_model_module": "@jupyter-widgets/base",
            "_model_module_version": "1.2.0",
            "_model_name": "LayoutModel",
            "_view_count": null,
            "_view_module": "@jupyter-widgets/base",
            "_view_module_version": "1.2.0",
            "_view_name": "LayoutView",
            "align_content": null,
            "align_items": null,
            "align_self": null,
            "border": null,
            "bottom": null,
            "display": null,
            "flex": null,
            "flex_flow": null,
            "grid_area": null,
            "grid_auto_columns": null,
            "grid_auto_flow": null,
            "grid_auto_rows": null,
            "grid_column": null,
            "grid_gap": null,
            "grid_row": null,
            "grid_template_areas": null,
            "grid_template_columns": null,
            "grid_template_rows": null,
            "height": null,
            "justify_content": null,
            "justify_items": null,
            "left": null,
            "margin": null,
            "max_height": null,
            "max_width": null,
            "min_height": null,
            "min_width": null,
            "object_fit": null,
            "object_position": null,
            "order": null,
            "overflow": null,
            "overflow_x": null,
            "overflow_y": null,
            "padding": null,
            "right": null,
            "top": null,
            "visibility": null,
            "width": null
          }
        },
        "f250d92aa2bc4982876812893325c7c6": {
          "model_module": "@jupyter-widgets/controls",
          "model_name": "DescriptionStyleModel",
          "model_module_version": "1.5.0",
          "state": {
            "_model_module": "@jupyter-widgets/controls",
            "_model_module_version": "1.5.0",
            "_model_name": "DescriptionStyleModel",
            "_view_count": null,
            "_view_module": "@jupyter-widgets/base",
            "_view_module_version": "1.2.0",
            "_view_name": "StyleView",
            "description_width": ""
          }
        },
        "f8d947fd444643aabf1f3ed4b849dbe6": {
          "model_module": "@jupyter-widgets/base",
          "model_name": "LayoutModel",
          "model_module_version": "1.2.0",
          "state": {
            "_model_module": "@jupyter-widgets/base",
            "_model_module_version": "1.2.0",
            "_model_name": "LayoutModel",
            "_view_count": null,
            "_view_module": "@jupyter-widgets/base",
            "_view_module_version": "1.2.0",
            "_view_name": "LayoutView",
            "align_content": null,
            "align_items": null,
            "align_self": null,
            "border": null,
            "bottom": null,
            "display": null,
            "flex": null,
            "flex_flow": null,
            "grid_area": null,
            "grid_auto_columns": null,
            "grid_auto_flow": null,
            "grid_auto_rows": null,
            "grid_column": null,
            "grid_gap": null,
            "grid_row": null,
            "grid_template_areas": null,
            "grid_template_columns": null,
            "grid_template_rows": null,
            "height": null,
            "justify_content": null,
            "justify_items": null,
            "left": null,
            "margin": null,
            "max_height": null,
            "max_width": null,
            "min_height": null,
            "min_width": null,
            "object_fit": null,
            "object_position": null,
            "order": null,
            "overflow": null,
            "overflow_x": null,
            "overflow_y": null,
            "padding": null,
            "right": null,
            "top": null,
            "visibility": null,
            "width": null
          }
        },
        "e35cd114bf414d9a8b58379e6394de43": {
          "model_module": "@jupyter-widgets/controls",
          "model_name": "ProgressStyleModel",
          "model_module_version": "1.5.0",
          "state": {
            "_model_module": "@jupyter-widgets/controls",
            "_model_module_version": "1.5.0",
            "_model_name": "ProgressStyleModel",
            "_view_count": null,
            "_view_module": "@jupyter-widgets/base",
            "_view_module_version": "1.2.0",
            "_view_name": "StyleView",
            "bar_color": null,
            "description_width": ""
          }
        },
        "4300355a662c4c4ea0d4451ae9e4d384": {
          "model_module": "@jupyter-widgets/base",
          "model_name": "LayoutModel",
          "model_module_version": "1.2.0",
          "state": {
            "_model_module": "@jupyter-widgets/base",
            "_model_module_version": "1.2.0",
            "_model_name": "LayoutModel",
            "_view_count": null,
            "_view_module": "@jupyter-widgets/base",
            "_view_module_version": "1.2.0",
            "_view_name": "LayoutView",
            "align_content": null,
            "align_items": null,
            "align_self": null,
            "border": null,
            "bottom": null,
            "display": null,
            "flex": null,
            "flex_flow": null,
            "grid_area": null,
            "grid_auto_columns": null,
            "grid_auto_flow": null,
            "grid_auto_rows": null,
            "grid_column": null,
            "grid_gap": null,
            "grid_row": null,
            "grid_template_areas": null,
            "grid_template_columns": null,
            "grid_template_rows": null,
            "height": null,
            "justify_content": null,
            "justify_items": null,
            "left": null,
            "margin": null,
            "max_height": null,
            "max_width": null,
            "min_height": null,
            "min_width": null,
            "object_fit": null,
            "object_position": null,
            "order": null,
            "overflow": null,
            "overflow_x": null,
            "overflow_y": null,
            "padding": null,
            "right": null,
            "top": null,
            "visibility": null,
            "width": null
          }
        },
        "e67a07707a1e43269439604e3b15c7c3": {
          "model_module": "@jupyter-widgets/controls",
          "model_name": "DescriptionStyleModel",
          "model_module_version": "1.5.0",
          "state": {
            "_model_module": "@jupyter-widgets/controls",
            "_model_module_version": "1.5.0",
            "_model_name": "DescriptionStyleModel",
            "_view_count": null,
            "_view_module": "@jupyter-widgets/base",
            "_view_module_version": "1.2.0",
            "_view_name": "StyleView",
            "description_width": ""
          }
        },
        "59604fe99807470b912b50db1284486f": {
          "model_module": "@jupyter-widgets/controls",
          "model_name": "HBoxModel",
          "model_module_version": "1.5.0",
          "state": {
            "_dom_classes": [],
            "_model_module": "@jupyter-widgets/controls",
            "_model_module_version": "1.5.0",
            "_model_name": "HBoxModel",
            "_view_count": null,
            "_view_module": "@jupyter-widgets/controls",
            "_view_module_version": "1.5.0",
            "_view_name": "HBoxView",
            "box_style": "",
            "children": [
              "IPY_MODEL_2424caab324c4d439b17ece656ac7652",
              "IPY_MODEL_b5975aa11caa4950a024d9b1c893728b",
              "IPY_MODEL_a48290939a314417b46dcc6bb3bbdc71"
            ],
            "layout": "IPY_MODEL_e9ee096156844a0ebd402b49cbd9f9d3"
          }
        },
        "2424caab324c4d439b17ece656ac7652": {
          "model_module": "@jupyter-widgets/controls",
          "model_name": "HTMLModel",
          "model_module_version": "1.5.0",
          "state": {
            "_dom_classes": [],
            "_model_module": "@jupyter-widgets/controls",
            "_model_module_version": "1.5.0",
            "_model_name": "HTMLModel",
            "_view_count": null,
            "_view_module": "@jupyter-widgets/controls",
            "_view_module_version": "1.5.0",
            "_view_name": "HTMLView",
            "description": "",
            "description_tooltip": null,
            "layout": "IPY_MODEL_c52ed7b908ef464eb14e8f5eb34eed98",
            "placeholder": "​",
            "style": "IPY_MODEL_a937c00b0dcf4e88b95e90731912094b",
            "value": "100%"
          }
        },
        "b5975aa11caa4950a024d9b1c893728b": {
          "model_module": "@jupyter-widgets/controls",
          "model_name": "FloatProgressModel",
          "model_module_version": "1.5.0",
          "state": {
            "_dom_classes": [],
            "_model_module": "@jupyter-widgets/controls",
            "_model_module_version": "1.5.0",
            "_model_name": "FloatProgressModel",
            "_view_count": null,
            "_view_module": "@jupyter-widgets/controls",
            "_view_module_version": "1.5.0",
            "_view_name": "ProgressView",
            "bar_style": "success",
            "description": "",
            "description_tooltip": null,
            "layout": "IPY_MODEL_45bb577857b4422e931e7740ec90b813",
            "max": 19559,
            "min": 0,
            "orientation": "horizontal",
            "style": "IPY_MODEL_1d1a0f791e1b4e5bb84dc2203dbec806",
            "value": 19559
          }
        },
        "a48290939a314417b46dcc6bb3bbdc71": {
          "model_module": "@jupyter-widgets/controls",
          "model_name": "HTMLModel",
          "model_module_version": "1.5.0",
          "state": {
            "_dom_classes": [],
            "_model_module": "@jupyter-widgets/controls",
            "_model_module_version": "1.5.0",
            "_model_name": "HTMLModel",
            "_view_count": null,
            "_view_module": "@jupyter-widgets/controls",
            "_view_module_version": "1.5.0",
            "_view_name": "HTMLView",
            "description": "",
            "description_tooltip": null,
            "layout": "IPY_MODEL_6fd65c56d83b43888d72ed5e7ce4694b",
            "placeholder": "​",
            "style": "IPY_MODEL_cb18f6a1f0bd468dada2bd7ad376d210",
            "value": " 19559/19559 [00:35&lt;00:00, 492.43it/s]"
          }
        },
        "e9ee096156844a0ebd402b49cbd9f9d3": {
          "model_module": "@jupyter-widgets/base",
          "model_name": "LayoutModel",
          "model_module_version": "1.2.0",
          "state": {
            "_model_module": "@jupyter-widgets/base",
            "_model_module_version": "1.2.0",
            "_model_name": "LayoutModel",
            "_view_count": null,
            "_view_module": "@jupyter-widgets/base",
            "_view_module_version": "1.2.0",
            "_view_name": "LayoutView",
            "align_content": null,
            "align_items": null,
            "align_self": null,
            "border": null,
            "bottom": null,
            "display": null,
            "flex": null,
            "flex_flow": null,
            "grid_area": null,
            "grid_auto_columns": null,
            "grid_auto_flow": null,
            "grid_auto_rows": null,
            "grid_column": null,
            "grid_gap": null,
            "grid_row": null,
            "grid_template_areas": null,
            "grid_template_columns": null,
            "grid_template_rows": null,
            "height": null,
            "justify_content": null,
            "justify_items": null,
            "left": null,
            "margin": null,
            "max_height": null,
            "max_width": null,
            "min_height": null,
            "min_width": null,
            "object_fit": null,
            "object_position": null,
            "order": null,
            "overflow": null,
            "overflow_x": null,
            "overflow_y": null,
            "padding": null,
            "right": null,
            "top": null,
            "visibility": null,
            "width": null
          }
        },
        "c52ed7b908ef464eb14e8f5eb34eed98": {
          "model_module": "@jupyter-widgets/base",
          "model_name": "LayoutModel",
          "model_module_version": "1.2.0",
          "state": {
            "_model_module": "@jupyter-widgets/base",
            "_model_module_version": "1.2.0",
            "_model_name": "LayoutModel",
            "_view_count": null,
            "_view_module": "@jupyter-widgets/base",
            "_view_module_version": "1.2.0",
            "_view_name": "LayoutView",
            "align_content": null,
            "align_items": null,
            "align_self": null,
            "border": null,
            "bottom": null,
            "display": null,
            "flex": null,
            "flex_flow": null,
            "grid_area": null,
            "grid_auto_columns": null,
            "grid_auto_flow": null,
            "grid_auto_rows": null,
            "grid_column": null,
            "grid_gap": null,
            "grid_row": null,
            "grid_template_areas": null,
            "grid_template_columns": null,
            "grid_template_rows": null,
            "height": null,
            "justify_content": null,
            "justify_items": null,
            "left": null,
            "margin": null,
            "max_height": null,
            "max_width": null,
            "min_height": null,
            "min_width": null,
            "object_fit": null,
            "object_position": null,
            "order": null,
            "overflow": null,
            "overflow_x": null,
            "overflow_y": null,
            "padding": null,
            "right": null,
            "top": null,
            "visibility": null,
            "width": null
          }
        },
        "a937c00b0dcf4e88b95e90731912094b": {
          "model_module": "@jupyter-widgets/controls",
          "model_name": "DescriptionStyleModel",
          "model_module_version": "1.5.0",
          "state": {
            "_model_module": "@jupyter-widgets/controls",
            "_model_module_version": "1.5.0",
            "_model_name": "DescriptionStyleModel",
            "_view_count": null,
            "_view_module": "@jupyter-widgets/base",
            "_view_module_version": "1.2.0",
            "_view_name": "StyleView",
            "description_width": ""
          }
        },
        "45bb577857b4422e931e7740ec90b813": {
          "model_module": "@jupyter-widgets/base",
          "model_name": "LayoutModel",
          "model_module_version": "1.2.0",
          "state": {
            "_model_module": "@jupyter-widgets/base",
            "_model_module_version": "1.2.0",
            "_model_name": "LayoutModel",
            "_view_count": null,
            "_view_module": "@jupyter-widgets/base",
            "_view_module_version": "1.2.0",
            "_view_name": "LayoutView",
            "align_content": null,
            "align_items": null,
            "align_self": null,
            "border": null,
            "bottom": null,
            "display": null,
            "flex": null,
            "flex_flow": null,
            "grid_area": null,
            "grid_auto_columns": null,
            "grid_auto_flow": null,
            "grid_auto_rows": null,
            "grid_column": null,
            "grid_gap": null,
            "grid_row": null,
            "grid_template_areas": null,
            "grid_template_columns": null,
            "grid_template_rows": null,
            "height": null,
            "justify_content": null,
            "justify_items": null,
            "left": null,
            "margin": null,
            "max_height": null,
            "max_width": null,
            "min_height": null,
            "min_width": null,
            "object_fit": null,
            "object_position": null,
            "order": null,
            "overflow": null,
            "overflow_x": null,
            "overflow_y": null,
            "padding": null,
            "right": null,
            "top": null,
            "visibility": null,
            "width": null
          }
        },
        "1d1a0f791e1b4e5bb84dc2203dbec806": {
          "model_module": "@jupyter-widgets/controls",
          "model_name": "ProgressStyleModel",
          "model_module_version": "1.5.0",
          "state": {
            "_model_module": "@jupyter-widgets/controls",
            "_model_module_version": "1.5.0",
            "_model_name": "ProgressStyleModel",
            "_view_count": null,
            "_view_module": "@jupyter-widgets/base",
            "_view_module_version": "1.2.0",
            "_view_name": "StyleView",
            "bar_color": null,
            "description_width": ""
          }
        },
        "6fd65c56d83b43888d72ed5e7ce4694b": {
          "model_module": "@jupyter-widgets/base",
          "model_name": "LayoutModel",
          "model_module_version": "1.2.0",
          "state": {
            "_model_module": "@jupyter-widgets/base",
            "_model_module_version": "1.2.0",
            "_model_name": "LayoutModel",
            "_view_count": null,
            "_view_module": "@jupyter-widgets/base",
            "_view_module_version": "1.2.0",
            "_view_name": "LayoutView",
            "align_content": null,
            "align_items": null,
            "align_self": null,
            "border": null,
            "bottom": null,
            "display": null,
            "flex": null,
            "flex_flow": null,
            "grid_area": null,
            "grid_auto_columns": null,
            "grid_auto_flow": null,
            "grid_auto_rows": null,
            "grid_column": null,
            "grid_gap": null,
            "grid_row": null,
            "grid_template_areas": null,
            "grid_template_columns": null,
            "grid_template_rows": null,
            "height": null,
            "justify_content": null,
            "justify_items": null,
            "left": null,
            "margin": null,
            "max_height": null,
            "max_width": null,
            "min_height": null,
            "min_width": null,
            "object_fit": null,
            "object_position": null,
            "order": null,
            "overflow": null,
            "overflow_x": null,
            "overflow_y": null,
            "padding": null,
            "right": null,
            "top": null,
            "visibility": null,
            "width": null
          }
        },
        "cb18f6a1f0bd468dada2bd7ad376d210": {
          "model_module": "@jupyter-widgets/controls",
          "model_name": "DescriptionStyleModel",
          "model_module_version": "1.5.0",
          "state": {
            "_model_module": "@jupyter-widgets/controls",
            "_model_module_version": "1.5.0",
            "_model_name": "DescriptionStyleModel",
            "_view_count": null,
            "_view_module": "@jupyter-widgets/base",
            "_view_module_version": "1.2.0",
            "_view_name": "StyleView",
            "description_width": ""
          }
        },
        "4b5a61e1de384c3383a5528c35990e7f": {
          "model_module": "@jupyter-widgets/controls",
          "model_name": "HBoxModel",
          "model_module_version": "1.5.0",
          "state": {
            "_dom_classes": [],
            "_model_module": "@jupyter-widgets/controls",
            "_model_module_version": "1.5.0",
            "_model_name": "HBoxModel",
            "_view_count": null,
            "_view_module": "@jupyter-widgets/controls",
            "_view_module_version": "1.5.0",
            "_view_name": "HBoxView",
            "box_style": "",
            "children": [
              "IPY_MODEL_ccc77124e3684ed0bc7887c7a12bb74b",
              "IPY_MODEL_605c571535664beaa5787a03d7225f63",
              "IPY_MODEL_369699966eed448c89e68dc3a0facfa1"
            ],
            "layout": "IPY_MODEL_d9000d0012504fc5a4768929c64fedf4"
          }
        },
        "ccc77124e3684ed0bc7887c7a12bb74b": {
          "model_module": "@jupyter-widgets/controls",
          "model_name": "HTMLModel",
          "model_module_version": "1.5.0",
          "state": {
            "_dom_classes": [],
            "_model_module": "@jupyter-widgets/controls",
            "_model_module_version": "1.5.0",
            "_model_name": "HTMLModel",
            "_view_count": null,
            "_view_module": "@jupyter-widgets/controls",
            "_view_module_version": "1.5.0",
            "_view_name": "HTMLView",
            "description": "",
            "description_tooltip": null,
            "layout": "IPY_MODEL_4a6f358d2b9a42f8a9bef4a239c06a22",
            "placeholder": "​",
            "style": "IPY_MODEL_795248948d73469fb707212da330c591",
            "value": "100%"
          }
        },
        "605c571535664beaa5787a03d7225f63": {
          "model_module": "@jupyter-widgets/controls",
          "model_name": "FloatProgressModel",
          "model_module_version": "1.5.0",
          "state": {
            "_dom_classes": [],
            "_model_module": "@jupyter-widgets/controls",
            "_model_module_version": "1.5.0",
            "_model_name": "FloatProgressModel",
            "_view_count": null,
            "_view_module": "@jupyter-widgets/controls",
            "_view_module_version": "1.5.0",
            "_view_name": "ProgressView",
            "bar_style": "success",
            "description": "",
            "description_tooltip": null,
            "layout": "IPY_MODEL_b9ddff08c079484f85dfadc30d7d8fc2",
            "max": 50,
            "min": 0,
            "orientation": "horizontal",
            "style": "IPY_MODEL_7e9057fdcb3b4eeca096675998241261",
            "value": 50
          }
        },
        "369699966eed448c89e68dc3a0facfa1": {
          "model_module": "@jupyter-widgets/controls",
          "model_name": "HTMLModel",
          "model_module_version": "1.5.0",
          "state": {
            "_dom_classes": [],
            "_model_module": "@jupyter-widgets/controls",
            "_model_module_version": "1.5.0",
            "_model_name": "HTMLModel",
            "_view_count": null,
            "_view_module": "@jupyter-widgets/controls",
            "_view_module_version": "1.5.0",
            "_view_name": "HTMLView",
            "description": "",
            "description_tooltip": null,
            "layout": "IPY_MODEL_6ea8cf767fde4f8c88f7d42e72de6447",
            "placeholder": "​",
            "style": "IPY_MODEL_659ed2fab78b434d82c840ebae96df78",
            "value": " 50/50 [00:12&lt;00:00,  4.21it/s]"
          }
        },
        "d9000d0012504fc5a4768929c64fedf4": {
          "model_module": "@jupyter-widgets/base",
          "model_name": "LayoutModel",
          "model_module_version": "1.2.0",
          "state": {
            "_model_module": "@jupyter-widgets/base",
            "_model_module_version": "1.2.0",
            "_model_name": "LayoutModel",
            "_view_count": null,
            "_view_module": "@jupyter-widgets/base",
            "_view_module_version": "1.2.0",
            "_view_name": "LayoutView",
            "align_content": null,
            "align_items": null,
            "align_self": null,
            "border": null,
            "bottom": null,
            "display": null,
            "flex": null,
            "flex_flow": null,
            "grid_area": null,
            "grid_auto_columns": null,
            "grid_auto_flow": null,
            "grid_auto_rows": null,
            "grid_column": null,
            "grid_gap": null,
            "grid_row": null,
            "grid_template_areas": null,
            "grid_template_columns": null,
            "grid_template_rows": null,
            "height": null,
            "justify_content": null,
            "justify_items": null,
            "left": null,
            "margin": null,
            "max_height": null,
            "max_width": null,
            "min_height": null,
            "min_width": null,
            "object_fit": null,
            "object_position": null,
            "order": null,
            "overflow": null,
            "overflow_x": null,
            "overflow_y": null,
            "padding": null,
            "right": null,
            "top": null,
            "visibility": null,
            "width": null
          }
        },
        "4a6f358d2b9a42f8a9bef4a239c06a22": {
          "model_module": "@jupyter-widgets/base",
          "model_name": "LayoutModel",
          "model_module_version": "1.2.0",
          "state": {
            "_model_module": "@jupyter-widgets/base",
            "_model_module_version": "1.2.0",
            "_model_name": "LayoutModel",
            "_view_count": null,
            "_view_module": "@jupyter-widgets/base",
            "_view_module_version": "1.2.0",
            "_view_name": "LayoutView",
            "align_content": null,
            "align_items": null,
            "align_self": null,
            "border": null,
            "bottom": null,
            "display": null,
            "flex": null,
            "flex_flow": null,
            "grid_area": null,
            "grid_auto_columns": null,
            "grid_auto_flow": null,
            "grid_auto_rows": null,
            "grid_column": null,
            "grid_gap": null,
            "grid_row": null,
            "grid_template_areas": null,
            "grid_template_columns": null,
            "grid_template_rows": null,
            "height": null,
            "justify_content": null,
            "justify_items": null,
            "left": null,
            "margin": null,
            "max_height": null,
            "max_width": null,
            "min_height": null,
            "min_width": null,
            "object_fit": null,
            "object_position": null,
            "order": null,
            "overflow": null,
            "overflow_x": null,
            "overflow_y": null,
            "padding": null,
            "right": null,
            "top": null,
            "visibility": null,
            "width": null
          }
        },
        "795248948d73469fb707212da330c591": {
          "model_module": "@jupyter-widgets/controls",
          "model_name": "DescriptionStyleModel",
          "model_module_version": "1.5.0",
          "state": {
            "_model_module": "@jupyter-widgets/controls",
            "_model_module_version": "1.5.0",
            "_model_name": "DescriptionStyleModel",
            "_view_count": null,
            "_view_module": "@jupyter-widgets/base",
            "_view_module_version": "1.2.0",
            "_view_name": "StyleView",
            "description_width": ""
          }
        },
        "b9ddff08c079484f85dfadc30d7d8fc2": {
          "model_module": "@jupyter-widgets/base",
          "model_name": "LayoutModel",
          "model_module_version": "1.2.0",
          "state": {
            "_model_module": "@jupyter-widgets/base",
            "_model_module_version": "1.2.0",
            "_model_name": "LayoutModel",
            "_view_count": null,
            "_view_module": "@jupyter-widgets/base",
            "_view_module_version": "1.2.0",
            "_view_name": "LayoutView",
            "align_content": null,
            "align_items": null,
            "align_self": null,
            "border": null,
            "bottom": null,
            "display": null,
            "flex": null,
            "flex_flow": null,
            "grid_area": null,
            "grid_auto_columns": null,
            "grid_auto_flow": null,
            "grid_auto_rows": null,
            "grid_column": null,
            "grid_gap": null,
            "grid_row": null,
            "grid_template_areas": null,
            "grid_template_columns": null,
            "grid_template_rows": null,
            "height": null,
            "justify_content": null,
            "justify_items": null,
            "left": null,
            "margin": null,
            "max_height": null,
            "max_width": null,
            "min_height": null,
            "min_width": null,
            "object_fit": null,
            "object_position": null,
            "order": null,
            "overflow": null,
            "overflow_x": null,
            "overflow_y": null,
            "padding": null,
            "right": null,
            "top": null,
            "visibility": null,
            "width": null
          }
        },
        "7e9057fdcb3b4eeca096675998241261": {
          "model_module": "@jupyter-widgets/controls",
          "model_name": "ProgressStyleModel",
          "model_module_version": "1.5.0",
          "state": {
            "_model_module": "@jupyter-widgets/controls",
            "_model_module_version": "1.5.0",
            "_model_name": "ProgressStyleModel",
            "_view_count": null,
            "_view_module": "@jupyter-widgets/base",
            "_view_module_version": "1.2.0",
            "_view_name": "StyleView",
            "bar_color": null,
            "description_width": ""
          }
        },
        "6ea8cf767fde4f8c88f7d42e72de6447": {
          "model_module": "@jupyter-widgets/base",
          "model_name": "LayoutModel",
          "model_module_version": "1.2.0",
          "state": {
            "_model_module": "@jupyter-widgets/base",
            "_model_module_version": "1.2.0",
            "_model_name": "LayoutModel",
            "_view_count": null,
            "_view_module": "@jupyter-widgets/base",
            "_view_module_version": "1.2.0",
            "_view_name": "LayoutView",
            "align_content": null,
            "align_items": null,
            "align_self": null,
            "border": null,
            "bottom": null,
            "display": null,
            "flex": null,
            "flex_flow": null,
            "grid_area": null,
            "grid_auto_columns": null,
            "grid_auto_flow": null,
            "grid_auto_rows": null,
            "grid_column": null,
            "grid_gap": null,
            "grid_row": null,
            "grid_template_areas": null,
            "grid_template_columns": null,
            "grid_template_rows": null,
            "height": null,
            "justify_content": null,
            "justify_items": null,
            "left": null,
            "margin": null,
            "max_height": null,
            "max_width": null,
            "min_height": null,
            "min_width": null,
            "object_fit": null,
            "object_position": null,
            "order": null,
            "overflow": null,
            "overflow_x": null,
            "overflow_y": null,
            "padding": null,
            "right": null,
            "top": null,
            "visibility": null,
            "width": null
          }
        },
        "659ed2fab78b434d82c840ebae96df78": {
          "model_module": "@jupyter-widgets/controls",
          "model_name": "DescriptionStyleModel",
          "model_module_version": "1.5.0",
          "state": {
            "_model_module": "@jupyter-widgets/controls",
            "_model_module_version": "1.5.0",
            "_model_name": "DescriptionStyleModel",
            "_view_count": null,
            "_view_module": "@jupyter-widgets/base",
            "_view_module_version": "1.2.0",
            "_view_name": "StyleView",
            "description_width": ""
          }
        },
        "af645f72b8474a0da08676118b5fde47": {
          "model_module": "@jupyter-widgets/controls",
          "model_name": "HBoxModel",
          "model_module_version": "1.5.0",
          "state": {
            "_dom_classes": [],
            "_model_module": "@jupyter-widgets/controls",
            "_model_module_version": "1.5.0",
            "_model_name": "HBoxModel",
            "_view_count": null,
            "_view_module": "@jupyter-widgets/controls",
            "_view_module_version": "1.5.0",
            "_view_name": "HBoxView",
            "box_style": "",
            "children": [
              "IPY_MODEL_88dfe7fccca949b3aeb7863c6eac8d58",
              "IPY_MODEL_cdd456a3173b45609cfa0a15355df447",
              "IPY_MODEL_81c5e3fc3392418cb960e8332bac658e"
            ],
            "layout": "IPY_MODEL_6e7ccaca1d444500967b1e501674a292"
          }
        },
        "88dfe7fccca949b3aeb7863c6eac8d58": {
          "model_module": "@jupyter-widgets/controls",
          "model_name": "HTMLModel",
          "model_module_version": "1.5.0",
          "state": {
            "_dom_classes": [],
            "_model_module": "@jupyter-widgets/controls",
            "_model_module_version": "1.5.0",
            "_model_name": "HTMLModel",
            "_view_count": null,
            "_view_module": "@jupyter-widgets/controls",
            "_view_module_version": "1.5.0",
            "_view_name": "HTMLView",
            "description": "",
            "description_tooltip": null,
            "layout": "IPY_MODEL_bb59e5485fc343ecbaf9a104e126270f",
            "placeholder": "​",
            "style": "IPY_MODEL_be0a1af526574ee6b661323d3f259a9f",
            "value": "100%"
          }
        },
        "cdd456a3173b45609cfa0a15355df447": {
          "model_module": "@jupyter-widgets/controls",
          "model_name": "FloatProgressModel",
          "model_module_version": "1.5.0",
          "state": {
            "_dom_classes": [],
            "_model_module": "@jupyter-widgets/controls",
            "_model_module_version": "1.5.0",
            "_model_name": "FloatProgressModel",
            "_view_count": null,
            "_view_module": "@jupyter-widgets/controls",
            "_view_module_version": "1.5.0",
            "_view_name": "ProgressView",
            "bar_style": "success",
            "description": "",
            "description_tooltip": null,
            "layout": "IPY_MODEL_2b357f62a22d4cb8b91c82fa4df47a27",
            "max": 500000,
            "min": 0,
            "orientation": "horizontal",
            "style": "IPY_MODEL_1afa6f563fe34c0eb7f6c8c8dff05f35",
            "value": 500000
          }
        },
        "81c5e3fc3392418cb960e8332bac658e": {
          "model_module": "@jupyter-widgets/controls",
          "model_name": "HTMLModel",
          "model_module_version": "1.5.0",
          "state": {
            "_dom_classes": [],
            "_model_module": "@jupyter-widgets/controls",
            "_model_module_version": "1.5.0",
            "_model_name": "HTMLModel",
            "_view_count": null,
            "_view_module": "@jupyter-widgets/controls",
            "_view_module_version": "1.5.0",
            "_view_name": "HTMLView",
            "description": "",
            "description_tooltip": null,
            "layout": "IPY_MODEL_e7144199fc6b4028a3607deb4c7501f8",
            "placeholder": "​",
            "style": "IPY_MODEL_149fc47390cb42f09ee9be9550ad7fd0",
            "value": " 500000/500000 [10:28&lt;00:00, 844.88it/s]"
          }
        },
        "6e7ccaca1d444500967b1e501674a292": {
          "model_module": "@jupyter-widgets/base",
          "model_name": "LayoutModel",
          "model_module_version": "1.2.0",
          "state": {
            "_model_module": "@jupyter-widgets/base",
            "_model_module_version": "1.2.0",
            "_model_name": "LayoutModel",
            "_view_count": null,
            "_view_module": "@jupyter-widgets/base",
            "_view_module_version": "1.2.0",
            "_view_name": "LayoutView",
            "align_content": null,
            "align_items": null,
            "align_self": null,
            "border": null,
            "bottom": null,
            "display": null,
            "flex": null,
            "flex_flow": null,
            "grid_area": null,
            "grid_auto_columns": null,
            "grid_auto_flow": null,
            "grid_auto_rows": null,
            "grid_column": null,
            "grid_gap": null,
            "grid_row": null,
            "grid_template_areas": null,
            "grid_template_columns": null,
            "grid_template_rows": null,
            "height": null,
            "justify_content": null,
            "justify_items": null,
            "left": null,
            "margin": null,
            "max_height": null,
            "max_width": null,
            "min_height": null,
            "min_width": null,
            "object_fit": null,
            "object_position": null,
            "order": null,
            "overflow": null,
            "overflow_x": null,
            "overflow_y": null,
            "padding": null,
            "right": null,
            "top": null,
            "visibility": null,
            "width": null
          }
        },
        "bb59e5485fc343ecbaf9a104e126270f": {
          "model_module": "@jupyter-widgets/base",
          "model_name": "LayoutModel",
          "model_module_version": "1.2.0",
          "state": {
            "_model_module": "@jupyter-widgets/base",
            "_model_module_version": "1.2.0",
            "_model_name": "LayoutModel",
            "_view_count": null,
            "_view_module": "@jupyter-widgets/base",
            "_view_module_version": "1.2.0",
            "_view_name": "LayoutView",
            "align_content": null,
            "align_items": null,
            "align_self": null,
            "border": null,
            "bottom": null,
            "display": null,
            "flex": null,
            "flex_flow": null,
            "grid_area": null,
            "grid_auto_columns": null,
            "grid_auto_flow": null,
            "grid_auto_rows": null,
            "grid_column": null,
            "grid_gap": null,
            "grid_row": null,
            "grid_template_areas": null,
            "grid_template_columns": null,
            "grid_template_rows": null,
            "height": null,
            "justify_content": null,
            "justify_items": null,
            "left": null,
            "margin": null,
            "max_height": null,
            "max_width": null,
            "min_height": null,
            "min_width": null,
            "object_fit": null,
            "object_position": null,
            "order": null,
            "overflow": null,
            "overflow_x": null,
            "overflow_y": null,
            "padding": null,
            "right": null,
            "top": null,
            "visibility": null,
            "width": null
          }
        },
        "be0a1af526574ee6b661323d3f259a9f": {
          "model_module": "@jupyter-widgets/controls",
          "model_name": "DescriptionStyleModel",
          "model_module_version": "1.5.0",
          "state": {
            "_model_module": "@jupyter-widgets/controls",
            "_model_module_version": "1.5.0",
            "_model_name": "DescriptionStyleModel",
            "_view_count": null,
            "_view_module": "@jupyter-widgets/base",
            "_view_module_version": "1.2.0",
            "_view_name": "StyleView",
            "description_width": ""
          }
        },
        "2b357f62a22d4cb8b91c82fa4df47a27": {
          "model_module": "@jupyter-widgets/base",
          "model_name": "LayoutModel",
          "model_module_version": "1.2.0",
          "state": {
            "_model_module": "@jupyter-widgets/base",
            "_model_module_version": "1.2.0",
            "_model_name": "LayoutModel",
            "_view_count": null,
            "_view_module": "@jupyter-widgets/base",
            "_view_module_version": "1.2.0",
            "_view_name": "LayoutView",
            "align_content": null,
            "align_items": null,
            "align_self": null,
            "border": null,
            "bottom": null,
            "display": null,
            "flex": null,
            "flex_flow": null,
            "grid_area": null,
            "grid_auto_columns": null,
            "grid_auto_flow": null,
            "grid_auto_rows": null,
            "grid_column": null,
            "grid_gap": null,
            "grid_row": null,
            "grid_template_areas": null,
            "grid_template_columns": null,
            "grid_template_rows": null,
            "height": null,
            "justify_content": null,
            "justify_items": null,
            "left": null,
            "margin": null,
            "max_height": null,
            "max_width": null,
            "min_height": null,
            "min_width": null,
            "object_fit": null,
            "object_position": null,
            "order": null,
            "overflow": null,
            "overflow_x": null,
            "overflow_y": null,
            "padding": null,
            "right": null,
            "top": null,
            "visibility": null,
            "width": null
          }
        },
        "1afa6f563fe34c0eb7f6c8c8dff05f35": {
          "model_module": "@jupyter-widgets/controls",
          "model_name": "ProgressStyleModel",
          "model_module_version": "1.5.0",
          "state": {
            "_model_module": "@jupyter-widgets/controls",
            "_model_module_version": "1.5.0",
            "_model_name": "ProgressStyleModel",
            "_view_count": null,
            "_view_module": "@jupyter-widgets/base",
            "_view_module_version": "1.2.0",
            "_view_name": "StyleView",
            "bar_color": null,
            "description_width": ""
          }
        },
        "e7144199fc6b4028a3607deb4c7501f8": {
          "model_module": "@jupyter-widgets/base",
          "model_name": "LayoutModel",
          "model_module_version": "1.2.0",
          "state": {
            "_model_module": "@jupyter-widgets/base",
            "_model_module_version": "1.2.0",
            "_model_name": "LayoutModel",
            "_view_count": null,
            "_view_module": "@jupyter-widgets/base",
            "_view_module_version": "1.2.0",
            "_view_name": "LayoutView",
            "align_content": null,
            "align_items": null,
            "align_self": null,
            "border": null,
            "bottom": null,
            "display": null,
            "flex": null,
            "flex_flow": null,
            "grid_area": null,
            "grid_auto_columns": null,
            "grid_auto_flow": null,
            "grid_auto_rows": null,
            "grid_column": null,
            "grid_gap": null,
            "grid_row": null,
            "grid_template_areas": null,
            "grid_template_columns": null,
            "grid_template_rows": null,
            "height": null,
            "justify_content": null,
            "justify_items": null,
            "left": null,
            "margin": null,
            "max_height": null,
            "max_width": null,
            "min_height": null,
            "min_width": null,
            "object_fit": null,
            "object_position": null,
            "order": null,
            "overflow": null,
            "overflow_x": null,
            "overflow_y": null,
            "padding": null,
            "right": null,
            "top": null,
            "visibility": null,
            "width": null
          }
        },
        "149fc47390cb42f09ee9be9550ad7fd0": {
          "model_module": "@jupyter-widgets/controls",
          "model_name": "DescriptionStyleModel",
          "model_module_version": "1.5.0",
          "state": {
            "_model_module": "@jupyter-widgets/controls",
            "_model_module_version": "1.5.0",
            "_model_name": "DescriptionStyleModel",
            "_view_count": null,
            "_view_module": "@jupyter-widgets/base",
            "_view_module_version": "1.2.0",
            "_view_name": "StyleView",
            "description_width": ""
          }
        },
        "9092e38dc8a243529139297fa99151d3": {
          "model_module": "@jupyter-widgets/controls",
          "model_name": "HBoxModel",
          "model_module_version": "1.5.0",
          "state": {
            "_dom_classes": [],
            "_model_module": "@jupyter-widgets/controls",
            "_model_module_version": "1.5.0",
            "_model_name": "HBoxModel",
            "_view_count": null,
            "_view_module": "@jupyter-widgets/controls",
            "_view_module_version": "1.5.0",
            "_view_name": "HBoxView",
            "box_style": "",
            "children": [
              "IPY_MODEL_95ec6b1b6bf24976be60371b6b87fc95",
              "IPY_MODEL_26e87def849e471eadf11376708c7f9e",
              "IPY_MODEL_6008ed669a94407cae5fe4adb93f541e"
            ],
            "layout": "IPY_MODEL_f2811e32ea534d9d827ee8f42ca2dcfe"
          }
        },
        "95ec6b1b6bf24976be60371b6b87fc95": {
          "model_module": "@jupyter-widgets/controls",
          "model_name": "HTMLModel",
          "model_module_version": "1.5.0",
          "state": {
            "_dom_classes": [],
            "_model_module": "@jupyter-widgets/controls",
            "_model_module_version": "1.5.0",
            "_model_name": "HTMLModel",
            "_view_count": null,
            "_view_module": "@jupyter-widgets/controls",
            "_view_module_version": "1.5.0",
            "_view_name": "HTMLView",
            "description": "",
            "description_tooltip": null,
            "layout": "IPY_MODEL_0742b2a6f9304655a5742d63abd7e0b6",
            "placeholder": "​",
            "style": "IPY_MODEL_8625b9e602004e0f9146ee26079891d9",
            "value": "100%"
          }
        },
        "26e87def849e471eadf11376708c7f9e": {
          "model_module": "@jupyter-widgets/controls",
          "model_name": "FloatProgressModel",
          "model_module_version": "1.5.0",
          "state": {
            "_dom_classes": [],
            "_model_module": "@jupyter-widgets/controls",
            "_model_module_version": "1.5.0",
            "_model_name": "FloatProgressModel",
            "_view_count": null,
            "_view_module": "@jupyter-widgets/controls",
            "_view_module_version": "1.5.0",
            "_view_name": "ProgressView",
            "bar_style": "success",
            "description": "",
            "description_tooltip": null,
            "layout": "IPY_MODEL_89c4e4bc8a474b8e88b81021fb2761c9",
            "max": 2396,
            "min": 0,
            "orientation": "horizontal",
            "style": "IPY_MODEL_3865d6f0e8cf47e496f9670ce8df0072",
            "value": 2396
          }
        },
        "6008ed669a94407cae5fe4adb93f541e": {
          "model_module": "@jupyter-widgets/controls",
          "model_name": "HTMLModel",
          "model_module_version": "1.5.0",
          "state": {
            "_dom_classes": [],
            "_model_module": "@jupyter-widgets/controls",
            "_model_module_version": "1.5.0",
            "_model_name": "HTMLModel",
            "_view_count": null,
            "_view_module": "@jupyter-widgets/controls",
            "_view_module_version": "1.5.0",
            "_view_name": "HTMLView",
            "description": "",
            "description_tooltip": null,
            "layout": "IPY_MODEL_0e0b4ae7f22f4d2dba1af409116bc3d9",
            "placeholder": "​",
            "style": "IPY_MODEL_10fdc697406b4ac998d7242bc816d03f",
            "value": " 2396/2396 [00:09&lt;00:00, 180.75it/s]"
          }
        },
        "f2811e32ea534d9d827ee8f42ca2dcfe": {
          "model_module": "@jupyter-widgets/base",
          "model_name": "LayoutModel",
          "model_module_version": "1.2.0",
          "state": {
            "_model_module": "@jupyter-widgets/base",
            "_model_module_version": "1.2.0",
            "_model_name": "LayoutModel",
            "_view_count": null,
            "_view_module": "@jupyter-widgets/base",
            "_view_module_version": "1.2.0",
            "_view_name": "LayoutView",
            "align_content": null,
            "align_items": null,
            "align_self": null,
            "border": null,
            "bottom": null,
            "display": null,
            "flex": null,
            "flex_flow": null,
            "grid_area": null,
            "grid_auto_columns": null,
            "grid_auto_flow": null,
            "grid_auto_rows": null,
            "grid_column": null,
            "grid_gap": null,
            "grid_row": null,
            "grid_template_areas": null,
            "grid_template_columns": null,
            "grid_template_rows": null,
            "height": null,
            "justify_content": null,
            "justify_items": null,
            "left": null,
            "margin": null,
            "max_height": null,
            "max_width": null,
            "min_height": null,
            "min_width": null,
            "object_fit": null,
            "object_position": null,
            "order": null,
            "overflow": null,
            "overflow_x": null,
            "overflow_y": null,
            "padding": null,
            "right": null,
            "top": null,
            "visibility": null,
            "width": null
          }
        },
        "0742b2a6f9304655a5742d63abd7e0b6": {
          "model_module": "@jupyter-widgets/base",
          "model_name": "LayoutModel",
          "model_module_version": "1.2.0",
          "state": {
            "_model_module": "@jupyter-widgets/base",
            "_model_module_version": "1.2.0",
            "_model_name": "LayoutModel",
            "_view_count": null,
            "_view_module": "@jupyter-widgets/base",
            "_view_module_version": "1.2.0",
            "_view_name": "LayoutView",
            "align_content": null,
            "align_items": null,
            "align_self": null,
            "border": null,
            "bottom": null,
            "display": null,
            "flex": null,
            "flex_flow": null,
            "grid_area": null,
            "grid_auto_columns": null,
            "grid_auto_flow": null,
            "grid_auto_rows": null,
            "grid_column": null,
            "grid_gap": null,
            "grid_row": null,
            "grid_template_areas": null,
            "grid_template_columns": null,
            "grid_template_rows": null,
            "height": null,
            "justify_content": null,
            "justify_items": null,
            "left": null,
            "margin": null,
            "max_height": null,
            "max_width": null,
            "min_height": null,
            "min_width": null,
            "object_fit": null,
            "object_position": null,
            "order": null,
            "overflow": null,
            "overflow_x": null,
            "overflow_y": null,
            "padding": null,
            "right": null,
            "top": null,
            "visibility": null,
            "width": null
          }
        },
        "8625b9e602004e0f9146ee26079891d9": {
          "model_module": "@jupyter-widgets/controls",
          "model_name": "DescriptionStyleModel",
          "model_module_version": "1.5.0",
          "state": {
            "_model_module": "@jupyter-widgets/controls",
            "_model_module_version": "1.5.0",
            "_model_name": "DescriptionStyleModel",
            "_view_count": null,
            "_view_module": "@jupyter-widgets/base",
            "_view_module_version": "1.2.0",
            "_view_name": "StyleView",
            "description_width": ""
          }
        },
        "89c4e4bc8a474b8e88b81021fb2761c9": {
          "model_module": "@jupyter-widgets/base",
          "model_name": "LayoutModel",
          "model_module_version": "1.2.0",
          "state": {
            "_model_module": "@jupyter-widgets/base",
            "_model_module_version": "1.2.0",
            "_model_name": "LayoutModel",
            "_view_count": null,
            "_view_module": "@jupyter-widgets/base",
            "_view_module_version": "1.2.0",
            "_view_name": "LayoutView",
            "align_content": null,
            "align_items": null,
            "align_self": null,
            "border": null,
            "bottom": null,
            "display": null,
            "flex": null,
            "flex_flow": null,
            "grid_area": null,
            "grid_auto_columns": null,
            "grid_auto_flow": null,
            "grid_auto_rows": null,
            "grid_column": null,
            "grid_gap": null,
            "grid_row": null,
            "grid_template_areas": null,
            "grid_template_columns": null,
            "grid_template_rows": null,
            "height": null,
            "justify_content": null,
            "justify_items": null,
            "left": null,
            "margin": null,
            "max_height": null,
            "max_width": null,
            "min_height": null,
            "min_width": null,
            "object_fit": null,
            "object_position": null,
            "order": null,
            "overflow": null,
            "overflow_x": null,
            "overflow_y": null,
            "padding": null,
            "right": null,
            "top": null,
            "visibility": null,
            "width": null
          }
        },
        "3865d6f0e8cf47e496f9670ce8df0072": {
          "model_module": "@jupyter-widgets/controls",
          "model_name": "ProgressStyleModel",
          "model_module_version": "1.5.0",
          "state": {
            "_model_module": "@jupyter-widgets/controls",
            "_model_module_version": "1.5.0",
            "_model_name": "ProgressStyleModel",
            "_view_count": null,
            "_view_module": "@jupyter-widgets/base",
            "_view_module_version": "1.2.0",
            "_view_name": "StyleView",
            "bar_color": null,
            "description_width": ""
          }
        },
        "0e0b4ae7f22f4d2dba1af409116bc3d9": {
          "model_module": "@jupyter-widgets/base",
          "model_name": "LayoutModel",
          "model_module_version": "1.2.0",
          "state": {
            "_model_module": "@jupyter-widgets/base",
            "_model_module_version": "1.2.0",
            "_model_name": "LayoutModel",
            "_view_count": null,
            "_view_module": "@jupyter-widgets/base",
            "_view_module_version": "1.2.0",
            "_view_name": "LayoutView",
            "align_content": null,
            "align_items": null,
            "align_self": null,
            "border": null,
            "bottom": null,
            "display": null,
            "flex": null,
            "flex_flow": null,
            "grid_area": null,
            "grid_auto_columns": null,
            "grid_auto_flow": null,
            "grid_auto_rows": null,
            "grid_column": null,
            "grid_gap": null,
            "grid_row": null,
            "grid_template_areas": null,
            "grid_template_columns": null,
            "grid_template_rows": null,
            "height": null,
            "justify_content": null,
            "justify_items": null,
            "left": null,
            "margin": null,
            "max_height": null,
            "max_width": null,
            "min_height": null,
            "min_width": null,
            "object_fit": null,
            "object_position": null,
            "order": null,
            "overflow": null,
            "overflow_x": null,
            "overflow_y": null,
            "padding": null,
            "right": null,
            "top": null,
            "visibility": null,
            "width": null
          }
        },
        "10fdc697406b4ac998d7242bc816d03f": {
          "model_module": "@jupyter-widgets/controls",
          "model_name": "DescriptionStyleModel",
          "model_module_version": "1.5.0",
          "state": {
            "_model_module": "@jupyter-widgets/controls",
            "_model_module_version": "1.5.0",
            "_model_name": "DescriptionStyleModel",
            "_view_count": null,
            "_view_module": "@jupyter-widgets/base",
            "_view_module_version": "1.2.0",
            "_view_name": "StyleView",
            "description_width": ""
          }
        },
        "4783980e7579499f98c6a193a01fa429": {
          "model_module": "@jupyter-widgets/controls",
          "model_name": "HBoxModel",
          "model_module_version": "1.5.0",
          "state": {
            "_dom_classes": [],
            "_model_module": "@jupyter-widgets/controls",
            "_model_module_version": "1.5.0",
            "_model_name": "HBoxModel",
            "_view_count": null,
            "_view_module": "@jupyter-widgets/controls",
            "_view_module_version": "1.5.0",
            "_view_name": "HBoxView",
            "box_style": "",
            "children": [
              "IPY_MODEL_56b689d90522428993bbc4a44a6b117f",
              "IPY_MODEL_8031c570532c4101ba69167548726e97",
              "IPY_MODEL_86cde0cced094b40b951776d8f2c3dc0"
            ],
            "layout": "IPY_MODEL_1f3d4c1718b443e4ba524a61e9cf7c5c"
          }
        },
        "56b689d90522428993bbc4a44a6b117f": {
          "model_module": "@jupyter-widgets/controls",
          "model_name": "HTMLModel",
          "model_module_version": "1.5.0",
          "state": {
            "_dom_classes": [],
            "_model_module": "@jupyter-widgets/controls",
            "_model_module_version": "1.5.0",
            "_model_name": "HTMLModel",
            "_view_count": null,
            "_view_module": "@jupyter-widgets/controls",
            "_view_module_version": "1.5.0",
            "_view_name": "HTMLView",
            "description": "",
            "description_tooltip": null,
            "layout": "IPY_MODEL_f9c8a6ee11014d82a2d653a471a30c9f",
            "placeholder": "​",
            "style": "IPY_MODEL_5280c7b56da0471cbbe54f3f1aa5f5f6",
            "value": "super_glue.py: 100%"
          }
        },
        "8031c570532c4101ba69167548726e97": {
          "model_module": "@jupyter-widgets/controls",
          "model_name": "FloatProgressModel",
          "model_module_version": "1.5.0",
          "state": {
            "_dom_classes": [],
            "_model_module": "@jupyter-widgets/controls",
            "_model_module_version": "1.5.0",
            "_model_name": "FloatProgressModel",
            "_view_count": null,
            "_view_module": "@jupyter-widgets/controls",
            "_view_module_version": "1.5.0",
            "_view_name": "ProgressView",
            "bar_style": "success",
            "description": "",
            "description_tooltip": null,
            "layout": "IPY_MODEL_e1de0752cae04a9aa2ca3cda1ab8f344",
            "max": 30733,
            "min": 0,
            "orientation": "horizontal",
            "style": "IPY_MODEL_c3a0eb8d7b094e848842d7a82fba9255",
            "value": 30733
          }
        },
        "86cde0cced094b40b951776d8f2c3dc0": {
          "model_module": "@jupyter-widgets/controls",
          "model_name": "HTMLModel",
          "model_module_version": "1.5.0",
          "state": {
            "_dom_classes": [],
            "_model_module": "@jupyter-widgets/controls",
            "_model_module_version": "1.5.0",
            "_model_name": "HTMLModel",
            "_view_count": null,
            "_view_module": "@jupyter-widgets/controls",
            "_view_module_version": "1.5.0",
            "_view_name": "HTMLView",
            "description": "",
            "description_tooltip": null,
            "layout": "IPY_MODEL_7eebc5f7ae634b799651ac002006f844",
            "placeholder": "​",
            "style": "IPY_MODEL_bc20ac4bbd35446cb554f1ea574bee8d",
            "value": " 30.7k/30.7k [00:00&lt;00:00, 354kB/s]"
          }
        },
        "1f3d4c1718b443e4ba524a61e9cf7c5c": {
          "model_module": "@jupyter-widgets/base",
          "model_name": "LayoutModel",
          "model_module_version": "1.2.0",
          "state": {
            "_model_module": "@jupyter-widgets/base",
            "_model_module_version": "1.2.0",
            "_model_name": "LayoutModel",
            "_view_count": null,
            "_view_module": "@jupyter-widgets/base",
            "_view_module_version": "1.2.0",
            "_view_name": "LayoutView",
            "align_content": null,
            "align_items": null,
            "align_self": null,
            "border": null,
            "bottom": null,
            "display": null,
            "flex": null,
            "flex_flow": null,
            "grid_area": null,
            "grid_auto_columns": null,
            "grid_auto_flow": null,
            "grid_auto_rows": null,
            "grid_column": null,
            "grid_gap": null,
            "grid_row": null,
            "grid_template_areas": null,
            "grid_template_columns": null,
            "grid_template_rows": null,
            "height": null,
            "justify_content": null,
            "justify_items": null,
            "left": null,
            "margin": null,
            "max_height": null,
            "max_width": null,
            "min_height": null,
            "min_width": null,
            "object_fit": null,
            "object_position": null,
            "order": null,
            "overflow": null,
            "overflow_x": null,
            "overflow_y": null,
            "padding": null,
            "right": null,
            "top": null,
            "visibility": null,
            "width": null
          }
        },
        "f9c8a6ee11014d82a2d653a471a30c9f": {
          "model_module": "@jupyter-widgets/base",
          "model_name": "LayoutModel",
          "model_module_version": "1.2.0",
          "state": {
            "_model_module": "@jupyter-widgets/base",
            "_model_module_version": "1.2.0",
            "_model_name": "LayoutModel",
            "_view_count": null,
            "_view_module": "@jupyter-widgets/base",
            "_view_module_version": "1.2.0",
            "_view_name": "LayoutView",
            "align_content": null,
            "align_items": null,
            "align_self": null,
            "border": null,
            "bottom": null,
            "display": null,
            "flex": null,
            "flex_flow": null,
            "grid_area": null,
            "grid_auto_columns": null,
            "grid_auto_flow": null,
            "grid_auto_rows": null,
            "grid_column": null,
            "grid_gap": null,
            "grid_row": null,
            "grid_template_areas": null,
            "grid_template_columns": null,
            "grid_template_rows": null,
            "height": null,
            "justify_content": null,
            "justify_items": null,
            "left": null,
            "margin": null,
            "max_height": null,
            "max_width": null,
            "min_height": null,
            "min_width": null,
            "object_fit": null,
            "object_position": null,
            "order": null,
            "overflow": null,
            "overflow_x": null,
            "overflow_y": null,
            "padding": null,
            "right": null,
            "top": null,
            "visibility": null,
            "width": null
          }
        },
        "5280c7b56da0471cbbe54f3f1aa5f5f6": {
          "model_module": "@jupyter-widgets/controls",
          "model_name": "DescriptionStyleModel",
          "model_module_version": "1.5.0",
          "state": {
            "_model_module": "@jupyter-widgets/controls",
            "_model_module_version": "1.5.0",
            "_model_name": "DescriptionStyleModel",
            "_view_count": null,
            "_view_module": "@jupyter-widgets/base",
            "_view_module_version": "1.2.0",
            "_view_name": "StyleView",
            "description_width": ""
          }
        },
        "e1de0752cae04a9aa2ca3cda1ab8f344": {
          "model_module": "@jupyter-widgets/base",
          "model_name": "LayoutModel",
          "model_module_version": "1.2.0",
          "state": {
            "_model_module": "@jupyter-widgets/base",
            "_model_module_version": "1.2.0",
            "_model_name": "LayoutModel",
            "_view_count": null,
            "_view_module": "@jupyter-widgets/base",
            "_view_module_version": "1.2.0",
            "_view_name": "LayoutView",
            "align_content": null,
            "align_items": null,
            "align_self": null,
            "border": null,
            "bottom": null,
            "display": null,
            "flex": null,
            "flex_flow": null,
            "grid_area": null,
            "grid_auto_columns": null,
            "grid_auto_flow": null,
            "grid_auto_rows": null,
            "grid_column": null,
            "grid_gap": null,
            "grid_row": null,
            "grid_template_areas": null,
            "grid_template_columns": null,
            "grid_template_rows": null,
            "height": null,
            "justify_content": null,
            "justify_items": null,
            "left": null,
            "margin": null,
            "max_height": null,
            "max_width": null,
            "min_height": null,
            "min_width": null,
            "object_fit": null,
            "object_position": null,
            "order": null,
            "overflow": null,
            "overflow_x": null,
            "overflow_y": null,
            "padding": null,
            "right": null,
            "top": null,
            "visibility": null,
            "width": null
          }
        },
        "c3a0eb8d7b094e848842d7a82fba9255": {
          "model_module": "@jupyter-widgets/controls",
          "model_name": "ProgressStyleModel",
          "model_module_version": "1.5.0",
          "state": {
            "_model_module": "@jupyter-widgets/controls",
            "_model_module_version": "1.5.0",
            "_model_name": "ProgressStyleModel",
            "_view_count": null,
            "_view_module": "@jupyter-widgets/base",
            "_view_module_version": "1.2.0",
            "_view_name": "StyleView",
            "bar_color": null,
            "description_width": ""
          }
        },
        "7eebc5f7ae634b799651ac002006f844": {
          "model_module": "@jupyter-widgets/base",
          "model_name": "LayoutModel",
          "model_module_version": "1.2.0",
          "state": {
            "_model_module": "@jupyter-widgets/base",
            "_model_module_version": "1.2.0",
            "_model_name": "LayoutModel",
            "_view_count": null,
            "_view_module": "@jupyter-widgets/base",
            "_view_module_version": "1.2.0",
            "_view_name": "LayoutView",
            "align_content": null,
            "align_items": null,
            "align_self": null,
            "border": null,
            "bottom": null,
            "display": null,
            "flex": null,
            "flex_flow": null,
            "grid_area": null,
            "grid_auto_columns": null,
            "grid_auto_flow": null,
            "grid_auto_rows": null,
            "grid_column": null,
            "grid_gap": null,
            "grid_row": null,
            "grid_template_areas": null,
            "grid_template_columns": null,
            "grid_template_rows": null,
            "height": null,
            "justify_content": null,
            "justify_items": null,
            "left": null,
            "margin": null,
            "max_height": null,
            "max_width": null,
            "min_height": null,
            "min_width": null,
            "object_fit": null,
            "object_position": null,
            "order": null,
            "overflow": null,
            "overflow_x": null,
            "overflow_y": null,
            "padding": null,
            "right": null,
            "top": null,
            "visibility": null,
            "width": null
          }
        },
        "bc20ac4bbd35446cb554f1ea574bee8d": {
          "model_module": "@jupyter-widgets/controls",
          "model_name": "DescriptionStyleModel",
          "model_module_version": "1.5.0",
          "state": {
            "_model_module": "@jupyter-widgets/controls",
            "_model_module_version": "1.5.0",
            "_model_name": "DescriptionStyleModel",
            "_view_count": null,
            "_view_module": "@jupyter-widgets/base",
            "_view_module_version": "1.2.0",
            "_view_name": "StyleView",
            "description_width": ""
          }
        },
        "aa7e534246e147c7927df6cf32fffe69": {
          "model_module": "@jupyter-widgets/controls",
          "model_name": "HBoxModel",
          "model_module_version": "1.5.0",
          "state": {
            "_dom_classes": [],
            "_model_module": "@jupyter-widgets/controls",
            "_model_module_version": "1.5.0",
            "_model_name": "HBoxModel",
            "_view_count": null,
            "_view_module": "@jupyter-widgets/controls",
            "_view_module_version": "1.5.0",
            "_view_name": "HBoxView",
            "box_style": "",
            "children": [
              "IPY_MODEL_d428d0469e7d44d78e58e881aa7323e8",
              "IPY_MODEL_dc619c3a186c488baeae39bcaa7ddcae",
              "IPY_MODEL_82b48e1063624a48bed8c68378a15954"
            ],
            "layout": "IPY_MODEL_9282355b7ee44db79afc2e8f12ad0fe4"
          }
        },
        "d428d0469e7d44d78e58e881aa7323e8": {
          "model_module": "@jupyter-widgets/controls",
          "model_name": "HTMLModel",
          "model_module_version": "1.5.0",
          "state": {
            "_dom_classes": [],
            "_model_module": "@jupyter-widgets/controls",
            "_model_module_version": "1.5.0",
            "_model_name": "HTMLModel",
            "_view_count": null,
            "_view_module": "@jupyter-widgets/controls",
            "_view_module_version": "1.5.0",
            "_view_name": "HTMLView",
            "description": "",
            "description_tooltip": null,
            "layout": "IPY_MODEL_402b8bcaeecf4c3c89ecd3253db94277",
            "placeholder": "​",
            "style": "IPY_MODEL_bf2c8d491f0342ed90e2fa5691430916",
            "value": "README.md: 100%"
          }
        },
        "dc619c3a186c488baeae39bcaa7ddcae": {
          "model_module": "@jupyter-widgets/controls",
          "model_name": "FloatProgressModel",
          "model_module_version": "1.5.0",
          "state": {
            "_dom_classes": [],
            "_model_module": "@jupyter-widgets/controls",
            "_model_module_version": "1.5.0",
            "_model_name": "FloatProgressModel",
            "_view_count": null,
            "_view_module": "@jupyter-widgets/controls",
            "_view_module_version": "1.5.0",
            "_view_name": "ProgressView",
            "bar_style": "success",
            "description": "",
            "description_tooltip": null,
            "layout": "IPY_MODEL_3a00575956b94368ad2e99c57c563937",
            "max": 18151,
            "min": 0,
            "orientation": "horizontal",
            "style": "IPY_MODEL_dd8e058e27ff40f18ef8830333db4d01",
            "value": 18151
          }
        },
        "82b48e1063624a48bed8c68378a15954": {
          "model_module": "@jupyter-widgets/controls",
          "model_name": "HTMLModel",
          "model_module_version": "1.5.0",
          "state": {
            "_dom_classes": [],
            "_model_module": "@jupyter-widgets/controls",
            "_model_module_version": "1.5.0",
            "_model_name": "HTMLModel",
            "_view_count": null,
            "_view_module": "@jupyter-widgets/controls",
            "_view_module_version": "1.5.0",
            "_view_name": "HTMLView",
            "description": "",
            "description_tooltip": null,
            "layout": "IPY_MODEL_dfbf964e0e59483988e8869d298f05b1",
            "placeholder": "​",
            "style": "IPY_MODEL_5bd48670d1da4f37b0a2f542ee0f7553",
            "value": " 18.2k/18.2k [00:00&lt;00:00, 236kB/s]"
          }
        },
        "9282355b7ee44db79afc2e8f12ad0fe4": {
          "model_module": "@jupyter-widgets/base",
          "model_name": "LayoutModel",
          "model_module_version": "1.2.0",
          "state": {
            "_model_module": "@jupyter-widgets/base",
            "_model_module_version": "1.2.0",
            "_model_name": "LayoutModel",
            "_view_count": null,
            "_view_module": "@jupyter-widgets/base",
            "_view_module_version": "1.2.0",
            "_view_name": "LayoutView",
            "align_content": null,
            "align_items": null,
            "align_self": null,
            "border": null,
            "bottom": null,
            "display": null,
            "flex": null,
            "flex_flow": null,
            "grid_area": null,
            "grid_auto_columns": null,
            "grid_auto_flow": null,
            "grid_auto_rows": null,
            "grid_column": null,
            "grid_gap": null,
            "grid_row": null,
            "grid_template_areas": null,
            "grid_template_columns": null,
            "grid_template_rows": null,
            "height": null,
            "justify_content": null,
            "justify_items": null,
            "left": null,
            "margin": null,
            "max_height": null,
            "max_width": null,
            "min_height": null,
            "min_width": null,
            "object_fit": null,
            "object_position": null,
            "order": null,
            "overflow": null,
            "overflow_x": null,
            "overflow_y": null,
            "padding": null,
            "right": null,
            "top": null,
            "visibility": null,
            "width": null
          }
        },
        "402b8bcaeecf4c3c89ecd3253db94277": {
          "model_module": "@jupyter-widgets/base",
          "model_name": "LayoutModel",
          "model_module_version": "1.2.0",
          "state": {
            "_model_module": "@jupyter-widgets/base",
            "_model_module_version": "1.2.0",
            "_model_name": "LayoutModel",
            "_view_count": null,
            "_view_module": "@jupyter-widgets/base",
            "_view_module_version": "1.2.0",
            "_view_name": "LayoutView",
            "align_content": null,
            "align_items": null,
            "align_self": null,
            "border": null,
            "bottom": null,
            "display": null,
            "flex": null,
            "flex_flow": null,
            "grid_area": null,
            "grid_auto_columns": null,
            "grid_auto_flow": null,
            "grid_auto_rows": null,
            "grid_column": null,
            "grid_gap": null,
            "grid_row": null,
            "grid_template_areas": null,
            "grid_template_columns": null,
            "grid_template_rows": null,
            "height": null,
            "justify_content": null,
            "justify_items": null,
            "left": null,
            "margin": null,
            "max_height": null,
            "max_width": null,
            "min_height": null,
            "min_width": null,
            "object_fit": null,
            "object_position": null,
            "order": null,
            "overflow": null,
            "overflow_x": null,
            "overflow_y": null,
            "padding": null,
            "right": null,
            "top": null,
            "visibility": null,
            "width": null
          }
        },
        "bf2c8d491f0342ed90e2fa5691430916": {
          "model_module": "@jupyter-widgets/controls",
          "model_name": "DescriptionStyleModel",
          "model_module_version": "1.5.0",
          "state": {
            "_model_module": "@jupyter-widgets/controls",
            "_model_module_version": "1.5.0",
            "_model_name": "DescriptionStyleModel",
            "_view_count": null,
            "_view_module": "@jupyter-widgets/base",
            "_view_module_version": "1.2.0",
            "_view_name": "StyleView",
            "description_width": ""
          }
        },
        "3a00575956b94368ad2e99c57c563937": {
          "model_module": "@jupyter-widgets/base",
          "model_name": "LayoutModel",
          "model_module_version": "1.2.0",
          "state": {
            "_model_module": "@jupyter-widgets/base",
            "_model_module_version": "1.2.0",
            "_model_name": "LayoutModel",
            "_view_count": null,
            "_view_module": "@jupyter-widgets/base",
            "_view_module_version": "1.2.0",
            "_view_name": "LayoutView",
            "align_content": null,
            "align_items": null,
            "align_self": null,
            "border": null,
            "bottom": null,
            "display": null,
            "flex": null,
            "flex_flow": null,
            "grid_area": null,
            "grid_auto_columns": null,
            "grid_auto_flow": null,
            "grid_auto_rows": null,
            "grid_column": null,
            "grid_gap": null,
            "grid_row": null,
            "grid_template_areas": null,
            "grid_template_columns": null,
            "grid_template_rows": null,
            "height": null,
            "justify_content": null,
            "justify_items": null,
            "left": null,
            "margin": null,
            "max_height": null,
            "max_width": null,
            "min_height": null,
            "min_width": null,
            "object_fit": null,
            "object_position": null,
            "order": null,
            "overflow": null,
            "overflow_x": null,
            "overflow_y": null,
            "padding": null,
            "right": null,
            "top": null,
            "visibility": null,
            "width": null
          }
        },
        "dd8e058e27ff40f18ef8830333db4d01": {
          "model_module": "@jupyter-widgets/controls",
          "model_name": "ProgressStyleModel",
          "model_module_version": "1.5.0",
          "state": {
            "_model_module": "@jupyter-widgets/controls",
            "_model_module_version": "1.5.0",
            "_model_name": "ProgressStyleModel",
            "_view_count": null,
            "_view_module": "@jupyter-widgets/base",
            "_view_module_version": "1.2.0",
            "_view_name": "StyleView",
            "bar_color": null,
            "description_width": ""
          }
        },
        "dfbf964e0e59483988e8869d298f05b1": {
          "model_module": "@jupyter-widgets/base",
          "model_name": "LayoutModel",
          "model_module_version": "1.2.0",
          "state": {
            "_model_module": "@jupyter-widgets/base",
            "_model_module_version": "1.2.0",
            "_model_name": "LayoutModel",
            "_view_count": null,
            "_view_module": "@jupyter-widgets/base",
            "_view_module_version": "1.2.0",
            "_view_name": "LayoutView",
            "align_content": null,
            "align_items": null,
            "align_self": null,
            "border": null,
            "bottom": null,
            "display": null,
            "flex": null,
            "flex_flow": null,
            "grid_area": null,
            "grid_auto_columns": null,
            "grid_auto_flow": null,
            "grid_auto_rows": null,
            "grid_column": null,
            "grid_gap": null,
            "grid_row": null,
            "grid_template_areas": null,
            "grid_template_columns": null,
            "grid_template_rows": null,
            "height": null,
            "justify_content": null,
            "justify_items": null,
            "left": null,
            "margin": null,
            "max_height": null,
            "max_width": null,
            "min_height": null,
            "min_width": null,
            "object_fit": null,
            "object_position": null,
            "order": null,
            "overflow": null,
            "overflow_x": null,
            "overflow_y": null,
            "padding": null,
            "right": null,
            "top": null,
            "visibility": null,
            "width": null
          }
        },
        "5bd48670d1da4f37b0a2f542ee0f7553": {
          "model_module": "@jupyter-widgets/controls",
          "model_name": "DescriptionStyleModel",
          "model_module_version": "1.5.0",
          "state": {
            "_model_module": "@jupyter-widgets/controls",
            "_model_module_version": "1.5.0",
            "_model_name": "DescriptionStyleModel",
            "_view_count": null,
            "_view_module": "@jupyter-widgets/base",
            "_view_module_version": "1.2.0",
            "_view_name": "StyleView",
            "description_width": ""
          }
        },
        "41073c5affd543389edeb6ad2ef308bb": {
          "model_module": "@jupyter-widgets/controls",
          "model_name": "HBoxModel",
          "model_module_version": "1.5.0",
          "state": {
            "_dom_classes": [],
            "_model_module": "@jupyter-widgets/controls",
            "_model_module_version": "1.5.0",
            "_model_name": "HBoxModel",
            "_view_count": null,
            "_view_module": "@jupyter-widgets/controls",
            "_view_module_version": "1.5.0",
            "_view_name": "HBoxView",
            "box_style": "",
            "children": [
              "IPY_MODEL_a2b3b467249f46cfb5113cf8e4d57c19",
              "IPY_MODEL_02a343add5a14c5f9df76398f5b75593",
              "IPY_MODEL_35afc4857e3b4d12bfc072aafda6d1a5"
            ],
            "layout": "IPY_MODEL_312b9a62e44e4728978b253a82c1f551"
          }
        },
        "a2b3b467249f46cfb5113cf8e4d57c19": {
          "model_module": "@jupyter-widgets/controls",
          "model_name": "HTMLModel",
          "model_module_version": "1.5.0",
          "state": {
            "_dom_classes": [],
            "_model_module": "@jupyter-widgets/controls",
            "_model_module_version": "1.5.0",
            "_model_name": "HTMLModel",
            "_view_count": null,
            "_view_module": "@jupyter-widgets/controls",
            "_view_module_version": "1.5.0",
            "_view_name": "HTMLView",
            "description": "",
            "description_tooltip": null,
            "layout": "IPY_MODEL_5921a0e766c74ace88234360afc4f0f7",
            "placeholder": "​",
            "style": "IPY_MODEL_5f4c5c0169ab4913a0d0f1dbe0d852e8",
            "value": "Downloading data: 100%"
          }
        },
        "02a343add5a14c5f9df76398f5b75593": {
          "model_module": "@jupyter-widgets/controls",
          "model_name": "FloatProgressModel",
          "model_module_version": "1.5.0",
          "state": {
            "_dom_classes": [],
            "_model_module": "@jupyter-widgets/controls",
            "_model_module_version": "1.5.0",
            "_model_name": "FloatProgressModel",
            "_view_count": null,
            "_view_module": "@jupyter-widgets/controls",
            "_view_module_version": "1.5.0",
            "_view_name": "ProgressView",
            "bar_style": "success",
            "description": "",
            "description_tooltip": null,
            "layout": "IPY_MODEL_bf37eba755d045d5bce456ae937ddbc7",
            "max": 396213,
            "min": 0,
            "orientation": "horizontal",
            "style": "IPY_MODEL_2a6bdb36acb74b019284a463ae4e5104",
            "value": 396213
          }
        },
        "35afc4857e3b4d12bfc072aafda6d1a5": {
          "model_module": "@jupyter-widgets/controls",
          "model_name": "HTMLModel",
          "model_module_version": "1.5.0",
          "state": {
            "_dom_classes": [],
            "_model_module": "@jupyter-widgets/controls",
            "_model_module_version": "1.5.0",
            "_model_name": "HTMLModel",
            "_view_count": null,
            "_view_module": "@jupyter-widgets/controls",
            "_view_module_version": "1.5.0",
            "_view_name": "HTMLView",
            "description": "",
            "description_tooltip": null,
            "layout": "IPY_MODEL_f0e2c9174cdf494eb34d3326f77bf6dd",
            "placeholder": "​",
            "style": "IPY_MODEL_8ed49df8ba754995a9f0b621781e3b46",
            "value": " 396k/396k [00:00&lt;00:00, 2.71MB/s]"
          }
        },
        "312b9a62e44e4728978b253a82c1f551": {
          "model_module": "@jupyter-widgets/base",
          "model_name": "LayoutModel",
          "model_module_version": "1.2.0",
          "state": {
            "_model_module": "@jupyter-widgets/base",
            "_model_module_version": "1.2.0",
            "_model_name": "LayoutModel",
            "_view_count": null,
            "_view_module": "@jupyter-widgets/base",
            "_view_module_version": "1.2.0",
            "_view_name": "LayoutView",
            "align_content": null,
            "align_items": null,
            "align_self": null,
            "border": null,
            "bottom": null,
            "display": null,
            "flex": null,
            "flex_flow": null,
            "grid_area": null,
            "grid_auto_columns": null,
            "grid_auto_flow": null,
            "grid_auto_rows": null,
            "grid_column": null,
            "grid_gap": null,
            "grid_row": null,
            "grid_template_areas": null,
            "grid_template_columns": null,
            "grid_template_rows": null,
            "height": null,
            "justify_content": null,
            "justify_items": null,
            "left": null,
            "margin": null,
            "max_height": null,
            "max_width": null,
            "min_height": null,
            "min_width": null,
            "object_fit": null,
            "object_position": null,
            "order": null,
            "overflow": null,
            "overflow_x": null,
            "overflow_y": null,
            "padding": null,
            "right": null,
            "top": null,
            "visibility": null,
            "width": null
          }
        },
        "5921a0e766c74ace88234360afc4f0f7": {
          "model_module": "@jupyter-widgets/base",
          "model_name": "LayoutModel",
          "model_module_version": "1.2.0",
          "state": {
            "_model_module": "@jupyter-widgets/base",
            "_model_module_version": "1.2.0",
            "_model_name": "LayoutModel",
            "_view_count": null,
            "_view_module": "@jupyter-widgets/base",
            "_view_module_version": "1.2.0",
            "_view_name": "LayoutView",
            "align_content": null,
            "align_items": null,
            "align_self": null,
            "border": null,
            "bottom": null,
            "display": null,
            "flex": null,
            "flex_flow": null,
            "grid_area": null,
            "grid_auto_columns": null,
            "grid_auto_flow": null,
            "grid_auto_rows": null,
            "grid_column": null,
            "grid_gap": null,
            "grid_row": null,
            "grid_template_areas": null,
            "grid_template_columns": null,
            "grid_template_rows": null,
            "height": null,
            "justify_content": null,
            "justify_items": null,
            "left": null,
            "margin": null,
            "max_height": null,
            "max_width": null,
            "min_height": null,
            "min_width": null,
            "object_fit": null,
            "object_position": null,
            "order": null,
            "overflow": null,
            "overflow_x": null,
            "overflow_y": null,
            "padding": null,
            "right": null,
            "top": null,
            "visibility": null,
            "width": null
          }
        },
        "5f4c5c0169ab4913a0d0f1dbe0d852e8": {
          "model_module": "@jupyter-widgets/controls",
          "model_name": "DescriptionStyleModel",
          "model_module_version": "1.5.0",
          "state": {
            "_model_module": "@jupyter-widgets/controls",
            "_model_module_version": "1.5.0",
            "_model_name": "DescriptionStyleModel",
            "_view_count": null,
            "_view_module": "@jupyter-widgets/base",
            "_view_module_version": "1.2.0",
            "_view_name": "StyleView",
            "description_width": ""
          }
        },
        "bf37eba755d045d5bce456ae937ddbc7": {
          "model_module": "@jupyter-widgets/base",
          "model_name": "LayoutModel",
          "model_module_version": "1.2.0",
          "state": {
            "_model_module": "@jupyter-widgets/base",
            "_model_module_version": "1.2.0",
            "_model_name": "LayoutModel",
            "_view_count": null,
            "_view_module": "@jupyter-widgets/base",
            "_view_module_version": "1.2.0",
            "_view_name": "LayoutView",
            "align_content": null,
            "align_items": null,
            "align_self": null,
            "border": null,
            "bottom": null,
            "display": null,
            "flex": null,
            "flex_flow": null,
            "grid_area": null,
            "grid_auto_columns": null,
            "grid_auto_flow": null,
            "grid_auto_rows": null,
            "grid_column": null,
            "grid_gap": null,
            "grid_row": null,
            "grid_template_areas": null,
            "grid_template_columns": null,
            "grid_template_rows": null,
            "height": null,
            "justify_content": null,
            "justify_items": null,
            "left": null,
            "margin": null,
            "max_height": null,
            "max_width": null,
            "min_height": null,
            "min_width": null,
            "object_fit": null,
            "object_position": null,
            "order": null,
            "overflow": null,
            "overflow_x": null,
            "overflow_y": null,
            "padding": null,
            "right": null,
            "top": null,
            "visibility": null,
            "width": null
          }
        },
        "2a6bdb36acb74b019284a463ae4e5104": {
          "model_module": "@jupyter-widgets/controls",
          "model_name": "ProgressStyleModel",
          "model_module_version": "1.5.0",
          "state": {
            "_model_module": "@jupyter-widgets/controls",
            "_model_module_version": "1.5.0",
            "_model_name": "ProgressStyleModel",
            "_view_count": null,
            "_view_module": "@jupyter-widgets/base",
            "_view_module_version": "1.2.0",
            "_view_name": "StyleView",
            "bar_color": null,
            "description_width": ""
          }
        },
        "f0e2c9174cdf494eb34d3326f77bf6dd": {
          "model_module": "@jupyter-widgets/base",
          "model_name": "LayoutModel",
          "model_module_version": "1.2.0",
          "state": {
            "_model_module": "@jupyter-widgets/base",
            "_model_module_version": "1.2.0",
            "_model_name": "LayoutModel",
            "_view_count": null,
            "_view_module": "@jupyter-widgets/base",
            "_view_module_version": "1.2.0",
            "_view_name": "LayoutView",
            "align_content": null,
            "align_items": null,
            "align_self": null,
            "border": null,
            "bottom": null,
            "display": null,
            "flex": null,
            "flex_flow": null,
            "grid_area": null,
            "grid_auto_columns": null,
            "grid_auto_flow": null,
            "grid_auto_rows": null,
            "grid_column": null,
            "grid_gap": null,
            "grid_row": null,
            "grid_template_areas": null,
            "grid_template_columns": null,
            "grid_template_rows": null,
            "height": null,
            "justify_content": null,
            "justify_items": null,
            "left": null,
            "margin": null,
            "max_height": null,
            "max_width": null,
            "min_height": null,
            "min_width": null,
            "object_fit": null,
            "object_position": null,
            "order": null,
            "overflow": null,
            "overflow_x": null,
            "overflow_y": null,
            "padding": null,
            "right": null,
            "top": null,
            "visibility": null,
            "width": null
          }
        },
        "8ed49df8ba754995a9f0b621781e3b46": {
          "model_module": "@jupyter-widgets/controls",
          "model_name": "DescriptionStyleModel",
          "model_module_version": "1.5.0",
          "state": {
            "_model_module": "@jupyter-widgets/controls",
            "_model_module_version": "1.5.0",
            "_model_name": "DescriptionStyleModel",
            "_view_count": null,
            "_view_module": "@jupyter-widgets/base",
            "_view_module_version": "1.2.0",
            "_view_name": "StyleView",
            "description_width": ""
          }
        },
        "8119f3a4780b4a609d302e5c71019ea3": {
          "model_module": "@jupyter-widgets/controls",
          "model_name": "HBoxModel",
          "model_module_version": "1.5.0",
          "state": {
            "_dom_classes": [],
            "_model_module": "@jupyter-widgets/controls",
            "_model_module_version": "1.5.0",
            "_model_name": "HBoxModel",
            "_view_count": null,
            "_view_module": "@jupyter-widgets/controls",
            "_view_module_version": "1.5.0",
            "_view_name": "HBoxView",
            "box_style": "",
            "children": [
              "IPY_MODEL_5d33fb357edb4380880686d73ad6d939",
              "IPY_MODEL_d65111b773de40d18fea45646e643aad",
              "IPY_MODEL_2abe38ff4a954ea689291a90d5d7add6"
            ],
            "layout": "IPY_MODEL_fa1ad6bb80944fe29820850f6aa7d0c9"
          }
        },
        "5d33fb357edb4380880686d73ad6d939": {
          "model_module": "@jupyter-widgets/controls",
          "model_name": "HTMLModel",
          "model_module_version": "1.5.0",
          "state": {
            "_dom_classes": [],
            "_model_module": "@jupyter-widgets/controls",
            "_model_module_version": "1.5.0",
            "_model_name": "HTMLModel",
            "_view_count": null,
            "_view_module": "@jupyter-widgets/controls",
            "_view_module_version": "1.5.0",
            "_view_name": "HTMLView",
            "description": "",
            "description_tooltip": null,
            "layout": "IPY_MODEL_134ac1060bdc4f25885195130f4c13f6",
            "placeholder": "​",
            "style": "IPY_MODEL_2ebd8807f10f4fa7b841c7079bee7a0f",
            "value": "Generating train split: 100%"
          }
        },
        "d65111b773de40d18fea45646e643aad": {
          "model_module": "@jupyter-widgets/controls",
          "model_name": "FloatProgressModel",
          "model_module_version": "1.5.0",
          "state": {
            "_dom_classes": [],
            "_model_module": "@jupyter-widgets/controls",
            "_model_module_version": "1.5.0",
            "_model_name": "FloatProgressModel",
            "_view_count": null,
            "_view_module": "@jupyter-widgets/controls",
            "_view_module_version": "1.5.0",
            "_view_name": "ProgressView",
            "bar_style": "success",
            "description": "",
            "description_tooltip": null,
            "layout": "IPY_MODEL_bb7cf0a7ff5d49928ffaefcdbd7b9b2e",
            "max": 5428,
            "min": 0,
            "orientation": "horizontal",
            "style": "IPY_MODEL_2ad34aff86f0459d8da24268d30b9780",
            "value": 5428
          }
        },
        "2abe38ff4a954ea689291a90d5d7add6": {
          "model_module": "@jupyter-widgets/controls",
          "model_name": "HTMLModel",
          "model_module_version": "1.5.0",
          "state": {
            "_dom_classes": [],
            "_model_module": "@jupyter-widgets/controls",
            "_model_module_version": "1.5.0",
            "_model_name": "HTMLModel",
            "_view_count": null,
            "_view_module": "@jupyter-widgets/controls",
            "_view_module_version": "1.5.0",
            "_view_name": "HTMLView",
            "description": "",
            "description_tooltip": null,
            "layout": "IPY_MODEL_22248747d1394cc0916ea35f84307b50",
            "placeholder": "​",
            "style": "IPY_MODEL_de6fb9902c6740018e6e19de7f43351b",
            "value": " 5428/5428 [00:02&lt;00:00, 1924.96 examples/s]"
          }
        },
        "fa1ad6bb80944fe29820850f6aa7d0c9": {
          "model_module": "@jupyter-widgets/base",
          "model_name": "LayoutModel",
          "model_module_version": "1.2.0",
          "state": {
            "_model_module": "@jupyter-widgets/base",
            "_model_module_version": "1.2.0",
            "_model_name": "LayoutModel",
            "_view_count": null,
            "_view_module": "@jupyter-widgets/base",
            "_view_module_version": "1.2.0",
            "_view_name": "LayoutView",
            "align_content": null,
            "align_items": null,
            "align_self": null,
            "border": null,
            "bottom": null,
            "display": null,
            "flex": null,
            "flex_flow": null,
            "grid_area": null,
            "grid_auto_columns": null,
            "grid_auto_flow": null,
            "grid_auto_rows": null,
            "grid_column": null,
            "grid_gap": null,
            "grid_row": null,
            "grid_template_areas": null,
            "grid_template_columns": null,
            "grid_template_rows": null,
            "height": null,
            "justify_content": null,
            "justify_items": null,
            "left": null,
            "margin": null,
            "max_height": null,
            "max_width": null,
            "min_height": null,
            "min_width": null,
            "object_fit": null,
            "object_position": null,
            "order": null,
            "overflow": null,
            "overflow_x": null,
            "overflow_y": null,
            "padding": null,
            "right": null,
            "top": null,
            "visibility": null,
            "width": null
          }
        },
        "134ac1060bdc4f25885195130f4c13f6": {
          "model_module": "@jupyter-widgets/base",
          "model_name": "LayoutModel",
          "model_module_version": "1.2.0",
          "state": {
            "_model_module": "@jupyter-widgets/base",
            "_model_module_version": "1.2.0",
            "_model_name": "LayoutModel",
            "_view_count": null,
            "_view_module": "@jupyter-widgets/base",
            "_view_module_version": "1.2.0",
            "_view_name": "LayoutView",
            "align_content": null,
            "align_items": null,
            "align_self": null,
            "border": null,
            "bottom": null,
            "display": null,
            "flex": null,
            "flex_flow": null,
            "grid_area": null,
            "grid_auto_columns": null,
            "grid_auto_flow": null,
            "grid_auto_rows": null,
            "grid_column": null,
            "grid_gap": null,
            "grid_row": null,
            "grid_template_areas": null,
            "grid_template_columns": null,
            "grid_template_rows": null,
            "height": null,
            "justify_content": null,
            "justify_items": null,
            "left": null,
            "margin": null,
            "max_height": null,
            "max_width": null,
            "min_height": null,
            "min_width": null,
            "object_fit": null,
            "object_position": null,
            "order": null,
            "overflow": null,
            "overflow_x": null,
            "overflow_y": null,
            "padding": null,
            "right": null,
            "top": null,
            "visibility": null,
            "width": null
          }
        },
        "2ebd8807f10f4fa7b841c7079bee7a0f": {
          "model_module": "@jupyter-widgets/controls",
          "model_name": "DescriptionStyleModel",
          "model_module_version": "1.5.0",
          "state": {
            "_model_module": "@jupyter-widgets/controls",
            "_model_module_version": "1.5.0",
            "_model_name": "DescriptionStyleModel",
            "_view_count": null,
            "_view_module": "@jupyter-widgets/base",
            "_view_module_version": "1.2.0",
            "_view_name": "StyleView",
            "description_width": ""
          }
        },
        "bb7cf0a7ff5d49928ffaefcdbd7b9b2e": {
          "model_module": "@jupyter-widgets/base",
          "model_name": "LayoutModel",
          "model_module_version": "1.2.0",
          "state": {
            "_model_module": "@jupyter-widgets/base",
            "_model_module_version": "1.2.0",
            "_model_name": "LayoutModel",
            "_view_count": null,
            "_view_module": "@jupyter-widgets/base",
            "_view_module_version": "1.2.0",
            "_view_name": "LayoutView",
            "align_content": null,
            "align_items": null,
            "align_self": null,
            "border": null,
            "bottom": null,
            "display": null,
            "flex": null,
            "flex_flow": null,
            "grid_area": null,
            "grid_auto_columns": null,
            "grid_auto_flow": null,
            "grid_auto_rows": null,
            "grid_column": null,
            "grid_gap": null,
            "grid_row": null,
            "grid_template_areas": null,
            "grid_template_columns": null,
            "grid_template_rows": null,
            "height": null,
            "justify_content": null,
            "justify_items": null,
            "left": null,
            "margin": null,
            "max_height": null,
            "max_width": null,
            "min_height": null,
            "min_width": null,
            "object_fit": null,
            "object_position": null,
            "order": null,
            "overflow": null,
            "overflow_x": null,
            "overflow_y": null,
            "padding": null,
            "right": null,
            "top": null,
            "visibility": null,
            "width": null
          }
        },
        "2ad34aff86f0459d8da24268d30b9780": {
          "model_module": "@jupyter-widgets/controls",
          "model_name": "ProgressStyleModel",
          "model_module_version": "1.5.0",
          "state": {
            "_model_module": "@jupyter-widgets/controls",
            "_model_module_version": "1.5.0",
            "_model_name": "ProgressStyleModel",
            "_view_count": null,
            "_view_module": "@jupyter-widgets/base",
            "_view_module_version": "1.2.0",
            "_view_name": "StyleView",
            "bar_color": null,
            "description_width": ""
          }
        },
        "22248747d1394cc0916ea35f84307b50": {
          "model_module": "@jupyter-widgets/base",
          "model_name": "LayoutModel",
          "model_module_version": "1.2.0",
          "state": {
            "_model_module": "@jupyter-widgets/base",
            "_model_module_version": "1.2.0",
            "_model_name": "LayoutModel",
            "_view_count": null,
            "_view_module": "@jupyter-widgets/base",
            "_view_module_version": "1.2.0",
            "_view_name": "LayoutView",
            "align_content": null,
            "align_items": null,
            "align_self": null,
            "border": null,
            "bottom": null,
            "display": null,
            "flex": null,
            "flex_flow": null,
            "grid_area": null,
            "grid_auto_columns": null,
            "grid_auto_flow": null,
            "grid_auto_rows": null,
            "grid_column": null,
            "grid_gap": null,
            "grid_row": null,
            "grid_template_areas": null,
            "grid_template_columns": null,
            "grid_template_rows": null,
            "height": null,
            "justify_content": null,
            "justify_items": null,
            "left": null,
            "margin": null,
            "max_height": null,
            "max_width": null,
            "min_height": null,
            "min_width": null,
            "object_fit": null,
            "object_position": null,
            "order": null,
            "overflow": null,
            "overflow_x": null,
            "overflow_y": null,
            "padding": null,
            "right": null,
            "top": null,
            "visibility": null,
            "width": null
          }
        },
        "de6fb9902c6740018e6e19de7f43351b": {
          "model_module": "@jupyter-widgets/controls",
          "model_name": "DescriptionStyleModel",
          "model_module_version": "1.5.0",
          "state": {
            "_model_module": "@jupyter-widgets/controls",
            "_model_module_version": "1.5.0",
            "_model_name": "DescriptionStyleModel",
            "_view_count": null,
            "_view_module": "@jupyter-widgets/base",
            "_view_module_version": "1.2.0",
            "_view_name": "StyleView",
            "description_width": ""
          }
        },
        "0039260d4a5448bcb9745f4e3b254be2": {
          "model_module": "@jupyter-widgets/controls",
          "model_name": "HBoxModel",
          "model_module_version": "1.5.0",
          "state": {
            "_dom_classes": [],
            "_model_module": "@jupyter-widgets/controls",
            "_model_module_version": "1.5.0",
            "_model_name": "HBoxModel",
            "_view_count": null,
            "_view_module": "@jupyter-widgets/controls",
            "_view_module_version": "1.5.0",
            "_view_name": "HBoxView",
            "box_style": "",
            "children": [
              "IPY_MODEL_b4c0ae25a1ab4d238e1c8248072b6ed5",
              "IPY_MODEL_7ad8efe0304340648440a5ca75b7ece6",
              "IPY_MODEL_4b2f852973dd4b5cae1a80227c4a6bfe"
            ],
            "layout": "IPY_MODEL_4f6cf64809694568aada809d74b29318"
          }
        },
        "b4c0ae25a1ab4d238e1c8248072b6ed5": {
          "model_module": "@jupyter-widgets/controls",
          "model_name": "HTMLModel",
          "model_module_version": "1.5.0",
          "state": {
            "_dom_classes": [],
            "_model_module": "@jupyter-widgets/controls",
            "_model_module_version": "1.5.0",
            "_model_name": "HTMLModel",
            "_view_count": null,
            "_view_module": "@jupyter-widgets/controls",
            "_view_module_version": "1.5.0",
            "_view_name": "HTMLView",
            "description": "",
            "description_tooltip": null,
            "layout": "IPY_MODEL_424bc9271e834c6395778abf66c77270",
            "placeholder": "​",
            "style": "IPY_MODEL_25a8c7fc3c15458d89f804a248a4e20d",
            "value": "Generating validation split: 100%"
          }
        },
        "7ad8efe0304340648440a5ca75b7ece6": {
          "model_module": "@jupyter-widgets/controls",
          "model_name": "FloatProgressModel",
          "model_module_version": "1.5.0",
          "state": {
            "_dom_classes": [],
            "_model_module": "@jupyter-widgets/controls",
            "_model_module_version": "1.5.0",
            "_model_name": "FloatProgressModel",
            "_view_count": null,
            "_view_module": "@jupyter-widgets/controls",
            "_view_module_version": "1.5.0",
            "_view_name": "ProgressView",
            "bar_style": "success",
            "description": "",
            "description_tooltip": null,
            "layout": "IPY_MODEL_d4ea4efad86a4a22a095f765f7b78040",
            "max": 638,
            "min": 0,
            "orientation": "horizontal",
            "style": "IPY_MODEL_b3a28c922c45427cbda0baccd7e6fcb7",
            "value": 638
          }
        },
        "4b2f852973dd4b5cae1a80227c4a6bfe": {
          "model_module": "@jupyter-widgets/controls",
          "model_name": "HTMLModel",
          "model_module_version": "1.5.0",
          "state": {
            "_dom_classes": [],
            "_model_module": "@jupyter-widgets/controls",
            "_model_module_version": "1.5.0",
            "_model_name": "HTMLModel",
            "_view_count": null,
            "_view_module": "@jupyter-widgets/controls",
            "_view_module_version": "1.5.0",
            "_view_name": "HTMLView",
            "description": "",
            "description_tooltip": null,
            "layout": "IPY_MODEL_8e021a826a4440fdb3362b495a5a14b2",
            "placeholder": "​",
            "style": "IPY_MODEL_55a1441827794632a82815ec366ff5e3",
            "value": " 638/638 [00:00&lt;00:00, 1835.32 examples/s]"
          }
        },
        "4f6cf64809694568aada809d74b29318": {
          "model_module": "@jupyter-widgets/base",
          "model_name": "LayoutModel",
          "model_module_version": "1.2.0",
          "state": {
            "_model_module": "@jupyter-widgets/base",
            "_model_module_version": "1.2.0",
            "_model_name": "LayoutModel",
            "_view_count": null,
            "_view_module": "@jupyter-widgets/base",
            "_view_module_version": "1.2.0",
            "_view_name": "LayoutView",
            "align_content": null,
            "align_items": null,
            "align_self": null,
            "border": null,
            "bottom": null,
            "display": null,
            "flex": null,
            "flex_flow": null,
            "grid_area": null,
            "grid_auto_columns": null,
            "grid_auto_flow": null,
            "grid_auto_rows": null,
            "grid_column": null,
            "grid_gap": null,
            "grid_row": null,
            "grid_template_areas": null,
            "grid_template_columns": null,
            "grid_template_rows": null,
            "height": null,
            "justify_content": null,
            "justify_items": null,
            "left": null,
            "margin": null,
            "max_height": null,
            "max_width": null,
            "min_height": null,
            "min_width": null,
            "object_fit": null,
            "object_position": null,
            "order": null,
            "overflow": null,
            "overflow_x": null,
            "overflow_y": null,
            "padding": null,
            "right": null,
            "top": null,
            "visibility": null,
            "width": null
          }
        },
        "424bc9271e834c6395778abf66c77270": {
          "model_module": "@jupyter-widgets/base",
          "model_name": "LayoutModel",
          "model_module_version": "1.2.0",
          "state": {
            "_model_module": "@jupyter-widgets/base",
            "_model_module_version": "1.2.0",
            "_model_name": "LayoutModel",
            "_view_count": null,
            "_view_module": "@jupyter-widgets/base",
            "_view_module_version": "1.2.0",
            "_view_name": "LayoutView",
            "align_content": null,
            "align_items": null,
            "align_self": null,
            "border": null,
            "bottom": null,
            "display": null,
            "flex": null,
            "flex_flow": null,
            "grid_area": null,
            "grid_auto_columns": null,
            "grid_auto_flow": null,
            "grid_auto_rows": null,
            "grid_column": null,
            "grid_gap": null,
            "grid_row": null,
            "grid_template_areas": null,
            "grid_template_columns": null,
            "grid_template_rows": null,
            "height": null,
            "justify_content": null,
            "justify_items": null,
            "left": null,
            "margin": null,
            "max_height": null,
            "max_width": null,
            "min_height": null,
            "min_width": null,
            "object_fit": null,
            "object_position": null,
            "order": null,
            "overflow": null,
            "overflow_x": null,
            "overflow_y": null,
            "padding": null,
            "right": null,
            "top": null,
            "visibility": null,
            "width": null
          }
        },
        "25a8c7fc3c15458d89f804a248a4e20d": {
          "model_module": "@jupyter-widgets/controls",
          "model_name": "DescriptionStyleModel",
          "model_module_version": "1.5.0",
          "state": {
            "_model_module": "@jupyter-widgets/controls",
            "_model_module_version": "1.5.0",
            "_model_name": "DescriptionStyleModel",
            "_view_count": null,
            "_view_module": "@jupyter-widgets/base",
            "_view_module_version": "1.2.0",
            "_view_name": "StyleView",
            "description_width": ""
          }
        },
        "d4ea4efad86a4a22a095f765f7b78040": {
          "model_module": "@jupyter-widgets/base",
          "model_name": "LayoutModel",
          "model_module_version": "1.2.0",
          "state": {
            "_model_module": "@jupyter-widgets/base",
            "_model_module_version": "1.2.0",
            "_model_name": "LayoutModel",
            "_view_count": null,
            "_view_module": "@jupyter-widgets/base",
            "_view_module_version": "1.2.0",
            "_view_name": "LayoutView",
            "align_content": null,
            "align_items": null,
            "align_self": null,
            "border": null,
            "bottom": null,
            "display": null,
            "flex": null,
            "flex_flow": null,
            "grid_area": null,
            "grid_auto_columns": null,
            "grid_auto_flow": null,
            "grid_auto_rows": null,
            "grid_column": null,
            "grid_gap": null,
            "grid_row": null,
            "grid_template_areas": null,
            "grid_template_columns": null,
            "grid_template_rows": null,
            "height": null,
            "justify_content": null,
            "justify_items": null,
            "left": null,
            "margin": null,
            "max_height": null,
            "max_width": null,
            "min_height": null,
            "min_width": null,
            "object_fit": null,
            "object_position": null,
            "order": null,
            "overflow": null,
            "overflow_x": null,
            "overflow_y": null,
            "padding": null,
            "right": null,
            "top": null,
            "visibility": null,
            "width": null
          }
        },
        "b3a28c922c45427cbda0baccd7e6fcb7": {
          "model_module": "@jupyter-widgets/controls",
          "model_name": "ProgressStyleModel",
          "model_module_version": "1.5.0",
          "state": {
            "_model_module": "@jupyter-widgets/controls",
            "_model_module_version": "1.5.0",
            "_model_name": "ProgressStyleModel",
            "_view_count": null,
            "_view_module": "@jupyter-widgets/base",
            "_view_module_version": "1.2.0",
            "_view_name": "StyleView",
            "bar_color": null,
            "description_width": ""
          }
        },
        "8e021a826a4440fdb3362b495a5a14b2": {
          "model_module": "@jupyter-widgets/base",
          "model_name": "LayoutModel",
          "model_module_version": "1.2.0",
          "state": {
            "_model_module": "@jupyter-widgets/base",
            "_model_module_version": "1.2.0",
            "_model_name": "LayoutModel",
            "_view_count": null,
            "_view_module": "@jupyter-widgets/base",
            "_view_module_version": "1.2.0",
            "_view_name": "LayoutView",
            "align_content": null,
            "align_items": null,
            "align_self": null,
            "border": null,
            "bottom": null,
            "display": null,
            "flex": null,
            "flex_flow": null,
            "grid_area": null,
            "grid_auto_columns": null,
            "grid_auto_flow": null,
            "grid_auto_rows": null,
            "grid_column": null,
            "grid_gap": null,
            "grid_row": null,
            "grid_template_areas": null,
            "grid_template_columns": null,
            "grid_template_rows": null,
            "height": null,
            "justify_content": null,
            "justify_items": null,
            "left": null,
            "margin": null,
            "max_height": null,
            "max_width": null,
            "min_height": null,
            "min_width": null,
            "object_fit": null,
            "object_position": null,
            "order": null,
            "overflow": null,
            "overflow_x": null,
            "overflow_y": null,
            "padding": null,
            "right": null,
            "top": null,
            "visibility": null,
            "width": null
          }
        },
        "55a1441827794632a82815ec366ff5e3": {
          "model_module": "@jupyter-widgets/controls",
          "model_name": "DescriptionStyleModel",
          "model_module_version": "1.5.0",
          "state": {
            "_model_module": "@jupyter-widgets/controls",
            "_model_module_version": "1.5.0",
            "_model_name": "DescriptionStyleModel",
            "_view_count": null,
            "_view_module": "@jupyter-widgets/base",
            "_view_module_version": "1.2.0",
            "_view_name": "StyleView",
            "description_width": ""
          }
        },
        "2c3cf30d1428425487200c73732f5cc4": {
          "model_module": "@jupyter-widgets/controls",
          "model_name": "HBoxModel",
          "model_module_version": "1.5.0",
          "state": {
            "_dom_classes": [],
            "_model_module": "@jupyter-widgets/controls",
            "_model_module_version": "1.5.0",
            "_model_name": "HBoxModel",
            "_view_count": null,
            "_view_module": "@jupyter-widgets/controls",
            "_view_module_version": "1.5.0",
            "_view_name": "HBoxView",
            "box_style": "",
            "children": [
              "IPY_MODEL_1aa23c96ec8d4a8f96d2370fb9511537",
              "IPY_MODEL_990407b84138433dbacdf86d3b455797",
              "IPY_MODEL_36065c9258764d3fa6307b5e0fed5f69"
            ],
            "layout": "IPY_MODEL_02b60422d8dc4ce1801733c13daaabbb"
          }
        },
        "1aa23c96ec8d4a8f96d2370fb9511537": {
          "model_module": "@jupyter-widgets/controls",
          "model_name": "HTMLModel",
          "model_module_version": "1.5.0",
          "state": {
            "_dom_classes": [],
            "_model_module": "@jupyter-widgets/controls",
            "_model_module_version": "1.5.0",
            "_model_name": "HTMLModel",
            "_view_count": null,
            "_view_module": "@jupyter-widgets/controls",
            "_view_module_version": "1.5.0",
            "_view_name": "HTMLView",
            "description": "",
            "description_tooltip": null,
            "layout": "IPY_MODEL_fd2917d20a414ac8aa3e41e28efc49dc",
            "placeholder": "​",
            "style": "IPY_MODEL_b68cb366dc974d0594d549d19bd003c5",
            "value": "Generating test split: 100%"
          }
        },
        "990407b84138433dbacdf86d3b455797": {
          "model_module": "@jupyter-widgets/controls",
          "model_name": "FloatProgressModel",
          "model_module_version": "1.5.0",
          "state": {
            "_dom_classes": [],
            "_model_module": "@jupyter-widgets/controls",
            "_model_module_version": "1.5.0",
            "_model_name": "FloatProgressModel",
            "_view_count": null,
            "_view_module": "@jupyter-widgets/controls",
            "_view_module_version": "1.5.0",
            "_view_name": "ProgressView",
            "bar_style": "success",
            "description": "",
            "description_tooltip": null,
            "layout": "IPY_MODEL_07bfa33216c94804aaa7ebf18bdf090b",
            "max": 1400,
            "min": 0,
            "orientation": "horizontal",
            "style": "IPY_MODEL_d65bcb59b394407ba7a12dbf43ad384e",
            "value": 1400
          }
        },
        "36065c9258764d3fa6307b5e0fed5f69": {
          "model_module": "@jupyter-widgets/controls",
          "model_name": "HTMLModel",
          "model_module_version": "1.5.0",
          "state": {
            "_dom_classes": [],
            "_model_module": "@jupyter-widgets/controls",
            "_model_module_version": "1.5.0",
            "_model_name": "HTMLModel",
            "_view_count": null,
            "_view_module": "@jupyter-widgets/controls",
            "_view_module_version": "1.5.0",
            "_view_name": "HTMLView",
            "description": "",
            "description_tooltip": null,
            "layout": "IPY_MODEL_2847257c0607419dadfde7c15e68f2ca",
            "placeholder": "​",
            "style": "IPY_MODEL_04fb8bddce73408098e7ce04ef816d2e",
            "value": " 1400/1400 [00:00&lt;00:00, 2365.25 examples/s]"
          }
        },
        "02b60422d8dc4ce1801733c13daaabbb": {
          "model_module": "@jupyter-widgets/base",
          "model_name": "LayoutModel",
          "model_module_version": "1.2.0",
          "state": {
            "_model_module": "@jupyter-widgets/base",
            "_model_module_version": "1.2.0",
            "_model_name": "LayoutModel",
            "_view_count": null,
            "_view_module": "@jupyter-widgets/base",
            "_view_module_version": "1.2.0",
            "_view_name": "LayoutView",
            "align_content": null,
            "align_items": null,
            "align_self": null,
            "border": null,
            "bottom": null,
            "display": null,
            "flex": null,
            "flex_flow": null,
            "grid_area": null,
            "grid_auto_columns": null,
            "grid_auto_flow": null,
            "grid_auto_rows": null,
            "grid_column": null,
            "grid_gap": null,
            "grid_row": null,
            "grid_template_areas": null,
            "grid_template_columns": null,
            "grid_template_rows": null,
            "height": null,
            "justify_content": null,
            "justify_items": null,
            "left": null,
            "margin": null,
            "max_height": null,
            "max_width": null,
            "min_height": null,
            "min_width": null,
            "object_fit": null,
            "object_position": null,
            "order": null,
            "overflow": null,
            "overflow_x": null,
            "overflow_y": null,
            "padding": null,
            "right": null,
            "top": null,
            "visibility": null,
            "width": null
          }
        },
        "fd2917d20a414ac8aa3e41e28efc49dc": {
          "model_module": "@jupyter-widgets/base",
          "model_name": "LayoutModel",
          "model_module_version": "1.2.0",
          "state": {
            "_model_module": "@jupyter-widgets/base",
            "_model_module_version": "1.2.0",
            "_model_name": "LayoutModel",
            "_view_count": null,
            "_view_module": "@jupyter-widgets/base",
            "_view_module_version": "1.2.0",
            "_view_name": "LayoutView",
            "align_content": null,
            "align_items": null,
            "align_self": null,
            "border": null,
            "bottom": null,
            "display": null,
            "flex": null,
            "flex_flow": null,
            "grid_area": null,
            "grid_auto_columns": null,
            "grid_auto_flow": null,
            "grid_auto_rows": null,
            "grid_column": null,
            "grid_gap": null,
            "grid_row": null,
            "grid_template_areas": null,
            "grid_template_columns": null,
            "grid_template_rows": null,
            "height": null,
            "justify_content": null,
            "justify_items": null,
            "left": null,
            "margin": null,
            "max_height": null,
            "max_width": null,
            "min_height": null,
            "min_width": null,
            "object_fit": null,
            "object_position": null,
            "order": null,
            "overflow": null,
            "overflow_x": null,
            "overflow_y": null,
            "padding": null,
            "right": null,
            "top": null,
            "visibility": null,
            "width": null
          }
        },
        "b68cb366dc974d0594d549d19bd003c5": {
          "model_module": "@jupyter-widgets/controls",
          "model_name": "DescriptionStyleModel",
          "model_module_version": "1.5.0",
          "state": {
            "_model_module": "@jupyter-widgets/controls",
            "_model_module_version": "1.5.0",
            "_model_name": "DescriptionStyleModel",
            "_view_count": null,
            "_view_module": "@jupyter-widgets/base",
            "_view_module_version": "1.2.0",
            "_view_name": "StyleView",
            "description_width": ""
          }
        },
        "07bfa33216c94804aaa7ebf18bdf090b": {
          "model_module": "@jupyter-widgets/base",
          "model_name": "LayoutModel",
          "model_module_version": "1.2.0",
          "state": {
            "_model_module": "@jupyter-widgets/base",
            "_model_module_version": "1.2.0",
            "_model_name": "LayoutModel",
            "_view_count": null,
            "_view_module": "@jupyter-widgets/base",
            "_view_module_version": "1.2.0",
            "_view_name": "LayoutView",
            "align_content": null,
            "align_items": null,
            "align_self": null,
            "border": null,
            "bottom": null,
            "display": null,
            "flex": null,
            "flex_flow": null,
            "grid_area": null,
            "grid_auto_columns": null,
            "grid_auto_flow": null,
            "grid_auto_rows": null,
            "grid_column": null,
            "grid_gap": null,
            "grid_row": null,
            "grid_template_areas": null,
            "grid_template_columns": null,
            "grid_template_rows": null,
            "height": null,
            "justify_content": null,
            "justify_items": null,
            "left": null,
            "margin": null,
            "max_height": null,
            "max_width": null,
            "min_height": null,
            "min_width": null,
            "object_fit": null,
            "object_position": null,
            "order": null,
            "overflow": null,
            "overflow_x": null,
            "overflow_y": null,
            "padding": null,
            "right": null,
            "top": null,
            "visibility": null,
            "width": null
          }
        },
        "d65bcb59b394407ba7a12dbf43ad384e": {
          "model_module": "@jupyter-widgets/controls",
          "model_name": "ProgressStyleModel",
          "model_module_version": "1.5.0",
          "state": {
            "_model_module": "@jupyter-widgets/controls",
            "_model_module_version": "1.5.0",
            "_model_name": "ProgressStyleModel",
            "_view_count": null,
            "_view_module": "@jupyter-widgets/base",
            "_view_module_version": "1.2.0",
            "_view_name": "StyleView",
            "bar_color": null,
            "description_width": ""
          }
        },
        "2847257c0607419dadfde7c15e68f2ca": {
          "model_module": "@jupyter-widgets/base",
          "model_name": "LayoutModel",
          "model_module_version": "1.2.0",
          "state": {
            "_model_module": "@jupyter-widgets/base",
            "_model_module_version": "1.2.0",
            "_model_name": "LayoutModel",
            "_view_count": null,
            "_view_module": "@jupyter-widgets/base",
            "_view_module_version": "1.2.0",
            "_view_name": "LayoutView",
            "align_content": null,
            "align_items": null,
            "align_self": null,
            "border": null,
            "bottom": null,
            "display": null,
            "flex": null,
            "flex_flow": null,
            "grid_area": null,
            "grid_auto_columns": null,
            "grid_auto_flow": null,
            "grid_auto_rows": null,
            "grid_column": null,
            "grid_gap": null,
            "grid_row": null,
            "grid_template_areas": null,
            "grid_template_columns": null,
            "grid_template_rows": null,
            "height": null,
            "justify_content": null,
            "justify_items": null,
            "left": null,
            "margin": null,
            "max_height": null,
            "max_width": null,
            "min_height": null,
            "min_width": null,
            "object_fit": null,
            "object_position": null,
            "order": null,
            "overflow": null,
            "overflow_x": null,
            "overflow_y": null,
            "padding": null,
            "right": null,
            "top": null,
            "visibility": null,
            "width": null
          }
        },
        "04fb8bddce73408098e7ce04ef816d2e": {
          "model_module": "@jupyter-widgets/controls",
          "model_name": "DescriptionStyleModel",
          "model_module_version": "1.5.0",
          "state": {
            "_model_module": "@jupyter-widgets/controls",
            "_model_module_version": "1.5.0",
            "_model_name": "DescriptionStyleModel",
            "_view_count": null,
            "_view_module": "@jupyter-widgets/base",
            "_view_module_version": "1.2.0",
            "_view_name": "StyleView",
            "description_width": ""
          }
        }
      }
    }
  },
  "cells": [
    {
      "cell_type": "code",
      "source": [
        "!pip install datasets\n",
        "from IPython.display import clear_output\n",
        "clear_output()"
      ],
      "metadata": {
        "id": "xwiNB_6Rx5M7"
      },
      "execution_count": null,
      "outputs": []
    },
    {
      "cell_type": "markdown",
      "source": [
        "# Autograd for MLPs from scratch\n",
        "\n",
        "Automatic differentiation is the backbone of modern deep learning toolkits like Torch, JAX, TensorFlow, and MLX. To build an understanding of how these tools work, we will define functions and their gradients/Jacobians and compose them together to as the building blocks of a neural network\n",
        "\n",
        "The gradient of a real-valued function $f:\\mathbb{R}^n\\to\\mathbb{R}$ is a vector where\n",
        "$$\\nabla f(\\boldsymbol{x})_{i}=\\frac{\\partial f(\\boldsymbol{x})}{\\partial x_i}$$\n",
        "\n",
        "The Jacobian is a generalization of the gradient for a vector-valued function $f:\\mathbb{R}^m\\to\\mathbb{R}^n$. It is a $m\\times n$ matrix where\n",
        "$$J_f(\\boldsymbol{x})_{i,j}=\\frac{\\partial f(\\boldsymbol{x})_i}{\\partial x_j}$$\n",
        "\n",
        "Neural nets are generally built from composed functions. To calculate the Jacobian of composed functions, we can use matrix multiplication to apply the chain rule.\n",
        "\n",
        "$$\n",
        "J_{f\\circ g}(\\boldsymbol{x})\n",
        "= J_f(g(\\boldsymbol{x}))J_g(\\boldsymbol{x})\n",
        "$$\n"
      ],
      "metadata": {
        "id": "QS-G6o0OIo0j"
      }
    },
    {
      "cell_type": "code",
      "source": [
        "import jax\n",
        "import jax.numpy as np\n",
        "from numpy import testing\n",
        "import math\n",
        "\n",
        "def test(func, func_and_jac, *params):\n",
        "  testing.assert_allclose(func(*params), func_and_jac(*params)[0])\n",
        "  for i in range(len(params)):\n",
        "    print(f\"Testing Jacobian of parameter {i}\")\n",
        "    testing.assert_allclose(jax.jacfwd(func, argnums=i)(*params), func_and_jac(*params)[i + 1])\n",
        "  print(\"All passed!\")"
      ],
      "metadata": {
        "id": "lr0x4JJGXn9O"
      },
      "execution_count": null,
      "outputs": []
    },
    {
      "cell_type": "code",
      "source": [
        "def add_and_jac(x, y):\n",
        "  output = x + y\n",
        "  x_jac = np.eye(math.prod(x.shape)).reshape(*x.shape, *x.shape)\n",
        "  x_jac = np.broadcast_to(x_jac, (*output.shape, *x.shape))\n",
        "  y_jac = np.eye(math.prod(y.shape)).reshape(*y.shape, *y.shape)\n",
        "  y_jac = np.broadcast_to(y_jac, (*output.shape, *y.shape))\n",
        "  return output, x_jac, y_jac\n",
        "\n",
        "x, y = np.arange(24).reshape(2, 3, 4).astype(float)\n",
        "test(np.add, add_and_jac, x, y)"
      ],
      "metadata": {
        "id": "ABgqxvY-p0J3",
        "colab": {
          "base_uri": "https://localhost:8080/"
        },
        "outputId": "cfe0d12e-57eb-4fbc-9f9e-f23b238cf92e"
      },
      "execution_count": null,
      "outputs": [
        {
          "output_type": "stream",
          "name": "stdout",
          "text": [
            "Testing Jacobian of parameter 0\n",
            "Testing Jacobian of parameter 1\n",
            "All passed!\n"
          ]
        }
      ]
    },
    {
      "cell_type": "code",
      "source": [
        "def matmul_and_jac(x, y):\n",
        "    output = np.matmul(x, y)\n",
        "\n",
        "    m, n = x.shape\n",
        "    _, p = y.shape\n",
        "\n",
        "    x_jac = np.einsum('ik,jl->ijkl', np.eye(m), y.T)\n",
        "    y_jac = np.einsum('ij,kl->ikjl', x, np.eye(p))\n",
        "\n",
        "    return output, x_jac, y_jac\n",
        "\n",
        "x = np.arange(12).reshape(3, 4).astype(float)\n",
        "y = np.arange(20).reshape(4, 5).astype(float)\n",
        "test(np.matmul, matmul_and_jac, x, y)"
      ],
      "metadata": {
        "id": "twyuvpUBp4NU",
        "colab": {
          "base_uri": "https://localhost:8080/"
        },
        "outputId": "47deae26-4c96-4891-b481-115b5bce18bd"
      },
      "execution_count": null,
      "outputs": [
        {
          "output_type": "stream",
          "name": "stdout",
          "text": [
            "Testing Jacobian of parameter 0\n",
            "Testing Jacobian of parameter 1\n",
            "All passed!\n"
          ]
        }
      ]
    },
    {
      "cell_type": "code",
      "source": [
        "def affine(x, w, b):\n",
        "  return np.dot(x, w) + b\n",
        "\n",
        "def affine_and_jac(x, w, b):\n",
        "    matmul_output, x_jac, w_jac = matmul_and_jac(x, w)\n",
        "    output, add_jac1, b_jac = add_and_jac(matmul_output, b)\n",
        "\n",
        "    return output, x_jac, w_jac, b_jac\n",
        "\n",
        "x = np.arange(12).reshape(3, 4).astype(float)\n",
        "w = np.arange(20).reshape(4, 5).astype(float)\n",
        "b = np.arange(5).reshape(1, 5).astype(float)\n",
        "test(affine, affine_and_jac, x, w, b)"
      ],
      "metadata": {
        "id": "atHiRVpDp6qg",
        "colab": {
          "base_uri": "https://localhost:8080/"
        },
        "outputId": "63dfdf6a-d3fc-4f2e-a894-79ae4dd0fc8f"
      },
      "execution_count": null,
      "outputs": [
        {
          "output_type": "stream",
          "name": "stdout",
          "text": [
            "Testing Jacobian of parameter 0\n",
            "Testing Jacobian of parameter 1\n",
            "Testing Jacobian of parameter 2\n",
            "All passed!\n"
          ]
        }
      ]
    },
    {
      "cell_type": "code",
      "source": [
        "def relu(x):\n",
        "  return np.maximum(x, 0)\n",
        "\n",
        "def relu_and_jac(x):\n",
        "    x_jac = (np.diagflat(x > 0) + np.diagflat(x == 0) / 2).reshape(*x.shape, *x.shape)\n",
        "    return np.maximum(x, 0), x_jac\n",
        "\n",
        "def logsoftmax(x):\n",
        "    stabilized_x = x - np.max(x, axis=1, keepdims=True)\n",
        "    return stabilized_x - np.log(np.sum(np.exp(stabilized_x), axis=1, keepdims=True))\n",
        "\n",
        "def logsoftmax_and_jac(x):\n",
        "    stabilized_x = x - np.max(x, axis=1, keepdims=True)\n",
        "    softmax = np.exp(stabilized_x) / np.sum(np.exp(stabilized_x), axis=1, keepdims=True)\n",
        "    logsoftmax_output = logsoftmax(x)\n",
        "\n",
        "    n, m = x.shape\n",
        "    jac = np.zeros((n, m, n, m))\n",
        "\n",
        "    for i in range(n):\n",
        "        for j in range(m):\n",
        "            for k in range(m):\n",
        "                if j == k:\n",
        "                    jac = jac.at[i, j, i, k].set(1 - softmax[i, j])\n",
        "                else:\n",
        "                    jac = jac.at[i, j, i, k].set(-softmax[i, k])\n",
        "\n",
        "    return logsoftmax_output, jac\n",
        "\n",
        "\n",
        "x = np.arange(12).reshape(3, 4).astype(float)\n",
        "test(logsoftmax, logsoftmax_and_jac, x)"
      ],
      "metadata": {
        "id": "ScKwmMiurkp_",
        "colab": {
          "base_uri": "https://localhost:8080/"
        },
        "outputId": "00d38c07-0e3a-4755-ea27-9d4045083ec9"
      },
      "execution_count": null,
      "outputs": [
        {
          "output_type": "stream",
          "name": "stdout",
          "text": [
            "Testing Jacobian of parameter 0\n",
            "All passed!\n"
          ]
        }
      ]
    },
    {
      "cell_type": "markdown",
      "source": [
        "Now that you have all the building blocks, we can compose them together to create an MLP and its Jacobian!"
      ],
      "metadata": {
        "id": "pmLjPdUArqof"
      }
    },
    {
      "cell_type": "code",
      "source": [
        "def tree_map(func, *trees: np.ndarray | tuple[np.ndarray], **kwargs):\n",
        "  if not isinstance(trees[0], tuple):\n",
        "    return func(*trees, **kwargs)\n",
        "  else:\n",
        "    return tuple(tree_map(func, *subtrees, **kwargs) for subtrees in zip(*trees))\n",
        "\n",
        "def sequential(func_and_jac_seq):\n",
        "  def func_and_jac(x, params_seq):\n",
        "    params_jac = ()\n",
        "    x, x_jac, _ = add_and_jac(x, np.zeros_like(x))\n",
        "    for func_and_jac, params in zip(func_and_jac_seq, params_seq):\n",
        "      x, x_layer_jac, *param_layer_jacs = func_and_jac(x, *params)\n",
        "      params_jac = tree_map(lambda param: np.einsum(\"...kl,klmn->...mn\", x_layer_jac, param), params_jac)\n",
        "      x_jac = np.einsum(\"...kl,klmn->...mn\", x_layer_jac, x_jac)\n",
        "      params_jac += (tuple(param_layer_jacs),)\n",
        "    return x, x_jac, params_jac\n",
        "  return func_and_jac\n",
        "\n",
        "# 2-layer MLP\n",
        "def mlp(x, params):\n",
        "  affine1_params, _, affine2_params, _ = params\n",
        "  return logsoftmax(affine(relu(affine(x, *affine1_params)), *affine2_params))\n",
        "\n",
        "# its Jacobian!\n",
        "mlp_and_jac = sequential(\n",
        "    [affine_and_jac, relu_and_jac, affine_and_jac, logsoftmax_and_jac]\n",
        ")\n",
        "\n",
        "import numpy\n",
        "\n",
        "mlp_params = (\n",
        "    (\n",
        "      numpy.random.randn(10,100), # first matmul\n",
        "      numpy.random.randn(1, 100) # first bias\n",
        "    ),\n",
        "    (), # relu has no params\n",
        "    (\n",
        "      numpy.random.randn(100,10), # final matmul\n",
        "      numpy.random.randn(1, 10) # final bias\n",
        "    ),\n",
        "    (), # logsoftmax has no params\n",
        ")\n",
        "\n",
        "x = numpy.random.randn(3,10)\n",
        "y = np.eye(10)[numpy.random.randint(0, 10, size=3)]\n",
        "print(\"Testing MLP Jacobian\")\n",
        "tree_map(\n",
        "  numpy.testing.assert_allclose,\n",
        "  jax.jacfwd(mlp, argnums=1)(x, mlp_params),\n",
        "  mlp_and_jac(x, mlp_params)[2],\n",
        "  atol=1e-5\n",
        ")\n",
        "print(\"Passed!\")"
      ],
      "metadata": {
        "id": "6-MrO-19rt0-",
        "colab": {
          "base_uri": "https://localhost:8080/"
        },
        "outputId": "fa239c64-7156-4dff-fffb-46deb4b32248"
      },
      "execution_count": null,
      "outputs": [
        {
          "output_type": "stream",
          "name": "stdout",
          "text": [
            "Testing MLP Jacobian\n",
            "Passed!\n"
          ]
        }
      ]
    },
    {
      "cell_type": "markdown",
      "source": [
        "Define a loss function and its gradient, we can compose them together to get the parameter gradients of the MLP."
      ],
      "metadata": {
        "id": "8QJUAhh0sInG"
      }
    },
    {
      "cell_type": "code",
      "source": [
        "def cross_entropy_loss(params, x, y):\n",
        "  logprobs = mlp(x, params)\n",
        "  return -np.mean(np.sum(logprobs * y, axis=1))\n",
        "\n",
        "def cross_entropy_loss_and_grad(logprobs, y):\n",
        "    return -np.mean(np.sum(logprobs * y, axis=1)), -y / logprobs.shape[0]\n",
        "\n",
        "x = numpy.random.randn(3,10)\n",
        "y = np.eye(10)[numpy.random.randint(0, 10, size=3)]\n",
        "logprobs, x_jac, params_jac = mlp_and_jac(x, mlp_params)\n",
        "loss, output_grad = cross_entropy_loss_and_grad(logprobs, y)\n",
        "\n",
        "param_grads = tree_map(\n",
        "    lambda param_jac: np.tensordot(output_grad, param_jac, axes=([0,1], [0,1])),\n",
        "    params_jac\n",
        ")\n",
        "\n",
        "print(\"Testing MLP grad\")\n",
        "jax_grads = jax.grad(cross_entropy_loss)(mlp_params, x, y)\n",
        "tree_map(numpy.testing.assert_allclose, param_grads, jax_grads, atol=1e-5)\n",
        "print(\"All tests passed!\")"
      ],
      "metadata": {
        "id": "CupWwxYyr8x4",
        "colab": {
          "base_uri": "https://localhost:8080/"
        },
        "outputId": "3ce101be-e3de-4733-9104-f34fcedb1079"
      },
      "execution_count": null,
      "outputs": [
        {
          "output_type": "stream",
          "name": "stdout",
          "text": [
            "Testing MLP grad\n",
            "All tests passed!\n"
          ]
        }
      ]
    },
    {
      "cell_type": "markdown",
      "source": [
        "Now that you have a taste for how autodiff works, take a look at this example, where we use JAX's autograd to do gradient descent, training an MLP to mimic a the sine function."
      ],
      "metadata": {
        "id": "wfb-MVQRsa0m"
      }
    },
    {
      "cell_type": "code",
      "source": [
        "# Nothing to do in this cell, just a reference implementation.\n",
        "\n",
        "import jax.numpy as jnp\n",
        "from jax import random, grad, jit\n",
        "import matplotlib.pyplot as plt\n",
        "\n",
        "# 1. Define the MLP Model\n",
        "def init_mlp_params(layer_sizes, key):\n",
        "    \"\"\"Initialize the parameters for an MLP.\"\"\"\n",
        "    params = []\n",
        "    keys = random.split(key, len(layer_sizes) - 1)\n",
        "    for in_size, out_size, key in zip(layer_sizes[:-1], layer_sizes[1:], keys):\n",
        "        weight_key, bias_key = random.split(key)\n",
        "        W = random.normal(weight_key, (in_size, out_size)) * jnp.sqrt(2.0 / in_size)\n",
        "        b = jnp.zeros(out_size)\n",
        "        params.append((W, b))\n",
        "    return params\n",
        "\n",
        "def mlp(params, x):\n",
        "    \"\"\"Forward pass for an MLP.\"\"\"\n",
        "    activations = x\n",
        "    for W, b in params[:-1]:\n",
        "        activations = jax.nn.relu(jnp.dot(activations, W) + b)\n",
        "    final_W, final_b = params[-1]\n",
        "    return jnp.dot(activations, final_W) + final_b\n",
        "\n",
        "# 2. Define the loss function\n",
        "def loss_fn(params, x, y):\n",
        "    predictions = mlp(params, x)\n",
        "    return jnp.mean((predictions - y) ** 2)\n",
        "\n",
        "# 3. Generate data (sine function between -π and π)\n",
        "key = random.PRNGKey(0)\n",
        "x_train = jnp.linspace(-jnp.pi, jnp.pi, 256).reshape(-1, 1)\n",
        "y_train = jnp.sin(x_train)\n",
        "\n",
        "# 4. Initialize the model parameters\n",
        "layer_sizes = [1, 64, 64, 1]  # MLP with two hidden layers\n",
        "params = init_mlp_params(layer_sizes, key)\n",
        "\n",
        "# 5. Gradient Descent update rule\n",
        "learning_rate = 0.01  # Set a suitable learning rate\n",
        "\n",
        "@jit\n",
        "def update(params, x, y):\n",
        "    \"\"\"Performs one update step using plain gradient descent.\"\"\"\n",
        "    grads = grad(loss_fn)(params, x, y)  # Compute gradients\n",
        "    new_params = [(W - learning_rate * dW, b - learning_rate * db)\n",
        "                  for (W, b), (dW, db) in zip(params, grads)]\n",
        "    return new_params\n",
        "\n",
        "# 6. Train the model\n",
        "num_epochs = 10000\n",
        "for epoch in range(num_epochs):\n",
        "    params = update(params, x_train, y_train)\n",
        "    if epoch % 1000 == 0:\n",
        "        loss = loss_fn(params, x_train, y_train)\n",
        "        print(f'Epoch {epoch}, Loss: {loss}')\n",
        "\n",
        "# 7. Plot the results\n",
        "x_test = jnp.linspace(-jnp.pi, jnp.pi, 256).reshape(-1, 1)\n",
        "y_pred = mlp(params, x_test)\n",
        "\n",
        "plt.plot(x_train, y_train, label='True function (sin)')\n",
        "plt.plot(x_test, y_pred, label='MLP approximation', linestyle='dashed')\n",
        "plt.legend()\n",
        "plt.show()"
      ],
      "metadata": {
        "id": "z_7BuXtkseTE",
        "colab": {
          "base_uri": "https://localhost:8080/",
          "height": 615
        },
        "outputId": "08612ec6-1c35-45dd-c797-e1f590634905"
      },
      "execution_count": null,
      "outputs": [
        {
          "output_type": "stream",
          "name": "stdout",
          "text": [
            "Epoch 0, Loss: 22.767864227294922\n",
            "Epoch 1000, Loss: 0.06815874576568604\n",
            "Epoch 2000, Loss: 0.02795281633734703\n",
            "Epoch 3000, Loss: 0.012034187093377113\n",
            "Epoch 4000, Loss: 0.0061746444553136826\n",
            "Epoch 5000, Loss: 0.0037407446652650833\n",
            "Epoch 6000, Loss: 0.0024744884576648474\n",
            "Epoch 7000, Loss: 0.0017195675754919648\n",
            "Epoch 8000, Loss: 0.0013325471663847566\n",
            "Epoch 9000, Loss: 0.00105439149774611\n"
          ]
        },
        {
          "output_type": "display_data",
          "data": {
            "text/plain": [
              "<Figure size 640x480 with 1 Axes>"
            ],
            "image/png": "[encoded data removed]"
          },
          "metadata": {}
        }
      ]
    },
    {
      "cell_type": "markdown",
      "source": [
        "# Co-occurrence Embeddings\n",
        "Consider the technique of embedding words to vectors using counts of context co-occurrences, as taught in class.\n",
        "\n",
        "Here we will implement this technique to find embeddings for each unique word in the Shakespeare corpus. Later in the assignment, we will compare them to word embeddings learnt using Word2vec.\n"
      ],
      "metadata": {
        "id": "jHUtRC4Cx4dc"
      }
    },
    {
      "cell_type": "markdown",
      "source": [
        "\n",
        "## Co-occurrence + PPMI"
      ],
      "metadata": {
        "id": "PTNuAnESrkJl"
      }
    },
    {
      "cell_type": "code",
      "source": [
        "# Download data - do not change\n",
        "import requests\n",
        "import numpy as np\n",
        "from tqdm.notebook import tqdm\n",
        "import time\n",
        "\n",
        "url = \"https://raw.githubusercontent.com/karpathy/char-rnn/master/data/tinyshakespeare/input.txt\"\n",
        "response = requests.get(url)\n",
        "response.raise_for_status() # Raise an exception for invalid HTTP status codes\n",
        "text_data = response.text\n",
        "len(text_data), text_data[:100]\n"
      ],
      "metadata": {
        "id": "ehw3TlEF4oWo",
        "colab": {
          "base_uri": "https://localhost:8080/"
        },
        "outputId": "037c03d8-8ae5-4b8c-e1ae-fa9fa9b0e9b7"
      },
      "execution_count": null,
      "outputs": [
        {
          "output_type": "execute_result",
          "data": {
            "text/plain": [
              "(1115394,\n",
              " 'First Citizen:\\nBefore we proceed any further, hear me speak.\\n\\nAll:\\nSpeak, speak.\\n\\nFirst Citizen:\\nYou')"
            ]
          },
          "metadata": {},
          "execution_count": 10
        }
      ]
    },
    {
      "cell_type": "code",
      "source": [
        "\n",
        "# preprocessing\n",
        "text_data = response.text\n",
        "text_data = text_data.replace(',',' , ').replace('.',' . ').replace('?',' ? ').replace('!',' ! ')\n",
        "text_data = text_data.replace('  ', ' ')\n",
        "text_data = text_data.replace('\\n\\n','\\n').replace('\\n',' </s> <s> ')\n",
        "text_data = '<s> ' + text_data + ' </s>'\n",
        "len(text_data), text_data[:100]"
      ],
      "metadata": {
        "id": "KQCd1lgS5raE",
        "colab": {
          "base_uri": "https://localhost:8080/"
        },
        "outputId": "53dc6ac4-e614-439a-bc28-977af2785c25"
      },
      "execution_count": null,
      "outputs": [
        {
          "output_type": "execute_result",
          "data": {
            "text/plain": [
              "(1451204,\n",
              " '<s> First Citizen: </s> <s> Before we proceed any further , hear me speak .  </s> <s> All: </s> <s> ')"
            ]
          },
          "metadata": {},
          "execution_count": 11
        }
      ]
    },
    {
      "cell_type": "code",
      "source": [
        "data = text_data.split(' ')\n",
        "vocab = list(set(data))\n",
        "word_to_idx = {v:k for k,v in enumerate(vocab)} # dictionary to map words to indices\n"
      ],
      "metadata": {
        "id": "GAQCKh8v4rN0"
      },
      "execution_count": null,
      "outputs": []
    },
    {
      "cell_type": "code",
      "source": [
        "counts = np.zeros(shape=(len(vocab), len(vocab)))\n",
        "assert counts.shape == (18118, 18118)\n",
        "\n",
        "span_length = 5\n",
        "start_time = time.time()\n",
        "\n",
        "for i,w in tqdm(enumerate(data), total=len(data)):\n",
        "    start = max(0, i - span_length)\n",
        "    end = min(len(data), i + span_length + 1)\n",
        "    context = data[start:i] + data[i+1:end]\n",
        "    for c in context:\n",
        "        counts[word_to_idx[w], word_to_idx[c]] += 1\n",
        "\n",
        "total_count = np.sum(counts)\n",
        "word_freqs = np.sum(counts, axis=1)\n",
        "context_freqs = np.sum(counts, axis=0)\n",
        "\n",
        "expected = np.outer(word_freqs, context_freqs) / total_count\n",
        "pmi = np.log(counts / expected)\n",
        "ppmi = np.maximum(pmi, 0)\n",
        "\n",
        "ppmi_norms = np.linalg.norm(ppmi, axis=1)\n",
        "\n",
        "print(\"--- %s seconds ---\" % (time.time() - start_time))\n",
        "\n",
        "assert ppmi.shape == (len(vocab), len(vocab))\n",
        "assert counts[word_to_idx['First'],word_to_idx['Citizen:']] == 44.\n",
        "np.testing.assert_allclose(ppmi[word_to_idx['First'],word_to_idx['Citizen:']], 4.024266, rtol=1e-3)"
      ],
      "metadata": {
        "id": "Fo9XV5LX44LC",
        "colab": {
          "base_uri": "https://localhost:8080/",
          "height": 104,
          "referenced_widgets": [
            "fbb1e6fd60aa4758b47637db1f8b1282",
            "848fee2eb39c4c7ba2ca36ea4115c671",
            "efbc3455c1004212bde6a3ca5ba28cee",
            "a90d413267df45859e06533a9dddfbec",
            "7bb1126e11ba45ad9c327ceb45164553",
            "c8552f3d02074d5cb276bf97c5c54cbc",
            "f250d92aa2bc4982876812893325c7c6",
            "f8d947fd444643aabf1f3ed4b849dbe6",
            "e35cd114bf414d9a8b58379e6394de43",
            "4300355a662c4c4ea0d4451ae9e4d384",
            "e67a07707a1e43269439604e3b15c7c3"
          ]
        },
        "outputId": "2bfd7dc9-7f1c-4e77-e933-ec47c588e5cf"
      },
      "execution_count": null,
      "outputs": [
        {
          "output_type": "display_data",
          "data": {
            "text/plain": [
              "  0%|          | 0/316243 [00:00<?, ?it/s]"
            ],
            "application/vnd.jupyter.widget-view+json": {
              "version_major": 2,
              "version_minor": 0,
              "model_id": "fbb1e6fd60aa4758b47637db1f8b1282"
            }
          },
          "metadata": {}
        },
        {
          "output_type": "stream",
          "name": "stderr",
          "text": [
            "<ipython-input-13-99c03e995e82>:23: RuntimeWarning: divide by zero encountered in log\n",
            "  pmi = np.log(counts / expected)\n"
          ]
        },
        {
          "output_type": "stream",
          "name": "stdout",
          "text": [
            "--- 22.3142569065094 seconds ---\n"
          ]
        }
      ]
    },
    {
      "cell_type": "markdown",
      "source": [
        "## Nearest Neighbours"
      ],
      "metadata": {
        "id": "4UTV3lFlZcvf"
      }
    },
    {
      "cell_type": "code",
      "source": [
        "def get_nearest_neighbours(word_or_vector, vectors=ppmi, top_k=5, vocab=vocab,\n",
        "                           norms=ppmi_norms):\n",
        "    if isinstance(word_or_vector, str):\n",
        "        word_index = vocab.index(word_or_vector)\n",
        "        target_vector = vectors[word_index]\n",
        "    else:\n",
        "        target_vector = word_or_vector\n",
        "\n",
        "    target_norm = np.linalg.norm(target_vector)\n",
        "    if target_norm != 0:\n",
        "        target_vector = target_vector / target_norm\n",
        "\n",
        "    similarities = np.dot(vectors, target_vector) / norms\n",
        "\n",
        "    top_indices = np.argsort(similarities)[::-1][:top_k]\n",
        "\n",
        "    nearest_neighbours = [vocab[i] for i in top_indices]\n",
        "\n",
        "    return nearest_neighbours"
      ],
      "metadata": {
        "id": "fcnL7Yvfw0fr"
      },
      "execution_count": null,
      "outputs": []
    },
    {
      "cell_type": "code",
      "source": [
        "get_nearest_neighbours('he')\n",
        "print(get_nearest_neighbours('he'))\n",
        "assert 'he' in get_nearest_neighbours('he')"
      ],
      "metadata": {
        "id": "XFmwDCAIMaYk",
        "colab": {
          "base_uri": "https://localhost:8080/"
        },
        "outputId": "b31df1d9-47e3-4530-faf4-2f72d41a0f4b"
      },
      "execution_count": null,
      "outputs": [
        {
          "output_type": "stream",
          "name": "stdout",
          "text": [
            "['he', 'hath', 'his', 'is', 'that']\n"
          ]
        }
      ]
    },
    {
      "cell_type": "markdown",
      "source": [
        "Here we will evaluate the embeddings on Analogy Task.\n"
      ],
      "metadata": {
        "id": "n0UueucVoP_L"
      }
    },
    {
      "cell_type": "code",
      "source": [
        "# Download and preprocessing data\n",
        "import requests\n",
        "import numpy as np\n",
        "from tqdm.notebook import tqdm\n",
        "\n",
        "url = \"http://download.tensorflow.org/data/questions-words.txt\"\n",
        "response = requests.get(url)\n",
        "response.raise_for_status() # Raise an exception for invalid HTTP status codes\n",
        "analogy = response.text.split('\\n')\n",
        "\n",
        "# filtering out analogies that do not exist in our vocabulary\n",
        "task = []\n",
        "for line in tqdm(analogy, total=len(analogy)):\n",
        "  row = line.split(' ')\n",
        "  if len(row) != 4 or line.startswith(':'):\n",
        "    continue\n",
        "  if sum(_ in vocab for _ in row) == 4:\n",
        "    task.append(row)\n",
        "len(task), task[-1]"
      ],
      "metadata": {
        "id": "rBPggSzNdQRo",
        "colab": {
          "base_uri": "https://localhost:8080/",
          "height": 67,
          "referenced_widgets": [
            "59604fe99807470b912b50db1284486f",
            "2424caab324c4d439b17ece656ac7652",
            "b5975aa11caa4950a024d9b1c893728b",
            "a48290939a314417b46dcc6bb3bbdc71",
            "e9ee096156844a0ebd402b49cbd9f9d3",
            "c52ed7b908ef464eb14e8f5eb34eed98",
            "a937c00b0dcf4e88b95e90731912094b",
            "45bb577857b4422e931e7740ec90b813",
            "1d1a0f791e1b4e5bb84dc2203dbec806",
            "6fd65c56d83b43888d72ed5e7ce4694b",
            "cb18f6a1f0bd468dada2bd7ad376d210"
          ]
        },
        "outputId": "78188eb5-5747-4069-bf31-5f3b06d32d0b"
      },
      "execution_count": null,
      "outputs": [
        {
          "output_type": "display_data",
          "data": {
            "text/plain": [
              "  0%|          | 0/19559 [00:00<?, ?it/s]"
            ],
            "application/vnd.jupyter.widget-view+json": {
              "version_major": 2,
              "version_minor": 0,
              "model_id": "59604fe99807470b912b50db1284486f"
            }
          },
          "metadata": {}
        },
        {
          "output_type": "execute_result",
          "data": {
            "text/plain": [
              "(2396, ['write', 'writes', 'work', 'works'])"
            ]
          },
          "metadata": {},
          "execution_count": 16
        }
      ]
    },
    {
      "cell_type": "code",
      "source": [
        "# Inference over Analogy Benchmark - do not change\n",
        "start_time = time.time()\n",
        "acc = 0.\n",
        "for a,b,c,d in tqdm(task[:50]): # Note down this Inference Time\n",
        "  d_ = get_nearest_neighbours(\n",
        "        word_or_vector=ppmi[word_to_idx[a]]+ppmi[word_to_idx[b]]-ppmi[word_to_idx[c]],\n",
        "        top_k=100\n",
        "      )\n",
        "  if d in d_:\n",
        "    acc += 1\n",
        "print('inference time:', time.time() - start_time)\n",
        "acc/len(task)"
      ],
      "metadata": {
        "id": "tGZlm9OedSuG",
        "colab": {
          "base_uri": "https://localhost:8080/",
          "height": 86,
          "referenced_widgets": [
            "4b5a61e1de384c3383a5528c35990e7f",
            "ccc77124e3684ed0bc7887c7a12bb74b",
            "605c571535664beaa5787a03d7225f63",
            "369699966eed448c89e68dc3a0facfa1",
            "d9000d0012504fc5a4768929c64fedf4",
            "4a6f358d2b9a42f8a9bef4a239c06a22",
            "795248948d73469fb707212da330c591",
            "b9ddff08c079484f85dfadc30d7d8fc2",
            "7e9057fdcb3b4eeca096675998241261",
            "6ea8cf767fde4f8c88f7d42e72de6447",
            "659ed2fab78b434d82c840ebae96df78"
          ]
        },
        "outputId": "2cf5136b-96da-4f43-db16-d0add153c7fc"
      },
      "execution_count": null,
      "outputs": [
        {
          "output_type": "display_data",
          "data": {
            "text/plain": [
              "  0%|          | 0/50 [00:00<?, ?it/s]"
            ],
            "application/vnd.jupyter.widget-view+json": {
              "version_major": 2,
              "version_minor": 0,
              "model_id": "4b5a61e1de384c3383a5528c35990e7f"
            }
          },
          "metadata": {}
        },
        {
          "output_type": "stream",
          "name": "stdout",
          "text": [
            "inference time: 12.685454845428467\n"
          ]
        },
        {
          "output_type": "execute_result",
          "data": {
            "text/plain": [
              "0.00041736227045075126"
            ]
          },
          "metadata": {},
          "execution_count": 17
        }
      ]
    },
    {
      "cell_type": "markdown",
      "source": [
        "# Word2vec Gradient Derivation\n",
        "\n",
        "Given the target word embedding $w$, context word embedding $c_\\text{pos}$ from positive examples, and $K$ noise word embeddings $c_\\text{neg$_i$}$ from negative examples,\n",
        "\n",
        "$L = - [\\log \\sigma(w.c_\\text{pos})+\\Sigma_{i=1..K} \\log \\sigma(-w.c_\\text{neg$_i$})]$\n",
        "\n",
        "where $\\sigma$ is the sigmoid function."
      ],
      "metadata": {
        "id": "rV4ycjVinvac"
      }
    },
    {
      "cell_type": "markdown",
      "source": [
        "## Derive the following gradients."
      ],
      "metadata": {
        "id": "it8gxqe7-3eU"
      }
    },
    {
      "cell_type": "markdown",
      "source": [
        "$ \\sigma(x) = \\frac{1}{1 + e^{-x}} $\n",
        "\n",
        "\n",
        "$\\frac{\\partial \\sigma(x)}{\\partial x} = \\frac{\\partial}{\\partial x} \\left( \\frac{1}{1 + e^{-x}} \\right)$\n",
        "\n",
        "\n",
        "Using the quotient rule for differentiation:\n",
        "\n",
        "$ \\frac{\\partial}{\\partial x} \\left( \\frac{1}{f(x)} \\right) = -\\frac{f'(x)}{(f(x))^2} $\n",
        "\n",
        "$\\frac{\\partial \\sigma(x)}{\\partial x} = -\\frac{-e^{-x}}{(1 + e^{-x})^2} = \\frac{e^{-x}}{(1 + e^{-x})^2}$\n",
        "\n",
        "$\\sigma(x) = \\frac{1}{1 + e^{-x}} \\implies e^{-x} = \\frac{1 - \\sigma(x)}{\\sigma(x)}$\n",
        "\n",
        "Substitute this into the derivative:\n",
        "\n",
        "$\n",
        "\\frac{\\partial \\sigma(x)}{\\partial x} = \\frac{\\sigma(x)(1 - \\sigma(x))}{\\sigma(x)^2} \\cdot \\sigma(x) = \\sigma(x)(1 - \\sigma(x))\n",
        "$\n",
        "\n",
        "\n",
        "\n",
        "\n",
        "$\\frac{\\partial \\sigma(x)}{\\partial x} = \\sigma(x)(1 - \\sigma(x))$\n",
        "\n",
        "---\n",
        "\n",
        "### $\\frac{∂ L}{∂ w}$\n",
        "\n",
        "#### For $w \\cdot c_{pos}$:\n",
        "The first term in $L$ is $\\log \\sigma(w \\cdot c_{pos})$, so the gradient of this term with respect to $w$ is:\n",
        "\n",
        "$\n",
        "\\frac{\\partial}{\\partial w} \\log \\sigma(w \\cdot c_{pos}) = \\frac{1}{\\sigma(w \\cdot c_{pos})} \\cdot \\frac{\\partial}{\\partial w} \\sigma(w \\cdot c_{pos})\n",
        "$\n",
        "\n",
        "Using the derivative of the sigmoid function, $\\frac{\\partial \\sigma(x)}{\\partial x} = \\sigma(x)(1 - \\sigma(x))$, we get:\n",
        "\n",
        "$\n",
        "\\frac{\\partial}{\\partial w} \\log \\sigma(w \\cdot c_{pos}) = (1 - \\sigma(w \\cdot c_{pos})) \\cdot c_{pos}\n",
        "$\n",
        "\n",
        "#### For $w \\cdot c_{neg_i}$:\n",
        "The second term is the sum over the negative samples. The gradient of the $i$-th term in the sum is:\n",
        "\n",
        "$\n",
        "\\frac{\\partial}{\\partial w} \\log \\sigma(-w \\cdot c_{neg_i}) = \\frac{1}{\\sigma(-w \\cdot c_{neg_i})} \\cdot \\frac{\\partial}{\\partial w} \\sigma(-w \\cdot c_{neg_i})\n",
        "$\n",
        "\n",
        "Again, using the derivative of the sigmoid function:\n",
        "\n",
        "$\n",
        "\\frac{\\partial}{\\partial w} \\log \\sigma(-w \\cdot c_{neg_i}) = -\\sigma(-w \\cdot c_{neg_i})(1 - \\sigma(-w \\cdot c_{neg_i})) \\cdot (-c_{neg_i}) = \\sigma(-w \\cdot c_{neg_i}) \\cdot c_{neg_i}\n",
        "$\n",
        "\n",
        "Summing over all $K$ negative samples, we get:\n",
        "\n",
        "$\n",
        "\\frac{\\partial}{\\partial w} \\sum_{i=1}^{K} \\log \\sigma(-w \\cdot c_{neg_i}) = \\sum_{i=1}^{K} \\sigma(w \\cdot c_{neg_i}) \\cdot c_{neg_i}\n",
        "$\n",
        "\n",
        "Thus, the total gradient with respect to $w$ is:\n",
        "\n",
        "$\n",
        "\\frac{\\partial L}{\\partial w} = -(1 - \\sigma(w \\cdot c_{pos})) \\cdot c_{pos} + \\sum_{i=1}^{K} \\sigma(w \\cdot c_{neg_i}) \\cdot c_{neg_i}\n",
        "$\n",
        "\n",
        "---\n",
        "\n",
        "### $\\frac{∂ L}{∂ c_\\text{pos}}$\n",
        "\n",
        "\n",
        "$ \\frac{\\partial}{\\partial c_{neg_i}} \\log \\sigma(-w \\cdot c_{neg_i}) = \\sigma(w \\cdot c_{neg_i}) \\cdot w $\n",
        "\n",
        "Thus, the gradient with respect to $c_{neg_i}$ is:\n",
        "\n",
        "$ \\frac{\\partial L}{\\partial c_{neg_i}} = \\sigma(w \\cdot c_{neg_i}) \\cdot w $\n",
        "\n",
        "\n",
        "---\n",
        "\n",
        "### Final Gradients:\n",
        "\n",
        "1. $\\frac{\\partial L}{\\partial w} = -(1 - \\sigma(w \\cdot c_{pos})) \\cdot c_{pos} + \\sum_{i=1}^{K} \\sigma(w \\cdot c_{neg_i}) \\cdot c_{neg_i}$\n",
        "2. $\\frac{\\partial L}{\\partial c_{pos}} = -(1 - \\sigma(w \\cdot c_{pos})) \\cdot w$\n",
        "3. $\\frac{\\partial L}{\\partial c_{neg_i}} = \\sigma(w \\cdot c_{neg_i}) \\cdot w$\n"
      ],
      "metadata": {
        "id": "5vi98lOd-6Ae"
      }
    },
    {
      "cell_type": "markdown",
      "source": [
        "## How do embeddings change when updated using SGD under the gradients above."
      ],
      "metadata": {
        "id": "JVPB3aMX-rDB"
      }
    },
    {
      "cell_type": "markdown",
      "source": [
        "The goal of the embedding is to make the embedding of similar words close to each other (or similar to each other) ad differentiate dissimilar words. So when a positive example is being considered, given a context word $c$ and target word $w$, the final true output is a one hot encoded vector where the value corresponding to $w$ is 1 and rest all values are 0. So the loss function is calculate with the softmax values and are correspondingly updated through backward propagation. They are updated in a such way that the embedding of the context word $c$ moves closer to the embedding of the word $w$. In case of negative sampling, the embedding of $c_{neg}$ is updated in such a way that it moves away from the embeding of $w$."
      ],
      "metadata": {
        "id": "EEk_LubW-qxz"
      }
    },
    {
      "cell_type": "markdown",
      "source": [
        "## Why is negative sampling required? What happens if we solely rely on positive examples?"
      ],
      "metadata": {
        "id": "Uwj9em-j-esW"
      }
    },
    {
      "cell_type": "markdown",
      "source": [
        "Negative sampling is needed to reduce computation. There are parameters of the dimensions of embeddings*vocabulary. In most cases the vocabulary is very big, making the calculation of the softmax and backward propagation very expensive. Therefore by adding negative samples, we only update the weights of the corresponding weights of the positive and negative samples instead of all the weights.\n",
        "\n",
        "If we solely rely on positive samples, the model doesn't learn what incorrect or irrelevant word pairs look like. This may cause the model to overfit.Also, without negative examples, the embeddings might not effectively capture the nuances between similar and dissimilar words because the model isn't penalized for producing similar embeddings for unrelated words."
      ],
      "metadata": {
        "id": "EVjjwMPZ-oZI"
      }
    },
    {
      "cell_type": "markdown",
      "source": [
        "# Learn Word2Vec Embeddings"
      ],
      "metadata": {
        "id": "g9xeasHf_jrv"
      }
    },
    {
      "cell_type": "markdown",
      "source": [
        "## Learning Word2vec\n",
        "\n",
        "Using a span length of `5` words on each side (total window length 11), `50` dimensions per embeddings, `0.01` learning rate, `15` negative samples per target word, and `500_000` number of iterations or training updates, we train the word2vec embeddings.\n",
        "\n",
        "\n"
      ],
      "metadata": {
        "id": "hLD0EtaU_0yy"
      }
    },
    {
      "cell_type": "code",
      "source": [
        "import scipy.special\n",
        "import numpy as np\n",
        "\n",
        "D = 50 # embedding_dimensions\n",
        "w_vectors = np.random.rand(len(vocab), D) # target\n",
        "c_vectors = np.random.rand(len(vocab), D) # context and noise"
      ],
      "metadata": {
        "id": "lRUSk7HWv8cP"
      },
      "execution_count": null,
      "outputs": []
    },
    {
      "cell_type": "code",
      "source": [
        "start_time = time.time()\n",
        "alpha = 0.01\n",
        "K = 15\n",
        "span_length = 5\n",
        "num_iter = 500_000\n",
        "\n",
        "losses = []\n",
        "for iter in tqdm(range(num_iter)): # # Note down this Training Time\n",
        "    t_idx = np.random.randint(span_length, len(data) - span_length)\n",
        "    t = word_to_idx[data[t_idx]]\n",
        "\n",
        "    left_context = data[t_idx - span_length:t_idx]\n",
        "    right_context = data[t_idx + 1:t_idx + span_length + 1]\n",
        "\n",
        "    context_indices = np.concatenate((left_context, right_context))\n",
        "\n",
        "    for c in context_indices:\n",
        "        c = word_to_idx[c]\n",
        "\n",
        "        v_t = w_vectors[t]\n",
        "        u_c = c_vectors[c]\n",
        "\n",
        "        s_pos = scipy.special.expit(np.dot(u_c, v_t))\n",
        "        e_pos = s_pos - 1\n",
        "\n",
        "        grad_v_t = e_pos * u_c\n",
        "        grad_u_c = e_pos * v_t\n",
        "\n",
        "        L_pos = -np.log(s_pos + 1e-10)\n",
        "\n",
        "        negative_indices = np.random.randint(0, len(vocab), size=K)\n",
        "        u_neg = c_vectors[negative_indices]\n",
        "\n",
        "        s_neg = scipy.special.expit(u_neg @ v_t)\n",
        "        e_neg = s_neg\n",
        "\n",
        "        grad_v_t_neg = np.sum(e_neg[:, np.newaxis] * u_neg, axis=0)\n",
        "        grad_u_neg = e_neg[:, np.newaxis] * v_t\n",
        "\n",
        "        L_neg = -np.sum(np.log(1 - s_neg + 1e-10))\n",
        "\n",
        "        L = L_pos + L_neg\n",
        "        losses.append(L)\n",
        "\n",
        "        v_t -= alpha * (grad_v_t + grad_v_t_neg)\n",
        "        u_c -= alpha * grad_u_c\n",
        "\n",
        "        np.add.at(c_vectors, negative_indices, -alpha * grad_u_neg)\n",
        "\n",
        "        w_vectors[t] = v_t\n",
        "        c_vectors[c] = u_c\n",
        "    if iter%10_000 == 0:\n",
        "        print(f\"Loss at epoch: {iter}: {sum(losses)/len(losses)}\") # This should go down as training proceeds\n",
        "        losses = [] # resetting log every 10K steps\n",
        "\n",
        "print('training time:', time.time()-start_time)"
      ],
      "metadata": {
        "id": "W_BwOXkqAA0C",
        "colab": {
          "base_uri": "https://localhost:8080/",
          "height": 990,
          "referenced_widgets": [
            "af645f72b8474a0da08676118b5fde47",
            "88dfe7fccca949b3aeb7863c6eac8d58",
            "cdd456a3173b45609cfa0a15355df447",
            "81c5e3fc3392418cb960e8332bac658e",
            "6e7ccaca1d444500967b1e501674a292",
            "bb59e5485fc343ecbaf9a104e126270f",
            "be0a1af526574ee6b661323d3f259a9f",
            "2b357f62a22d4cb8b91c82fa4df47a27",
            "1afa6f563fe34c0eb7f6c8c8dff05f35",
            "e7144199fc6b4028a3607deb4c7501f8",
            "149fc47390cb42f09ee9be9550ad7fd0"
          ]
        },
        "outputId": "f0864d1d-97d4-4b62-c26a-b43bebb5a851"
      },
      "execution_count": null,
      "outputs": [
        {
          "data": {
            "application/vnd.jupyter.widget-view+json": {
              "model_id": "af645f72b8474a0da08676118b5fde47",
              "version_major": 2,
              "version_minor": 0
            },
            "text/plain": [
              "  0%|          | 0/500000 [00:00<?, ?it/s]"
            ]
          },
          "metadata": {},
          "output_type": "display_data"
        },
        {
          "output_type": "stream",
          "name": "stdout",
          "text": [
            "Loss at epoch: 0: 72.47227917908141\n",
            "Loss at epoch: 10000: 18.668205766592212\n",
            "Loss at epoch: 20000: 11.151958448167708\n",
            "Loss at epoch: 30000: 8.81871880668026\n",
            "Loss at epoch: 40000: 7.903026076816959\n",
            "Loss at epoch: 50000: 6.956598454250675\n",
            "Loss at epoch: 60000: 6.123476688037418\n",
            "Loss at epoch: 70000: 5.7444319001469974\n",
            "Loss at epoch: 80000: 5.577495049029356\n",
            "Loss at epoch: 90000: 5.175850350844547\n",
            "Loss at epoch: 100000: 4.631961338331311\n",
            "Loss at epoch: 110000: 4.603214944080818\n",
            "Loss at epoch: 120000: 4.0238777130716725\n",
            "Loss at epoch: 130000: 4.164559740377783\n",
            "Loss at epoch: 140000: 4.189490076509229\n",
            "Loss at epoch: 150000: 3.854644637520613\n",
            "Loss at epoch: 160000: 3.6498965508023673\n",
            "Loss at epoch: 170000: 3.5354685367834677\n",
            "Loss at epoch: 180000: 3.343100288327078\n",
            "Loss at epoch: 190000: 3.4246649457143037\n",
            "Loss at epoch: 200000: 3.477147885982822\n",
            "Loss at epoch: 210000: 3.1582816966260765\n",
            "Loss at epoch: 220000: 3.216887965799629\n",
            "Loss at epoch: 230000: 3.057737233236426\n",
            "Loss at epoch: 240000: 2.928964683848219\n",
            "Loss at epoch: 250000: 2.977222593015031\n",
            "Loss at epoch: 260000: 2.777176945492229\n",
            "Loss at epoch: 270000: 2.8308040109261974\n",
            "Loss at epoch: 280000: 2.7891187816388907\n",
            "Loss at epoch: 290000: 2.7064133074770202\n",
            "Loss at epoch: 300000: 2.705611039060416\n",
            "Loss at epoch: 310000: 2.5971877079609547\n",
            "Loss at epoch: 320000: 2.6559808392783086\n",
            "Loss at epoch: 330000: 2.4911150329594354\n",
            "Loss at epoch: 340000: 2.581773517281378\n",
            "Loss at epoch: 350000: 2.4911495976488065\n",
            "Loss at epoch: 360000: 2.3904897769675157\n",
            "Loss at epoch: 370000: 2.440842499578516\n",
            "Loss at epoch: 380000: 2.311937256967861\n",
            "Loss at epoch: 390000: 2.2477872857745242\n",
            "Loss at epoch: 400000: 2.3314210515176343\n",
            "Loss at epoch: 410000: 2.272216496464292\n",
            "Loss at epoch: 420000: 2.2242000022150337\n",
            "Loss at epoch: 430000: 2.2381306699623926\n",
            "Loss at epoch: 440000: 2.2346914001532645\n",
            "Loss at epoch: 450000: 2.127655029769854\n",
            "Loss at epoch: 460000: 2.177562474224485\n",
            "Loss at epoch: 470000: 2.097882804550618\n",
            "Loss at epoch: 480000: 2.019481610945084\n",
            "Loss at epoch: 490000: 2.105266978396477\n",
            "training time: 628.0643532276154\n"
          ]
        }
      ]
    },
    {
      "cell_type": "code",
      "source": [
        "w_vectors_norms = np.linalg.norm(w_vectors, axis=1)\n",
        "c_vectors_norms = np.linalg.norm(c_vectors, axis=1)"
      ],
      "metadata": {
        "id": "Z20QH35mcy56"
      },
      "execution_count": null,
      "outputs": []
    },
    {
      "cell_type": "code",
      "source": [
        "get_nearest_neighbours('First', vectors=w_vectors, top_k=5, vocab=vocab,\n",
        "                       norms=w_vectors_norms)"
      ],
      "metadata": {
        "id": "3p914znskw4X",
        "colab": {
          "base_uri": "https://localhost:8080/"
        },
        "outputId": "afa7395f-ae22-4065-99c9-9fa17441bd93"
      },
      "execution_count": null,
      "outputs": [
        {
          "output_type": "execute_result",
          "data": {
            "text/plain": [
              "['First', '</s>', '<s>', '', '.']"
            ]
          },
          "metadata": {},
          "execution_count": 21
        }
      ]
    },
    {
      "cell_type": "code",
      "source": [
        "get_nearest_neighbours('First', vectors=c_vectors, top_k=5, vocab=vocab,\n",
        "                       norms=c_vectors_norms)"
      ],
      "metadata": {
        "id": "q8nfcDWXugRR",
        "colab": {
          "base_uri": "https://localhost:8080/"
        },
        "outputId": "453a29c9-5846-4be6-e692-296e7dfe412b"
      },
      "execution_count": null,
      "outputs": [
        {
          "output_type": "execute_result",
          "data": {
            "text/plain": [
              "['First', 'LEONTES:', 'ARIEL:', 'III:', 'DUCHESS']"
            ]
          },
          "metadata": {},
          "execution_count": 22
        }
      ]
    },
    {
      "cell_type": "code",
      "source": [
        "# evaluation - do not change\n",
        "start_time = time.time()\n",
        "hit_at_k = 0.\n",
        "for a,b,c,d in tqdm(task): # Note down this Inference Time\n",
        "  d_ = get_nearest_neighbours(\n",
        "        word_or_vector=w_vectors[word_to_idx[a]]+w_vectors[word_to_idx[b]]-w_vectors[word_to_idx[c]],\n",
        "        top_k=100,\n",
        "        vectors=w_vectors,\n",
        "        norms=w_vectors_norms,\n",
        "      )\n",
        "  # Note that we could have used c_vectors as well instead of w_vectors\n",
        "  if d in d_:\n",
        "    hit_at_k += 1\n",
        "hit_at_k/=len(task)\n",
        "print('inference time:', time.time() - start_time)\n",
        "print(hit_at_k)"
      ],
      "metadata": {
        "id": "x59eG1yioV9l",
        "colab": {
          "base_uri": "https://localhost:8080/",
          "height": 86,
          "referenced_widgets": [
            "9092e38dc8a243529139297fa99151d3",
            "95ec6b1b6bf24976be60371b6b87fc95",
            "26e87def849e471eadf11376708c7f9e",
            "6008ed669a94407cae5fe4adb93f541e",
            "f2811e32ea534d9d827ee8f42ca2dcfe",
            "0742b2a6f9304655a5742d63abd7e0b6",
            "8625b9e602004e0f9146ee26079891d9",
            "89c4e4bc8a474b8e88b81021fb2761c9",
            "3865d6f0e8cf47e496f9670ce8df0072",
            "0e0b4ae7f22f4d2dba1af409116bc3d9",
            "10fdc697406b4ac998d7242bc816d03f"
          ]
        },
        "outputId": "11849d84-9458-462f-fd27-72fcc3804170"
      },
      "execution_count": null,
      "outputs": [
        {
          "output_type": "display_data",
          "data": {
            "text/plain": [
              "  0%|          | 0/2396 [00:00<?, ?it/s]"
            ],
            "application/vnd.jupyter.widget-view+json": {
              "version_major": 2,
              "version_minor": 0,
              "model_id": "9092e38dc8a243529139297fa99151d3"
            }
          },
          "metadata": {}
        },
        {
          "output_type": "stream",
          "name": "stdout",
          "text": [
            "inference time: 9.677460670471191\n",
            "0.012103505843071787\n"
          ]
        }
      ]
    },
    {
      "cell_type": "markdown",
      "source": [
        "## Comparison of embeddings\n",
        "\n",
        "We have trained two variants of embeddings, we can compare their results in terms of:\n",
        "- Analogy Task Hit@100 scores\n",
        "- Training and Inference Speed (time taken)\n",
        "- Memory Requirement\n"
      ],
      "metadata": {
        "id": "hGmHRUXWxJbI"
      }
    },
    {
      "cell_type": "code",
      "source": [
        "import sys\n",
        "print(\"size of ppmi vector embeddings in MBs: \", sys.getsizeof(ppmi) / 1024 / 1024)\n",
        "print(\"size of word2vec vector embeddings in MBs: \", sys.getsizeof(w_vectors) / 1024 / 1024)"
      ],
      "metadata": {
        "id": "wj5YcZRomI8J",
        "colab": {
          "base_uri": "https://localhost:8080/"
        },
        "outputId": "7f4721a3-03b3-492c-be5b-41635a45293f"
      },
      "execution_count": null,
      "outputs": [
        {
          "output_type": "stream",
          "name": "stdout",
          "text": [
            "size of ppmi vector embeddings in MBs:  2504.4398498535156\n",
            "size of word2vec vector embeddings in MBs:  6.911590576171875\n"
          ]
        }
      ]
    },
    {
      "cell_type": "markdown",
      "source": [
        "\n",
        "\n",
        "Method|Training Speed|Inference Speed|Memory|Analogy\n",
        "---|---|---|---|---\n",
        "PPMI|22.314 secs|12.685 secs|2504.44 MB|0.00041\n",
        "SGNS|628.064 secs|9.677 secs|6.911 MB|0.012"
      ],
      "metadata": {
        "id": "oGItsjf-s0_W"
      }
    },
    {
      "cell_type": "markdown",
      "source": [
        "## Difference in Results\n",
        "\n",
        "Hypothesizing the cause of the differences in training speed, inference speed, memory, and analogy results between the two methods.\n",
        "\n",
        "\n",
        "1. **Training Speed**:\n",
        "   PPMI is faster to train because it relies on a co-occurrence matrix and counts, which are quickly calculated using matrix factorization techniques. Once the matrix is built, embeddings can be derived efficiently. SGNS, on the other hand, is trained using stochastic gradient descent (SGD) over many iterations and uses negative sampling to optimize the embeddings. This process slows down training as compared to PPMI.\n",
        "\n",
        "2. **Inference Speed**:\n",
        "   PPMI has slower inference speed because it computes similarities based on the dense, large co-occurrence matrix. PPMI embeddings are often dense and high-dimensional and hence calculating similarities becomes slower. SGNS generates embeddings directly during training and the vectors produced by SGNS are lower-dimensional, resulting in faster inference speed.\n",
        "\n",
        "3. **Memory Usage**:\n",
        "   PPMI requires storing a large co-occurrence matrix, which consumes more memory, especially for large vocabularies. This matrix is dense and can occupy significant space. SGNS uses sparse representations and negative sampling, which reduces the need for storing large matrices. The model only keeps word vectors and context vectors, making it much more memory-efficient.\n",
        "\n",
        "4. **Analogy Results**:\n",
        "   SGNS performs better on analogy tasks because it optimizes word vectors to capture relationships through context-based learning and negative sampling, which helps in capturing semantic regularities.On the other hand, PPMI uses statistical information (co-occurrence counts) that does not directly optimize for such semantic relationships, leading to poorer performance in analogy tests.\n",
        "\n"
      ],
      "metadata": {
        "id": "E2NxDNdms_J8"
      }
    },
    {
      "cell_type": "markdown",
      "source": [
        "# Context Aware Embeddings using Self-Attention"
      ],
      "metadata": {
        "id": "16AkpRC3wnhR"
      }
    },
    {
      "cell_type": "markdown",
      "source": [
        "## Self-Attention\n",
        "\n",
        "Self-Attention is a type of a scaled dot-product attention. It allows the model to weigh different positions of a sequence differently when constructing a representation of that sequence. This is crucial in NLP tasks because it enables the model to focus on relevant parts of a sentence, regardless of their position in the sequence.\n",
        "\n",
        "Given an input sequence with $n$ tokens, each token is first converted into an embedding vector. Let's denote these embeddings as $\\mathbf{X} \\in \\mathbb{R}^{n \\times d_{\\text{model}}}$, where $d_{\\text{model}}$ is the dimension of the embeddings.\n",
        "\n",
        "For each token, we compute three vectors: Query ($\\mathbf{Q}$), Key ($\\mathbf{K}$), and Value ($\\mathbf{V}$). These vectors are obtained by multiplying the input embeddings by three learnable weight matrices:\n",
        "\n",
        "$$\n",
        "\\mathbf{Q} = \\mathbf{X}\\mathbf{W}_Q, \\quad \\mathbf{K} = \\mathbf{X}\\mathbf{W}_K, \\quad \\mathbf{V} = \\mathbf{X}\\mathbf{W}_V\n",
        "$$\n",
        "\n",
        "where:\n",
        "\n",
        "*  $\\mathbf{W}_Q \\in \\mathbb{R}^{d_{\\text{model}} \\times d_k}$,\n",
        "*  $\\mathbf{W}_K \\in \\mathbb{R}^{d_{\\text{model}} \\times d_k}$\n",
        "*  $\\mathbf{W}_V \\in \\mathbb{R}^{d_{\\text{model}} \\times d_v}$\n",
        "\n",
        "$d_k$ and $d_v$ are the dimensions of the Query/Key and Value vectors, respectively.\n",
        "\n",
        "The attention mechanism calculates the attention scores between the Query and Key vectors to determine how much focus should be placed on different tokens in the sequence.\n",
        "\n",
        "The attention scores are computed using the dot product of the Query and Key vectors, scaled by the square root of the dimension of the Key vectors $d_k$:\n",
        "\n",
        "$$\n",
        "\\text{Attention}(\\mathbf{Q}, \\mathbf{K}, \\mathbf{V}) = \\text{softmax}\\left(\\frac{\\mathbf{Q}\\mathbf{K}^\\top}{\\sqrt{d_k}}\\right)\\mathbf{V}\n",
        "$$\n",
        "\n",
        "Here:\n",
        "\n",
        "* $\\mathbf{Q}\\mathbf{K}^\\top$ gives the similarity scores between the Query and Key vectors.\n",
        "* $\\frac{1}{\\sqrt{d_k}}$ is a scaling factor to prevent the dot products from growing too large, which could lead to very small gradients.\n",
        "* The softmax function normalizes the scores so that they sum to 1.\n",
        "* The resulting matrix is then multiplied by the Value matrix $\\mathbf{V}$ to produce the output.\n",
        "\n"
      ],
      "metadata": {
        "id": "TORY-8LywtUY"
      }
    },
    {
      "cell_type": "code",
      "source": [
        "import numpy as np\n",
        "\n",
        "from abc import ABC, abstractmethod\n",
        "\n",
        "class NNComp(ABC):\n",
        "    @abstractmethod\n",
        "    def forward(self, x):\n",
        "        pass\n",
        "\n",
        "    @abstractmethod\n",
        "    def backward(self, incoming_grad):\n",
        "        pass\n",
        "\n",
        "\n",
        "class Linear(NNComp):\n",
        "    def __init__(self, in_dim, out_dim):\n",
        "        k = 1 / in_dim\n",
        "        self.in_dim = in_dim\n",
        "        self.out_dim = out_dim\n",
        "\n",
        "        # initialize the weights and the bias\n",
        "        self.weight = np.random.uniform(-np.sqrt(k), np.sqrt(k), size=(in_dim, out_dim))\n",
        "        self.bias = np.random.uniform(-np.sqrt(k), np.sqrt(k), size=out_dim)\n",
        "\n",
        "        # backward prop\n",
        "        self.backward_context = None\n",
        "        self.dweight = np.empty_like(self.weight, dtype=float)\n",
        "        self.dbias = np.empty_like(self.bias, dtype=float)\n",
        "\n",
        "    def forward(self, x):\n",
        "        assert np.shape(x)[-1] == self.in_dim\n",
        "        self.backward_context = x\n",
        "        return x @ self.weight + self.bias\n",
        "\n",
        "    def backward(self, incoming_grad):\n",
        "        self.dweight = self.backward_context.T @ incoming_grad\n",
        "        self.dbias = incoming_grad.sum(axis=0)\n",
        "        return incoming_grad @ self.weight.T\n",
        "\n",
        "    def update_parameters(self, lr):\n",
        "        self.weight -= lr * self.dweight\n",
        "        self.bias -= lr * self.dbias\n",
        "\n",
        "\n",
        "class LogSoftmax(NNComp):\n",
        "    def __init__(self):\n",
        "        self.backward_context = None\n",
        "\n",
        "    def forward(self, x):\n",
        "        self.backward_context = x - np.max(x, axis=-1, keepdims=True)\n",
        "        return self.backward_context - np.log(np.exp(self.backward_context).sum(axis=-1, keepdims=True))\n",
        "\n",
        "    def backward(self, incoming_grad):\n",
        "        softmax = np.exp(self.backward_context) / np.exp(self.backward_context).sum(axis=-1, keepdims=True)\n",
        "        return incoming_grad - softmax * incoming_grad.sum(axis=-1, keepdims=True)"
      ],
      "metadata": {
        "id": "vhhy9Sdtwh0G"
      },
      "execution_count": null,
      "outputs": []
    },
    {
      "cell_type": "markdown",
      "source": [
        "## Implementing the Self-Attention Module"
      ],
      "metadata": {
        "id": "4wOZPRtnP9jT"
      }
    },
    {
      "cell_type": "code",
      "source": [
        "from sklearn.feature_extraction.text import CountVectorizer\n",
        "from sklearn.linear_model import LogisticRegression\n",
        "from sklearn.metrics import accuracy_score"
      ],
      "metadata": {
        "id": "ZAUml-JelmhP"
      },
      "execution_count": null,
      "outputs": []
    },
    {
      "cell_type": "code",
      "source": [
        "class SelfAttention(NNComp):\n",
        "    def __init__(self, embed_dim):\n",
        "        self.embed_dim = embed_dim # Specify the embedding dimension\n",
        "\n",
        "        # Initializer Q, K, V vectors\n",
        "        self.query_layer = Linear(embed_dim, embed_dim)\n",
        "        self.key_layer = Linear(embed_dim, embed_dim)\n",
        "        self.value_layer = Linear(embed_dim, embed_dim)\n",
        "        self.softmax = LogSoftmax()\n",
        "\n",
        "        self.backward_context = None\n",
        "\n",
        "    def forward(self, x):\n",
        "        # Setting up the Q, K, V vectors\n",
        "        Q = self.query_layer.forward(x)\n",
        "        K = self.key_layer.forward(x)\n",
        "        V = self.value_layer.forward(x)\n",
        "\n",
        "        # Compute attention scores\n",
        "        scores = Q @ K.T / np.sqrt(self.embed_dim)\n",
        "\n",
        "        # Normalize scores using LogSoftmax and exponentiate to get attention weights\n",
        "        log_attention_weights = self.softmax.forward(scores)\n",
        "        attention_weights = np.exp(log_attention_weights)\n",
        "\n",
        "        # Compute the output by weighting V with attention weights\n",
        "        output = attention_weights @ V\n",
        "\n",
        "        # Store variables needed for backward pass\n",
        "        self.backward_context = {\n",
        "            'Q': Q,\n",
        "            'K': K,\n",
        "            'V': V,\n",
        "            'attention_weights': attention_weights,\n",
        "            'x': x\n",
        "        }\n",
        "\n",
        "        return output\n",
        "\n",
        "    def backward(self, incoming_grad):\n",
        "\n",
        "        Q = self.backward_context['Q']\n",
        "        K = self.backward_context['K']\n",
        "        V = self.backward_context['V']\n",
        "        attention_weights = self.backward_context['attention_weights']\n",
        "        x = self.backward_context['x']\n",
        "\n",
        "        # Gradient w.r.t V\n",
        "        grad_V = attention_weights.T @ incoming_grad\n",
        "\n",
        "        # Gradient w.r.t attention weights\n",
        "        grad_attention_weights = incoming_grad @ V.T\n",
        "\n",
        "        # Gradient w.r.t scores via LogSoftmax backward pass\n",
        "        grad_log_attention_weights = grad_attention_weights * attention_weights\n",
        "        grad_scores = self.softmax.backward(grad_log_attention_weights)\n",
        "\n",
        "        # Scale factor for attention scores\n",
        "        scale = 1 / np.sqrt(self.embed_dim)\n",
        "\n",
        "        # Gradients w.r.t Q and K\n",
        "        grad_Q = grad_scores @ K * scale\n",
        "        grad_K = grad_scores.T @ Q * scale\n",
        "\n",
        "        # Backpropagate through linear layers\n",
        "        grad_x_query = self.query_layer.backward(grad_Q)\n",
        "        grad_x_key = self.key_layer.backward(grad_K)\n",
        "        grad_x_value = self.value_layer.backward(grad_V)\n",
        "\n",
        "        # Total gradient w.r.t input x\n",
        "        grad_x = grad_x_query + grad_x_key + grad_x_value\n",
        "\n",
        "        return grad_x\n",
        "\n",
        "    def update_parameters(self, lr):\n",
        "        self.query_layer.update_parameters(lr)\n",
        "        self.key_layer.update_parameters(lr)\n",
        "        self.value_layer.update_parameters(lr)"
      ],
      "metadata": {
        "id": "T0_n2A20kV_-"
      },
      "execution_count": null,
      "outputs": []
    },
    {
      "cell_type": "markdown",
      "source": [
        "## Training Self-Attention Module\n",
        "\n",
        "We will use the word embeddings developed in word2vec and apply Self-Attention on them to obtain **contextual embeddings**.\n",
        "\n",
        "Contextual embeddings, like those from BERT or GPT, capture the meaning of a word based on the context in which it appears, producing different embeddings for the same word in different contexts. In contrast, Word2Vec generates static embeddings, where each word has a single fixed vector representation regardless of its context.\n",
        "\n",
        "For this, we will use the dataset from the [SuperGLUE Benchmark](https://super.gluebenchmark.com/) called 'Words in Context' (WiC [link text](https://aclanthology.org/N19-1128/)). This task evaluates settings where the \"context\" of the word is important to infer its meaning -- for example, the meaning of the word \"bank\" changes when used in context of money or a river.\n",
        "\n",
        "This dataset comprises of a pair of sentences, and a binary label. The label is 1 if a target word is used in the same context, and 0 otherwise. See examples below."
      ],
      "metadata": {
        "id": "BEetHtyDRhKA"
      }
    },
    {
      "cell_type": "code",
      "source": [
        "from datasets import load_dataset\n",
        "\n",
        "# Load the SuperGLUE WiC dataset\n",
        "dataset = load_dataset('super_glue', 'wic', trust_remote_code=True)\n",
        "\n",
        "# Extract the training and testing data\n",
        "train_data = dataset['train']\n",
        "test_data = dataset['validation']\n",
        "\n",
        "# Prepare sentences and labels\n",
        "sentences_1_train = train_data['sentence1']\n",
        "sentences_2_train = train_data['sentence2']\n",
        "labels_train = train_data['label']\n",
        "\n",
        "sentences_1_test = test_data['sentence1']\n",
        "sentences_2_test = test_data['sentence2']\n",
        "labels_test = test_data['label']"
      ],
      "metadata": {
        "id": "CWAcFkkYD55D",
        "colab": {
          "base_uri": "https://localhost:8080/",
          "height": 340,
          "referenced_widgets": [
            "4783980e7579499f98c6a193a01fa429",
            "56b689d90522428993bbc4a44a6b117f",
            "8031c570532c4101ba69167548726e97",
            "86cde0cced094b40b951776d8f2c3dc0",
            "1f3d4c1718b443e4ba524a61e9cf7c5c",
            "f9c8a6ee11014d82a2d653a471a30c9f",
            "5280c7b56da0471cbbe54f3f1aa5f5f6",
            "e1de0752cae04a9aa2ca3cda1ab8f344",
            "c3a0eb8d7b094e848842d7a82fba9255",
            "7eebc5f7ae634b799651ac002006f844",
            "bc20ac4bbd35446cb554f1ea574bee8d",
            "aa7e534246e147c7927df6cf32fffe69",
            "d428d0469e7d44d78e58e881aa7323e8",
            "dc619c3a186c488baeae39bcaa7ddcae",
            "82b48e1063624a48bed8c68378a15954",
            "9282355b7ee44db79afc2e8f12ad0fe4",
            "402b8bcaeecf4c3c89ecd3253db94277",
            "bf2c8d491f0342ed90e2fa5691430916",
            "3a00575956b94368ad2e99c57c563937",
            "dd8e058e27ff40f18ef8830333db4d01",
            "dfbf964e0e59483988e8869d298f05b1",
            "5bd48670d1da4f37b0a2f542ee0f7553",
            "41073c5affd543389edeb6ad2ef308bb",
            "a2b3b467249f46cfb5113cf8e4d57c19",
            "02a343add5a14c5f9df76398f5b75593",
            "35afc4857e3b4d12bfc072aafda6d1a5",
            "312b9a62e44e4728978b253a82c1f551",
            "5921a0e766c74ace88234360afc4f0f7",
            "5f4c5c0169ab4913a0d0f1dbe0d852e8",
            "bf37eba755d045d5bce456ae937ddbc7",
            "2a6bdb36acb74b019284a463ae4e5104",
            "f0e2c9174cdf494eb34d3326f77bf6dd",
            "8ed49df8ba754995a9f0b621781e3b46",
            "8119f3a4780b4a609d302e5c71019ea3",
            "5d33fb357edb4380880686d73ad6d939",
            "d65111b773de40d18fea45646e643aad",
            "2abe38ff4a954ea689291a90d5d7add6",
            "fa1ad6bb80944fe29820850f6aa7d0c9",
            "134ac1060bdc4f25885195130f4c13f6",
            "2ebd8807f10f4fa7b841c7079bee7a0f",
            "bb7cf0a7ff5d49928ffaefcdbd7b9b2e",
            "2ad34aff86f0459d8da24268d30b9780",
            "22248747d1394cc0916ea35f84307b50",
            "de6fb9902c6740018e6e19de7f43351b",
            "0039260d4a5448bcb9745f4e3b254be2",
            "b4c0ae25a1ab4d238e1c8248072b6ed5",
            "7ad8efe0304340648440a5ca75b7ece6",
            "4b2f852973dd4b5cae1a80227c4a6bfe",
            "4f6cf64809694568aada809d74b29318",
            "424bc9271e834c6395778abf66c77270",
            "25a8c7fc3c15458d89f804a248a4e20d",
            "d4ea4efad86a4a22a095f765f7b78040",
            "b3a28c922c45427cbda0baccd7e6fcb7",
            "8e021a826a4440fdb3362b495a5a14b2",
            "55a1441827794632a82815ec366ff5e3",
            "2c3cf30d1428425487200c73732f5cc4",
            "1aa23c96ec8d4a8f96d2370fb9511537",
            "990407b84138433dbacdf86d3b455797",
            "36065c9258764d3fa6307b5e0fed5f69",
            "02b60422d8dc4ce1801733c13daaabbb",
            "fd2917d20a414ac8aa3e41e28efc49dc",
            "b68cb366dc974d0594d549d19bd003c5",
            "07bfa33216c94804aaa7ebf18bdf090b",
            "d65bcb59b394407ba7a12dbf43ad384e",
            "2847257c0607419dadfde7c15e68f2ca",
            "04fb8bddce73408098e7ce04ef816d2e"
          ]
        },
        "outputId": "2352d2d8-4bcf-4525-8070-e06fc5dd6cd2"
      },
      "execution_count": null,
      "outputs": [
        {
          "output_type": "stream",
          "name": "stderr",
          "text": [
            "/usr/local/lib/python3.10/dist-packages/huggingface_hub/utils/_token.py:89: UserWarning: \n",
            "The secret `HF_TOKEN` does not exist in your Colab secrets.\n",
            "To authenticate with the Hugging Face Hub, create a token in your settings tab (https://huggingface.co/settings/tokens), set it as secret in your Google Colab and restart your session.\n",
            "You will be able to reuse this secret in all of your notebooks.\n",
            "Please note that authentication is recommended but still optional to access public models or datasets.\n",
            "  warnings.warn(\n"
          ]
        },
        {
          "output_type": "display_data",
          "data": {
            "text/plain": [
              "super_glue.py:   0%|          | 0.00/30.7k [00:00<?, ?B/s]"
            ],
            "application/vnd.jupyter.widget-view+json": {
              "version_major": 2,
              "version_minor": 0,
              "model_id": "4783980e7579499f98c6a193a01fa429"
            }
          },
          "metadata": {}
        },
        {
          "output_type": "display_data",
          "data": {
            "text/plain": [
              "README.md:   0%|          | 0.00/18.2k [00:00<?, ?B/s]"
            ],
            "application/vnd.jupyter.widget-view+json": {
              "version_major": 2,
              "version_minor": 0,
              "model_id": "aa7e534246e147c7927df6cf32fffe69"
            }
          },
          "metadata": {}
        },
        {
          "output_type": "display_data",
          "data": {
            "text/plain": [
              "Downloading data:   0%|          | 0.00/396k [00:00<?, ?B/s]"
            ],
            "application/vnd.jupyter.widget-view+json": {
              "version_major": 2,
              "version_minor": 0,
              "model_id": "41073c5affd543389edeb6ad2ef308bb"
            }
          },
          "metadata": {}
        },
        {
          "output_type": "display_data",
          "data": {
            "text/plain": [
              "Generating train split:   0%|          | 0/5428 [00:00<?, ? examples/s]"
            ],
            "application/vnd.jupyter.widget-view+json": {
              "version_major": 2,
              "version_minor": 0,
              "model_id": "8119f3a4780b4a609d302e5c71019ea3"
            }
          },
          "metadata": {}
        },
        {
          "output_type": "display_data",
          "data": {
            "text/plain": [
              "Generating validation split:   0%|          | 0/638 [00:00<?, ? examples/s]"
            ],
            "application/vnd.jupyter.widget-view+json": {
              "version_major": 2,
              "version_minor": 0,
              "model_id": "0039260d4a5448bcb9745f4e3b254be2"
            }
          },
          "metadata": {}
        },
        {
          "output_type": "display_data",
          "data": {
            "text/plain": [
              "Generating test split:   0%|          | 0/1400 [00:00<?, ? examples/s]"
            ],
            "application/vnd.jupyter.widget-view+json": {
              "version_major": 2,
              "version_minor": 0,
              "model_id": "2c3cf30d1428425487200c73732f5cc4"
            }
          },
          "metadata": {}
        }
      ]
    },
    {
      "cell_type": "code",
      "source": [
        "# Example of an instance where the meaning of the word \"place\" is not the same\n",
        "sentences_1_train[0], sentences_2_train[0], labels_train[0]"
      ],
      "metadata": {
        "id": "LFox7OcVWRBI",
        "colab": {
          "base_uri": "https://localhost:8080/"
        },
        "outputId": "38aa4a41-cf05-4a57-956f-ed61873f2e98"
      },
      "execution_count": null,
      "outputs": [
        {
          "output_type": "execute_result",
          "data": {
            "text/plain": [
              "('Do you want to come over to my place later?',\n",
              " 'A political system with no place for the less prominent groups.',\n",
              " 0)"
            ]
          },
          "metadata": {},
          "execution_count": 30
        }
      ]
    },
    {
      "cell_type": "code",
      "source": [
        "# Example of an instance where the meaning of the word \"summer\" is the same\n",
        "sentences_1_train[4], sentences_2_train[4], labels_train[4]"
      ],
      "metadata": {
        "id": "pGVa2FFGWsdd",
        "colab": {
          "base_uri": "https://localhost:8080/"
        },
        "outputId": "3c51e67e-863f-413c-c0de-907090aea802"
      },
      "execution_count": null,
      "outputs": [
        {
          "output_type": "execute_result",
          "data": {
            "text/plain": [
              "('We like to summer in the Mediterranean.', 'We summered in Kashmir.', 1)"
            ]
          },
          "metadata": {},
          "execution_count": 31
        }
      ]
    },
    {
      "cell_type": "markdown",
      "source": [
        "Given this dataset, you first need to train a Self-Attention Model over the word2vec embeddings, to better learn the context and position of words on this dataset.\n",
        "\n",
        "For training self-attention, we will make use of a Binary Cross Entropy Loss. First, we perform a forward pass through the self-attention model for both sentences:\n",
        "\n",
        "$$\n",
        "\\text{output}_1 = \\text{AttentionModel}(\\text{emb}_1) \\quad \\text{and} \\quad \\text{output}_2 = \\text{AttentionModel}(\\text{emb}_2)\n",
        "$$\n",
        "\n",
        "These outputs are the contextual embeddings for the first and second sentences, respectively.\n",
        "\n",
        "Next, we compute the similarity score between the two outputs using cosine similarity:\n",
        "\n",
        "$$\n",
        "\\text{similarity} = \\frac{\\text{output}_1 \\cdot \\text{output}_2}{\\|\\text{output}_1\\| \\|\\text{output}_2\\|}\n",
        "$$\n",
        "\n",
        "We then apply the sigmoid function to this similarity score to obtain a predicted probability:\n",
        "\n",
        "$$\n",
        "\\text{predicted} = \\frac{1}{1 + e^{-\\text{similarity}}}\n",
        "$$\n",
        "\n",
        "Given a target label $\\text{target} \\in \\{0, 1\\}$, we compute the Binary Cross-Entropy Loss:\n",
        "\n",
        "$$\n",
        "\\text{loss} = - \\left( \\text{target} \\cdot \\log(\\text{predicted} + 10^{-10}) + (1 - \\text{target}) \\cdot \\log(1 - \\text{predicted} + 10^{-10}) \\right)\n",
        "$$\n",
        "\n",
        "Note that we add $10^{-10}$ for stability in log, during training.\n",
        "\n",
        "The gradient of the loss with respect to the predicted output is:\n",
        "\n",
        "$$\n",
        "\\text{grad_loss} = \\text{predicted} - \\text{target}\n",
        "$$\n",
        "\n",
        "Finally, we backpropagate the gradients through the attention model for both embeddings.\n"
      ],
      "metadata": {
        "id": "3oK7lh85XmjJ"
      }
    },
    {
      "cell_type": "code",
      "source": [
        "def normalize_embeddings(embeddings):\n",
        "  mean = np.mean(embeddings, axis=0)\n",
        "  std = np.std(embeddings, axis=0)\n",
        "  return (embeddings - mean) / (std + 1e-8)\n",
        "\n",
        "def extract_w2v_embeddings(sentences, max_tokens=10):\n",
        "  embeddings = []\n",
        "  for sentence in sentences:\n",
        "    w2v_embeddings_sentence = []\n",
        "    words = sentence.split()\n",
        "\n",
        "    for word in words:\n",
        "      if word in word_to_idx:\n",
        "        w2v_embeddings_sentence.append(w_vectors[word_to_idx[word]])\n",
        "\n",
        "    if len(w2v_embeddings_sentence) < max_tokens:\n",
        "      pad_tokens = max_tokens - len(w2v_embeddings_sentence)\n",
        "      w2v_embeddings_sentence.extend([np.zeros(D) for i in range(pad_tokens)])\n",
        "    else:\n",
        "      w2v_embeddings_sentence = w2v_embeddings_sentence[:max_tokens]\n",
        "\n",
        "    embeddings.append(np.array(w2v_embeddings_sentence))\n",
        "\n",
        "  return embeddings\n",
        "\n",
        "input_embeddings_1 = extract_w2v_embeddings(sentences_1_train)\n",
        "input_embeddings_2 = extract_w2v_embeddings(sentences_2_train)"
      ],
      "metadata": {
        "id": "3v2d4nOQf2FR"
      },
      "execution_count": null,
      "outputs": []
    },
    {
      "cell_type": "code",
      "source": [
        "lr = 1e-5\n",
        "epochs = 10\n",
        "\n",
        "attention_model = SelfAttention(D)\n",
        "\n",
        "for epoch in range(epochs):\n",
        "    total_loss = 0\n",
        "    for i, (emb1, emb2) in enumerate(zip(input_embeddings_1, input_embeddings_2)):\n",
        "        # Forward pass through self-attention model for both sentences\n",
        "        emb1 = np.array(emb1)\n",
        "        emb2 = np.array(emb2)\n",
        "        max_tokens = emb1.shape[0]\n",
        "        out1 = attention_model.forward(emb1)\n",
        "        out2 = attention_model.forward(emb2)\n",
        "        sent_repr1 = np.mean(out1, axis=0)\n",
        "        sent_repr2 = np.mean(out2, axis=0)\n",
        "\n",
        "        # Compute similarity score between the two outputs (e.g., cosine similarity)\n",
        "        dot_product = np.dot(sent_repr1, sent_repr2)\n",
        "        norm1 = np.linalg.norm(sent_repr1)\n",
        "        norm2 = np.linalg.norm(sent_repr2)\n",
        "        cosine_similarity = dot_product / (norm1 * norm2 + 1e-8)\n",
        "\n",
        "        pred = 1 / (1 + np.exp(-cosine_similarity))\n",
        "\n",
        "        # Define target (either 0 or 1)\n",
        "        target = labels_train[i]\n",
        "\n",
        "        # Compute Binary Cross-Entropy Loss\n",
        "        epsilon = 1e-8  # To avoid log(0)\n",
        "        loss = - (target * np.log(pred + epsilon) + (1 - target) * np.log(1 - pred + epsilon))\n",
        "        total_loss += loss\n",
        "\n",
        "        # Compute gradient of the loss w.r.t. predicted output\n",
        "        d_pred = - (target / (pred + epsilon)) + ((1 - target) / (1 - pred + epsilon))\n",
        "\n",
        "        # Gradient through sigmoid\n",
        "        d_cosine_similarity = d_pred * pred * (1 - pred)\n",
        "\n",
        "        # Compute gradients w.r.t. sentence representations\n",
        "        d_sent_repr1 = (d_cosine_similarity / (norm1 * norm2 + 1e-8)) * (sent_repr2 - (dot_product / (norm1 ** 2 + 1e-8)) * sent_repr1)\n",
        "        d_sent_repr2 = (d_cosine_similarity / (norm1 * norm2 + 1e-8)) * (sent_repr1 - (dot_product / (norm2 ** 2 + 1e-8)) * sent_repr2)\n",
        "\n",
        "        d_out1 = (1 / max_tokens) * np.tile(d_sent_repr1, (emb1.shape[0], 1))\n",
        "        d_out2 = (1 / max_tokens) * np.tile(d_sent_repr2, (emb2.shape[0], 1))\n",
        "\n",
        "        # Backpropagate the gradients through the attention model for both embeddings\n",
        "        attention_model.backward(d_out1)\n",
        "        attention_model.backward(d_out2)\n",
        "\n",
        "        # Update parameters\n",
        "        attention_model.update_parameters(lr)\n",
        "\n",
        "    print(f\"Epoch {epoch+1}/{epochs}, Loss: {total_loss/len(input_embeddings_1)}\")"
      ],
      "metadata": {
        "id": "9dSYlRqJbCjH",
        "colab": {
          "base_uri": "https://localhost:8080/"
        },
        "outputId": "07fc9e20-2313-4e9a-a256-8f301546995b"
      },
      "execution_count": null,
      "outputs": [
        {
          "output_type": "stream",
          "name": "stdout",
          "text": [
            "Epoch 1/10, Loss: 0.7855745244128801\n",
            "Epoch 2/10, Loss: 0.7853744997547337\n",
            "Epoch 3/10, Loss: 0.7851718979900115\n",
            "Epoch 4/10, Loss: 0.7849666710929156\n",
            "Epoch 5/10, Loss: 0.7847587698915945\n",
            "Epoch 6/10, Loss: 0.7845481440364491\n",
            "Epoch 7/10, Loss: 0.7843347419674858\n",
            "Epoch 8/10, Loss: 0.7841185108808013\n",
            "Epoch 9/10, Loss: 0.7838993966940931\n",
            "Epoch 10/10, Loss: 0.7836773440111856\n"
          ]
        }
      ]
    },
    {
      "cell_type": "markdown",
      "source": [
        "## Word2vec vs. Contextual Embeddings"
      ],
      "metadata": {
        "id": "GqZ-uHYQwvKe"
      }
    },
    {
      "cell_type": "markdown",
      "source": [
        "We will now compare word2vec embeddings and the contextual embeddings we just made on the WiC task from above."
      ],
      "metadata": {
        "id": "Q3ytiioEQD4o"
      }
    },
    {
      "cell_type": "code",
      "source": [
        "# get_sentence_embeddings is a general purpose function that will create sentence embeddings given any type of embeddings\n",
        "def get_sentence_embeddings(sentences, attention_model=None):\n",
        "  feature_matrix = np.zeros((len(sentences), D))\n",
        "\n",
        "  for i, sentence in enumerate(sentences):\n",
        "    words = sentence.split()\n",
        "\n",
        "    # We only look for words that occur in our vocabulary (specially since we are using a different dataset to build the vocabulary)\n",
        "    word_indices = [word_to_idx[word] for word in words if word in word_to_idx]\n",
        "\n",
        "    # Sentence embeddings are created by aggregating the word embeddings obtained\n",
        "    if word_indices:\n",
        "      word_embeddings = w_vectors[word_indices, :]\n",
        "      if attention_model:\n",
        "        word_embeddings = attention_model.forward(word_embeddings)\n",
        "      feature_matrix[i] = np.mean(word_embeddings, axis=0)\n",
        "    else:\n",
        "      feature_matrix[i] = np.zeros(D)\n",
        "\n",
        "  return feature_matrix"
      ],
      "metadata": {
        "id": "cNoEoc6ZKbXV"
      },
      "execution_count": null,
      "outputs": []
    },
    {
      "cell_type": "code",
      "source": [
        "# Extract features for both sets of sentences in training and testing\n",
        "features_1_train_word2vec = get_sentence_embeddings(sentences_1_train)\n",
        "features_2_train_word2vec = get_sentence_embeddings(sentences_2_train)\n",
        "features_1_test_word2vec = get_sentence_embeddings(sentences_1_test)\n",
        "features_2_test_word2vec = get_sentence_embeddings(sentences_2_test)\n",
        "\n",
        "# Same for contextual embeddings\n",
        "features_1_train_contextual = get_sentence_embeddings(sentences_1_train, attention_model=attention_model)\n",
        "features_2_train_contextual = get_sentence_embeddings(sentences_2_train, attention_model=attention_model)\n",
        "features_1_test_contextual = get_sentence_embeddings(sentences_1_test, attention_model=attention_model)\n",
        "features_2_test_contextual = get_sentence_embeddings(sentences_2_test, attention_model=attention_model)"
      ],
      "metadata": {
        "id": "xkkPsKpTlY5-"
      },
      "execution_count": null,
      "outputs": []
    },
    {
      "cell_type": "code",
      "source": [
        "import numpy as np\n",
        "\n",
        "# Combine the features from both sentences for the classifier input\n",
        "X_train_word2vec = np.concatenate([features_1_train_word2vec, features_2_train_word2vec], axis=1)\n",
        "X_test_word2vec = np.concatenate([features_1_test_word2vec, features_2_test_word2vec], axis=1)\n",
        "\n",
        "X_train_contextual = np.concatenate([features_1_train_contextual, features_2_train_contextual], axis=1)\n",
        "X_test_contextual = np.concatenate([features_1_test_contextual, features_2_test_contextual], axis=1)"
      ],
      "metadata": {
        "id": "__4N64hJKA-g"
      },
      "execution_count": null,
      "outputs": []
    },
    {
      "cell_type": "code",
      "source": [
        "from sklearn.linear_model import LogisticRegression\n",
        "from sklearn.metrics import accuracy_score\n",
        "\n",
        "# Train classifier on word2vec embeddings\n",
        "clf_word2vec = LogisticRegression(max_iter=1000)\n",
        "clf_word2vec.fit(X_train_word2vec, labels_train)\n",
        "pred_word2vec = clf_word2vec.predict(X_test_word2vec)\n",
        "\n",
        "# Train classifier on contextual embeddings\n",
        "clf_contextual = LogisticRegression(max_iter=1000)\n",
        "clf_contextual.fit(X_train_contextual, labels_train)\n",
        "pred_contextual = clf_contextual.predict(X_test_contextual)\n",
        "\n",
        "# Evaluate and compare accuracies\n",
        "accuracy_word2vec = accuracy_score(labels_test, pred_word2vec)\n",
        "accuracy_contextual = accuracy_score(labels_test, pred_contextual)\n",
        "\n",
        "print(f\"Word2Vec Embeddings Accuracy: {accuracy_word2vec}\")\n",
        "print(f\"Contextual Embeddings Accuracy: {accuracy_contextual}\")"
      ],
      "metadata": {
        "id": "Fdx6SXXaKog0",
        "colab": {
          "base_uri": "https://localhost:8080/"
        },
        "outputId": "691f9f25-97b9-47a9-f896-e70421ab4b10"
      },
      "execution_count": null,
      "outputs": [
        {
          "output_type": "stream",
          "name": "stdout",
          "text": [
            "Word2Vec Embeddings Accuracy: 0.5454545454545454\n",
            "Contextual Embeddings Accuracy: 0.5501567398119123\n"
          ]
        }
      ]
    },
    {
      "cell_type": "markdown",
      "source": [
        "## Word2vec vs. Contextual Embeddings\n"
      ],
      "metadata": {
        "id": "jAhY3Q983sUw"
      }
    },
    {
      "cell_type": "markdown",
      "source": [
        "Contextual embeddings perform better than word2vec embeddings. This is because word2vec embedding is a static embedding whereas contextual embeddings are calculated dynamically based on the context of the word which gives more accurate representation of meaning of the word in varying contexts."
      ],
      "metadata": {
        "id": "mWrvGoGb368S"
      }
    },
    {
      "cell_type": "code",
      "source": [],
      "metadata": {
        "id": "DYNkfocmTTcj"
      },
      "execution_count": null,
      "outputs": []
    }
  ]
}